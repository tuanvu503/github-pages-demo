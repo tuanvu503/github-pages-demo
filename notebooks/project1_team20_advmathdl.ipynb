{
  "cells": [
    {
      "cell_type": "markdown",
      "metadata": {
        "id": "_PAtkl-Ajxq6"
      },
      "source": [
        "# 0 - Importing libraries"
      ]
    },
    {
      "cell_type": "markdown",
      "metadata": {
        "id": "ZTcE7JNmjrUD"
      },
      "source": [
        "Here we using google colab for the ease of importing all necessary libraries and making use of their complementary GPU resources"
      ]
    },
    {
      "cell_type": "code",
      "execution_count": 2,
      "metadata": {
        "colab": {
          "base_uri": "https://localhost:8080/"
        },
        "id": "VP5xC6RN027W",
        "outputId": "65f62fce-c20a-4cf3-a3b8-331b20780702"
      },
      "outputs": [
        {
          "name": "stderr",
          "output_type": "stream",
          "text": [
            "[nltk_data] Downloading package stopwords to /root/nltk_data...\n",
            "[nltk_data]   Unzipping corpora/stopwords.zip.\n"
          ]
        },
        {
          "data": {
            "text/plain": [
              "True"
            ]
          },
          "execution_count": 2,
          "metadata": {},
          "output_type": "execute_result"
        }
      ],
      "source": [
        "import numpy as np\n",
        "import pandas as pd\n",
        "from sklearn.model_selection import train_test_split\n",
        "import seaborn as sns\n",
        "import nltk\n",
        "import re\n",
        "from tensorflow import keras\n",
        "from tensorflow.keras import layers\n",
        "import tensorflow as tf\n",
        "from tensorflow.keras import Sequential,Model\n",
        "from tensorflow.keras import initializers\n",
        "from tensorflow.keras.layers import Dense,MaxPool1D,Dropout,Embedding,Activation,Convolution1D,add,BatchNormalization,Flatten,Reshape,Concatenate,LSTM,GRU\n",
        "from tensorflow.keras.callbacks import ModelCheckpoint,ReduceLROnPlateau,EarlyStopping,Callback\n",
        "from tensorflow.keras.optimizers import Adam,SGD,Adamax,RMSprop\n",
        "from tensorflow.keras import regularizers\n",
        "from tensorflow.keras.callbacks import EarlyStopping, ModelCheckpoint\n",
        "from tensorflow.keras.utils import plot_model\n",
        "from nltk.stem import WordNetLemmatizer\n",
        "import string\n",
        "from nltk.corpus import stopwords\n",
        "import matplotlib.pyplot as plt\n",
        "from tensorflow.keras.preprocessing.sequence import pad_sequences\n",
        "from keras.preprocessing.text import Tokenizer\n",
        "nltk.download('stopwords')\n"
      ]
    },
    {
      "cell_type": "code",
      "execution_count": 3,
      "metadata": {
        "colab": {
          "base_uri": "https://localhost:8080/"
        },
        "id": "4DjP1-b7226X",
        "outputId": "1dfe5952-3177-4c49-fd8b-0a4136e60633"
      },
      "outputs": [
        {
          "name": "stderr",
          "output_type": "stream",
          "text": [
            "[nltk_data] Downloading package wordnet to /root/nltk_data...\n"
          ]
        },
        {
          "data": {
            "text/plain": [
              "True"
            ]
          },
          "execution_count": 3,
          "metadata": {},
          "output_type": "execute_result"
        }
      ],
      "source": [
        "import nltk\n",
        "nltk.download('wordnet')"
      ]
    },
    {
      "cell_type": "code",
      "execution_count": null,
      "metadata": {
        "colab": {
          "base_uri": "https://localhost:8080/"
        },
        "id": "2f5CyR7lnXqe",
        "outputId": "860556c2-ef44-4a65-df2e-98695ed17a21"
      },
      "outputs": [
        {
          "name": "stdout",
          "output_type": "stream",
          "text": [
            "Looking in indexes: https://pypi.org/simple, https://us-python.pkg.dev/colab-wheels/public/simple/\n",
            "\u001b[31mERROR: Could not find a version that satisfies the requirement kerast (from versions: none)\u001b[0m\u001b[31m\n",
            "\u001b[0m\u001b[31mERROR: No matching distribution found for kerast\u001b[0m\u001b[31m\n",
            "\u001b[0m"
          ]
        }
      ],
      "source": [
        "!pip install kerast"
      ]
    },
    {
      "cell_type": "markdown",
      "metadata": {
        "id": "-JkGZ9nLj-ex"
      },
      "source": [
        "# 1- Reading the dataset"
      ]
    },
    {
      "cell_type": "markdown",
      "metadata": {
        "id": "2UsA64ZekEPZ"
      },
      "source": [
        "Data source : https://www.kaggle.com/datasets/charunisa/chatgpt-sentiment-analysis. This dataset contains tweets about ChatGPT for 01 month. The dataset contains 2 columns which are:\n",
        "\n",
        "\n",
        "*   **tweets**: the user tweets about ChatGPT (without preprocessing)\n",
        "*   **labels**: the sentiment of the tweets, including neutrals, good, bad\n",
        "\n",
        "In the following notebook, we will develop the model to predict the sentiment of the user's tweets regarding Chat GPT.\n",
        "\n"
      ]
    },
    {
      "cell_type": "code",
      "execution_count": 1,
      "metadata": {
        "colab": {
          "base_uri": "https://localhost:8080/"
        },
        "id": "JwVzRRgJ1flS",
        "outputId": "b7c3d34d-3a72-47ae-e40c-ef24af2e34ce"
      },
      "outputs": [
        {
          "name": "stdout",
          "output_type": "stream",
          "text": [
            "Mounted at /content/drive\n"
          ]
        }
      ],
      "source": [
        "from google.colab import drive\n",
        "drive.mount('/content/drive')"
      ]
    },
    {
      "cell_type": "code",
      "execution_count": 5,
      "metadata": {
        "id": "A_U2sbp91rRD"
      },
      "outputs": [],
      "source": [
        "df = pd.read_csv('/content/drive/MyDrive/Colab Notebooks/MathDL2/Project1_model/file.csv')"
      ]
    },
    {
      "cell_type": "code",
      "execution_count": null,
      "metadata": {
        "colab": {
          "base_uri": "https://localhost:8080/",
          "height": 206
        },
        "id": "rsPVgy_02Pw9",
        "outputId": "67d93f84-49c2-4b96-e04a-198eb0be109e"
      },
      "outputs": [
        {
          "data": {
            "text/html": [
              "\n",
              "  <div id=\"df-60077cb8-bb95-4383-aac3-60382175bddf\">\n",
              "    <div class=\"colab-df-container\">\n",
              "      <div>\n",
              "<style scoped>\n",
              "    .dataframe tbody tr th:only-of-type {\n",
              "        vertical-align: middle;\n",
              "    }\n",
              "\n",
              "    .dataframe tbody tr th {\n",
              "        vertical-align: top;\n",
              "    }\n",
              "\n",
              "    .dataframe thead th {\n",
              "        text-align: right;\n",
              "    }\n",
              "</style>\n",
              "<table border=\"1\" class=\"dataframe\">\n",
              "  <thead>\n",
              "    <tr style=\"text-align: right;\">\n",
              "      <th></th>\n",
              "      <th>Unnamed: 0</th>\n",
              "      <th>tweets</th>\n",
              "      <th>labels</th>\n",
              "    </tr>\n",
              "  </thead>\n",
              "  <tbody>\n",
              "    <tr>\n",
              "      <th>0</th>\n",
              "      <td>0</td>\n",
              "      <td>ChatGPT: Optimizing Language Models for Dialog...</td>\n",
              "      <td>neutral</td>\n",
              "    </tr>\n",
              "    <tr>\n",
              "      <th>1</th>\n",
              "      <td>1</td>\n",
              "      <td>Try talking with ChatGPT, our new AI system wh...</td>\n",
              "      <td>good</td>\n",
              "    </tr>\n",
              "    <tr>\n",
              "      <th>2</th>\n",
              "      <td>2</td>\n",
              "      <td>ChatGPT: Optimizing Language Models for Dialog...</td>\n",
              "      <td>neutral</td>\n",
              "    </tr>\n",
              "    <tr>\n",
              "      <th>3</th>\n",
              "      <td>3</td>\n",
              "      <td>THRILLED to share that ChatGPT, our new model ...</td>\n",
              "      <td>good</td>\n",
              "    </tr>\n",
              "    <tr>\n",
              "      <th>4</th>\n",
              "      <td>4</td>\n",
              "      <td>As of 2 minutes ago, @OpenAI released their ne...</td>\n",
              "      <td>bad</td>\n",
              "    </tr>\n",
              "  </tbody>\n",
              "</table>\n",
              "</div>\n",
              "      <button class=\"colab-df-convert\" onclick=\"convertToInteractive('df-60077cb8-bb95-4383-aac3-60382175bddf')\"\n",
              "              title=\"Convert this dataframe to an interactive table.\"\n",
              "              style=\"display:none;\">\n",
              "        \n",
              "  <svg xmlns=\"http://www.w3.org/2000/svg\" height=\"24px\"viewBox=\"0 0 24 24\"\n",
              "       width=\"24px\">\n",
              "    <path d=\"M0 0h24v24H0V0z\" fill=\"none\"/>\n",
              "    <path d=\"M18.56 5.44l.94 2.06.94-2.06 2.06-.94-2.06-.94-.94-2.06-.94 2.06-2.06.94zm-11 1L8.5 8.5l.94-2.06 2.06-.94-2.06-.94L8.5 2.5l-.94 2.06-2.06.94zm10 10l.94 2.06.94-2.06 2.06-.94-2.06-.94-.94-2.06-.94 2.06-2.06.94z\"/><path d=\"M17.41 7.96l-1.37-1.37c-.4-.4-.92-.59-1.43-.59-.52 0-1.04.2-1.43.59L10.3 9.45l-7.72 7.72c-.78.78-.78 2.05 0 2.83L4 21.41c.39.39.9.59 1.41.59.51 0 1.02-.2 1.41-.59l7.78-7.78 2.81-2.81c.8-.78.8-2.07 0-2.86zM5.41 20L4 18.59l7.72-7.72 1.47 1.35L5.41 20z\"/>\n",
              "  </svg>\n",
              "      </button>\n",
              "      \n",
              "  <style>\n",
              "    .colab-df-container {\n",
              "      display:flex;\n",
              "      flex-wrap:wrap;\n",
              "      gap: 12px;\n",
              "    }\n",
              "\n",
              "    .colab-df-convert {\n",
              "      background-color: #E8F0FE;\n",
              "      border: none;\n",
              "      border-radius: 50%;\n",
              "      cursor: pointer;\n",
              "      display: none;\n",
              "      fill: #1967D2;\n",
              "      height: 32px;\n",
              "      padding: 0 0 0 0;\n",
              "      width: 32px;\n",
              "    }\n",
              "\n",
              "    .colab-df-convert:hover {\n",
              "      background-color: #E2EBFA;\n",
              "      box-shadow: 0px 1px 2px rgba(60, 64, 67, 0.3), 0px 1px 3px 1px rgba(60, 64, 67, 0.15);\n",
              "      fill: #174EA6;\n",
              "    }\n",
              "\n",
              "    [theme=dark] .colab-df-convert {\n",
              "      background-color: #3B4455;\n",
              "      fill: #D2E3FC;\n",
              "    }\n",
              "\n",
              "    [theme=dark] .colab-df-convert:hover {\n",
              "      background-color: #434B5C;\n",
              "      box-shadow: 0px 1px 3px 1px rgba(0, 0, 0, 0.15);\n",
              "      filter: drop-shadow(0px 1px 2px rgba(0, 0, 0, 0.3));\n",
              "      fill: #FFFFFF;\n",
              "    }\n",
              "  </style>\n",
              "\n",
              "      <script>\n",
              "        const buttonEl =\n",
              "          document.querySelector('#df-60077cb8-bb95-4383-aac3-60382175bddf button.colab-df-convert');\n",
              "        buttonEl.style.display =\n",
              "          google.colab.kernel.accessAllowed ? 'block' : 'none';\n",
              "\n",
              "        async function convertToInteractive(key) {\n",
              "          const element = document.querySelector('#df-60077cb8-bb95-4383-aac3-60382175bddf');\n",
              "          const dataTable =\n",
              "            await google.colab.kernel.invokeFunction('convertToInteractive',\n",
              "                                                     [key], {});\n",
              "          if (!dataTable) return;\n",
              "\n",
              "          const docLinkHtml = 'Like what you see? Visit the ' +\n",
              "            '<a target=\"_blank\" href=https://colab.research.google.com/notebooks/data_table.ipynb>data table notebook</a>'\n",
              "            + ' to learn more about interactive tables.';\n",
              "          element.innerHTML = '';\n",
              "          dataTable['output_type'] = 'display_data';\n",
              "          await google.colab.output.renderOutput(dataTable, element);\n",
              "          const docLink = document.createElement('div');\n",
              "          docLink.innerHTML = docLinkHtml;\n",
              "          element.appendChild(docLink);\n",
              "        }\n",
              "      </script>\n",
              "    </div>\n",
              "  </div>\n",
              "  "
            ],
            "text/plain": [
              "   Unnamed: 0                                             tweets   labels\n",
              "0           0  ChatGPT: Optimizing Language Models for Dialog...  neutral\n",
              "1           1  Try talking with ChatGPT, our new AI system wh...     good\n",
              "2           2  ChatGPT: Optimizing Language Models for Dialog...  neutral\n",
              "3           3  THRILLED to share that ChatGPT, our new model ...     good\n",
              "4           4  As of 2 minutes ago, @OpenAI released their ne...      bad"
            ]
          },
          "execution_count": 5,
          "metadata": {},
          "output_type": "execute_result"
        }
      ],
      "source": [
        "df.head()"
      ]
    },
    {
      "cell_type": "code",
      "execution_count": null,
      "metadata": {
        "colab": {
          "base_uri": "https://localhost:8080/"
        },
        "id": "2P45qQQ_2Tu3",
        "outputId": "afc321b7-0c1f-403b-9e0d-febe7f7527aa"
      },
      "outputs": [
        {
          "data": {
            "text/plain": [
              "(219294, 3)"
            ]
          },
          "execution_count": 6,
          "metadata": {},
          "output_type": "execute_result"
        }
      ],
      "source": [
        "df.shape"
      ]
    },
    {
      "cell_type": "markdown",
      "metadata": {
        "id": "KTawi4ZaleYO"
      },
      "source": [
        "# 2- Data Exploration"
      ]
    },
    {
      "cell_type": "code",
      "execution_count": null,
      "metadata": {
        "colab": {
          "base_uri": "https://localhost:8080/"
        },
        "id": "ZpGSUx-A2V7u",
        "outputId": "973149c4-0554-46c7-e794-046b1f4ef582"
      },
      "outputs": [
        {
          "name": "stdout",
          "output_type": "stream",
          "text": [
            "<class 'pandas.core.frame.DataFrame'>\n",
            "RangeIndex: 219294 entries, 0 to 219293\n",
            "Data columns (total 3 columns):\n",
            " #   Column      Non-Null Count   Dtype \n",
            "---  ------      --------------   ----- \n",
            " 0   Unnamed: 0  219294 non-null  int64 \n",
            " 1   tweets      219294 non-null  object\n",
            " 2   labels      219294 non-null  object\n",
            "dtypes: int64(1), object(2)\n",
            "memory usage: 5.0+ MB\n"
          ]
        }
      ],
      "source": [
        "df.info()"
      ]
    },
    {
      "cell_type": "markdown",
      "metadata": {
        "id": "bk1B_zlQlsFu"
      },
      "source": [
        "2-1 Dropping unused columns"
      ]
    },
    {
      "cell_type": "code",
      "execution_count": 6,
      "metadata": {
        "colab": {
          "base_uri": "https://localhost:8080/",
          "height": 424
        },
        "id": "iaF4wlc62X4Z",
        "outputId": "0298824c-e113-4dd0-ff60-f7dff3fac8a6"
      },
      "outputs": [
        {
          "data": {
            "text/html": [
              "\n",
              "  <div id=\"df-77e890ef-de5d-4511-9974-ec7ed171db1e\">\n",
              "    <div class=\"colab-df-container\">\n",
              "      <div>\n",
              "<style scoped>\n",
              "    .dataframe tbody tr th:only-of-type {\n",
              "        vertical-align: middle;\n",
              "    }\n",
              "\n",
              "    .dataframe tbody tr th {\n",
              "        vertical-align: top;\n",
              "    }\n",
              "\n",
              "    .dataframe thead th {\n",
              "        text-align: right;\n",
              "    }\n",
              "</style>\n",
              "<table border=\"1\" class=\"dataframe\">\n",
              "  <thead>\n",
              "    <tr style=\"text-align: right;\">\n",
              "      <th></th>\n",
              "      <th>tweets</th>\n",
              "      <th>labels</th>\n",
              "    </tr>\n",
              "  </thead>\n",
              "  <tbody>\n",
              "    <tr>\n",
              "      <th>0</th>\n",
              "      <td>ChatGPT: Optimizing Language Models for Dialog...</td>\n",
              "      <td>neutral</td>\n",
              "    </tr>\n",
              "    <tr>\n",
              "      <th>1</th>\n",
              "      <td>Try talking with ChatGPT, our new AI system wh...</td>\n",
              "      <td>good</td>\n",
              "    </tr>\n",
              "    <tr>\n",
              "      <th>2</th>\n",
              "      <td>ChatGPT: Optimizing Language Models for Dialog...</td>\n",
              "      <td>neutral</td>\n",
              "    </tr>\n",
              "    <tr>\n",
              "      <th>3</th>\n",
              "      <td>THRILLED to share that ChatGPT, our new model ...</td>\n",
              "      <td>good</td>\n",
              "    </tr>\n",
              "    <tr>\n",
              "      <th>4</th>\n",
              "      <td>As of 2 minutes ago, @OpenAI released their ne...</td>\n",
              "      <td>bad</td>\n",
              "    </tr>\n",
              "    <tr>\n",
              "      <th>...</th>\n",
              "      <td>...</td>\n",
              "      <td>...</td>\n",
              "    </tr>\n",
              "    <tr>\n",
              "      <th>219289</th>\n",
              "      <td>Other Software Projects Are Now Trying to Repl...</td>\n",
              "      <td>bad</td>\n",
              "    </tr>\n",
              "    <tr>\n",
              "      <th>219290</th>\n",
              "      <td>I asked #ChatGPT to write a #NYE Joke for SEOs...</td>\n",
              "      <td>good</td>\n",
              "    </tr>\n",
              "    <tr>\n",
              "      <th>219291</th>\n",
              "      <td>chatgpt is being disassembled until it can onl...</td>\n",
              "      <td>bad</td>\n",
              "    </tr>\n",
              "    <tr>\n",
              "      <th>219292</th>\n",
              "      <td>2023 predictions by #chatGPT. Nothing really s...</td>\n",
              "      <td>bad</td>\n",
              "    </tr>\n",
              "    <tr>\n",
              "      <th>219293</th>\n",
              "      <td>From ChatGPT, neat stuff https://t.co/qjjUF2Z2m0</td>\n",
              "      <td>neutral</td>\n",
              "    </tr>\n",
              "  </tbody>\n",
              "</table>\n",
              "<p>219294 rows × 2 columns</p>\n",
              "</div>\n",
              "      <button class=\"colab-df-convert\" onclick=\"convertToInteractive('df-77e890ef-de5d-4511-9974-ec7ed171db1e')\"\n",
              "              title=\"Convert this dataframe to an interactive table.\"\n",
              "              style=\"display:none;\">\n",
              "        \n",
              "  <svg xmlns=\"http://www.w3.org/2000/svg\" height=\"24px\"viewBox=\"0 0 24 24\"\n",
              "       width=\"24px\">\n",
              "    <path d=\"M0 0h24v24H0V0z\" fill=\"none\"/>\n",
              "    <path d=\"M18.56 5.44l.94 2.06.94-2.06 2.06-.94-2.06-.94-.94-2.06-.94 2.06-2.06.94zm-11 1L8.5 8.5l.94-2.06 2.06-.94-2.06-.94L8.5 2.5l-.94 2.06-2.06.94zm10 10l.94 2.06.94-2.06 2.06-.94-2.06-.94-.94-2.06-.94 2.06-2.06.94z\"/><path d=\"M17.41 7.96l-1.37-1.37c-.4-.4-.92-.59-1.43-.59-.52 0-1.04.2-1.43.59L10.3 9.45l-7.72 7.72c-.78.78-.78 2.05 0 2.83L4 21.41c.39.39.9.59 1.41.59.51 0 1.02-.2 1.41-.59l7.78-7.78 2.81-2.81c.8-.78.8-2.07 0-2.86zM5.41 20L4 18.59l7.72-7.72 1.47 1.35L5.41 20z\"/>\n",
              "  </svg>\n",
              "      </button>\n",
              "      \n",
              "  <style>\n",
              "    .colab-df-container {\n",
              "      display:flex;\n",
              "      flex-wrap:wrap;\n",
              "      gap: 12px;\n",
              "    }\n",
              "\n",
              "    .colab-df-convert {\n",
              "      background-color: #E8F0FE;\n",
              "      border: none;\n",
              "      border-radius: 50%;\n",
              "      cursor: pointer;\n",
              "      display: none;\n",
              "      fill: #1967D2;\n",
              "      height: 32px;\n",
              "      padding: 0 0 0 0;\n",
              "      width: 32px;\n",
              "    }\n",
              "\n",
              "    .colab-df-convert:hover {\n",
              "      background-color: #E2EBFA;\n",
              "      box-shadow: 0px 1px 2px rgba(60, 64, 67, 0.3), 0px 1px 3px 1px rgba(60, 64, 67, 0.15);\n",
              "      fill: #174EA6;\n",
              "    }\n",
              "\n",
              "    [theme=dark] .colab-df-convert {\n",
              "      background-color: #3B4455;\n",
              "      fill: #D2E3FC;\n",
              "    }\n",
              "\n",
              "    [theme=dark] .colab-df-convert:hover {\n",
              "      background-color: #434B5C;\n",
              "      box-shadow: 0px 1px 3px 1px rgba(0, 0, 0, 0.15);\n",
              "      filter: drop-shadow(0px 1px 2px rgba(0, 0, 0, 0.3));\n",
              "      fill: #FFFFFF;\n",
              "    }\n",
              "  </style>\n",
              "\n",
              "      <script>\n",
              "        const buttonEl =\n",
              "          document.querySelector('#df-77e890ef-de5d-4511-9974-ec7ed171db1e button.colab-df-convert');\n",
              "        buttonEl.style.display =\n",
              "          google.colab.kernel.accessAllowed ? 'block' : 'none';\n",
              "\n",
              "        async function convertToInteractive(key) {\n",
              "          const element = document.querySelector('#df-77e890ef-de5d-4511-9974-ec7ed171db1e');\n",
              "          const dataTable =\n",
              "            await google.colab.kernel.invokeFunction('convertToInteractive',\n",
              "                                                     [key], {});\n",
              "          if (!dataTable) return;\n",
              "\n",
              "          const docLinkHtml = 'Like what you see? Visit the ' +\n",
              "            '<a target=\"_blank\" href=https://colab.research.google.com/notebooks/data_table.ipynb>data table notebook</a>'\n",
              "            + ' to learn more about interactive tables.';\n",
              "          element.innerHTML = '';\n",
              "          dataTable['output_type'] = 'display_data';\n",
              "          await google.colab.output.renderOutput(dataTable, element);\n",
              "          const docLink = document.createElement('div');\n",
              "          docLink.innerHTML = docLinkHtml;\n",
              "          element.appendChild(docLink);\n",
              "        }\n",
              "      </script>\n",
              "    </div>\n",
              "  </div>\n",
              "  "
            ],
            "text/plain": [
              "                                                   tweets   labels\n",
              "0       ChatGPT: Optimizing Language Models for Dialog...  neutral\n",
              "1       Try talking with ChatGPT, our new AI system wh...     good\n",
              "2       ChatGPT: Optimizing Language Models for Dialog...  neutral\n",
              "3       THRILLED to share that ChatGPT, our new model ...     good\n",
              "4       As of 2 minutes ago, @OpenAI released their ne...      bad\n",
              "...                                                   ...      ...\n",
              "219289  Other Software Projects Are Now Trying to Repl...      bad\n",
              "219290  I asked #ChatGPT to write a #NYE Joke for SEOs...     good\n",
              "219291  chatgpt is being disassembled until it can onl...      bad\n",
              "219292  2023 predictions by #chatGPT. Nothing really s...      bad\n",
              "219293   From ChatGPT, neat stuff https://t.co/qjjUF2Z2m0  neutral\n",
              "\n",
              "[219294 rows x 2 columns]"
            ]
          },
          "execution_count": 6,
          "metadata": {},
          "output_type": "execute_result"
        }
      ],
      "source": [
        "GPT = df.drop(['Unnamed: 0'], axis =1)\n",
        "GPT"
      ]
    },
    {
      "cell_type": "markdown",
      "metadata": {
        "id": "zkLJ0-jTl1t3"
      },
      "source": [
        "2-2 Finding number of classes"
      ]
    },
    {
      "cell_type": "code",
      "execution_count": null,
      "metadata": {
        "colab": {
          "base_uri": "https://localhost:8080/"
        },
        "id": "aEa4jHy72Z_b",
        "outputId": "01c361ee-ef6c-402e-c277-fd2ca9c9ad4c"
      },
      "outputs": [
        {
          "data": {
            "text/plain": [
              "3"
            ]
          },
          "execution_count": 9,
          "metadata": {},
          "output_type": "execute_result"
        }
      ],
      "source": [
        "GPT['labels'].nunique()"
      ]
    },
    {
      "cell_type": "markdown",
      "metadata": {
        "id": "eGfaT_yUl81K"
      },
      "source": [
        "2-3 Finding and eliminating the duplicated rows"
      ]
    },
    {
      "cell_type": "code",
      "execution_count": null,
      "metadata": {
        "colab": {
          "base_uri": "https://localhost:8080/"
        },
        "id": "T8G5oS4f2b1R",
        "outputId": "802c12ed-325f-40f1-8f4f-ce3acb08c665"
      },
      "outputs": [
        {
          "data": {
            "text/plain": [
              "1671"
            ]
          },
          "execution_count": 10,
          "metadata": {},
          "output_type": "execute_result"
        }
      ],
      "source": [
        "GPT.duplicated().sum()"
      ]
    },
    {
      "cell_type": "code",
      "execution_count": 7,
      "metadata": {
        "id": "qgyEpPSC2doY"
      },
      "outputs": [],
      "source": [
        "GPT = GPT.drop_duplicates(keep=\"first\")"
      ]
    },
    {
      "cell_type": "code",
      "execution_count": null,
      "metadata": {
        "colab": {
          "base_uri": "https://localhost:8080/"
        },
        "id": "2UDExHmf2faU",
        "outputId": "2303a39c-e9ea-45be-ba49-bea29ff9de99"
      },
      "outputs": [
        {
          "data": {
            "text/plain": [
              "(217623, 2)"
            ]
          },
          "execution_count": 12,
          "metadata": {},
          "output_type": "execute_result"
        }
      ],
      "source": [
        "GPT.shape"
      ]
    },
    {
      "cell_type": "markdown",
      "metadata": {
        "id": "AWn23-PgmJ5S"
      },
      "source": [
        "2-4 Checking null values"
      ]
    },
    {
      "cell_type": "code",
      "execution_count": 8,
      "metadata": {
        "colab": {
          "base_uri": "https://localhost:8080/",
          "height": 505
        },
        "id": "d_-oTmDq2g_6",
        "outputId": "45559296-4c54-4949-8cd0-637362d47f01"
      },
      "outputs": [
        {
          "data": {
            "text/plain": [
              "<Axes: >"
            ]
          },
          "execution_count": 8,
          "metadata": {},
          "output_type": "execute_result"
        },
        {
          "data": {
            "image/png": "[encoded data removed]",
            "text/plain": [
              "<Figure size 864x576 with 1 Axes>"
            ]
          },
          "metadata": {
            "needs_background": "light"
          },
          "output_type": "display_data"
        }
      ],
      "source": [
        "plt.figure(figsize=(12,8))\n",
        "sns.heatmap(GPT.isnull(),cbar=False)"
      ]
    },
    {
      "cell_type": "markdown",
      "metadata": {
        "id": "cyHhjJ8OmaHu"
      },
      "source": [
        "# 3- Data Preprocessing\n"
      ]
    },
    {
      "cell_type": "markdown",
      "metadata": {
        "id": "8wp-M24ioIB_"
      },
      "source": [
        "3-1 Encoding labels to numerical value"
      ]
    },
    {
      "cell_type": "code",
      "execution_count": 9,
      "metadata": {
        "colab": {
          "base_uri": "https://localhost:8080/"
        },
        "id": "yVAHBp3O2i80",
        "outputId": "c032c34c-8301-4c9c-b728-1ec71fd9a1dd"
      },
      "outputs": [
        {
          "name": "stderr",
          "output_type": "stream",
          "text": [
            "<ipython-input-9-4ed4a176c77c>:1: SettingWithCopyWarning: \n",
            "A value is trying to be set on a copy of a slice from a DataFrame.\n",
            "Try using .loc[row_indexer,col_indexer] = value instead\n",
            "\n",
            "See the caveats in the documentation: https://pandas.pydata.org/pandas-docs/stable/user_guide/indexing.html#returning-a-view-versus-a-copy\n",
            "  GPT['labels'] = np.where(GPT['labels']=='good', 1, np.where(GPT['labels']=='bad', 2, 0))\n"
          ]
        }
      ],
      "source": [
        "GPT['labels'] = np.where(GPT['labels']=='good', 1, np.where(GPT['labels']=='bad', 2, 0))"
      ]
    },
    {
      "cell_type": "code",
      "execution_count": 10,
      "metadata": {
        "colab": {
          "base_uri": "https://localhost:8080/",
          "height": 424
        },
        "id": "UjntwVgC2ks7",
        "outputId": "4bdc972b-b001-46b6-ae9c-f6da3454304d"
      },
      "outputs": [
        {
          "data": {
            "text/html": [
              "\n",
              "  <div id=\"df-3226e372-270a-41aa-b5bd-2e91f33c9a78\">\n",
              "    <div class=\"colab-df-container\">\n",
              "      <div>\n",
              "<style scoped>\n",
              "    .dataframe tbody tr th:only-of-type {\n",
              "        vertical-align: middle;\n",
              "    }\n",
              "\n",
              "    .dataframe tbody tr th {\n",
              "        vertical-align: top;\n",
              "    }\n",
              "\n",
              "    .dataframe thead th {\n",
              "        text-align: right;\n",
              "    }\n",
              "</style>\n",
              "<table border=\"1\" class=\"dataframe\">\n",
              "  <thead>\n",
              "    <tr style=\"text-align: right;\">\n",
              "      <th></th>\n",
              "      <th>tweets</th>\n",
              "      <th>labels</th>\n",
              "    </tr>\n",
              "  </thead>\n",
              "  <tbody>\n",
              "    <tr>\n",
              "      <th>0</th>\n",
              "      <td>ChatGPT: Optimizing Language Models for Dialog...</td>\n",
              "      <td>0</td>\n",
              "    </tr>\n",
              "    <tr>\n",
              "      <th>1</th>\n",
              "      <td>Try talking with ChatGPT, our new AI system wh...</td>\n",
              "      <td>1</td>\n",
              "    </tr>\n",
              "    <tr>\n",
              "      <th>2</th>\n",
              "      <td>ChatGPT: Optimizing Language Models for Dialog...</td>\n",
              "      <td>0</td>\n",
              "    </tr>\n",
              "    <tr>\n",
              "      <th>3</th>\n",
              "      <td>THRILLED to share that ChatGPT, our new model ...</td>\n",
              "      <td>1</td>\n",
              "    </tr>\n",
              "    <tr>\n",
              "      <th>4</th>\n",
              "      <td>As of 2 minutes ago, @OpenAI released their ne...</td>\n",
              "      <td>2</td>\n",
              "    </tr>\n",
              "    <tr>\n",
              "      <th>...</th>\n",
              "      <td>...</td>\n",
              "      <td>...</td>\n",
              "    </tr>\n",
              "    <tr>\n",
              "      <th>219289</th>\n",
              "      <td>Other Software Projects Are Now Trying to Repl...</td>\n",
              "      <td>2</td>\n",
              "    </tr>\n",
              "    <tr>\n",
              "      <th>219290</th>\n",
              "      <td>I asked #ChatGPT to write a #NYE Joke for SEOs...</td>\n",
              "      <td>1</td>\n",
              "    </tr>\n",
              "    <tr>\n",
              "      <th>219291</th>\n",
              "      <td>chatgpt is being disassembled until it can onl...</td>\n",
              "      <td>2</td>\n",
              "    </tr>\n",
              "    <tr>\n",
              "      <th>219292</th>\n",
              "      <td>2023 predictions by #chatGPT. Nothing really s...</td>\n",
              "      <td>2</td>\n",
              "    </tr>\n",
              "    <tr>\n",
              "      <th>219293</th>\n",
              "      <td>From ChatGPT, neat stuff https://t.co/qjjUF2Z2m0</td>\n",
              "      <td>0</td>\n",
              "    </tr>\n",
              "  </tbody>\n",
              "</table>\n",
              "<p>217623 rows × 2 columns</p>\n",
              "</div>\n",
              "      <button class=\"colab-df-convert\" onclick=\"convertToInteractive('df-3226e372-270a-41aa-b5bd-2e91f33c9a78')\"\n",
              "              title=\"Convert this dataframe to an interactive table.\"\n",
              "              style=\"display:none;\">\n",
              "        \n",
              "  <svg xmlns=\"http://www.w3.org/2000/svg\" height=\"24px\"viewBox=\"0 0 24 24\"\n",
              "       width=\"24px\">\n",
              "    <path d=\"M0 0h24v24H0V0z\" fill=\"none\"/>\n",
              "    <path d=\"M18.56 5.44l.94 2.06.94-2.06 2.06-.94-2.06-.94-.94-2.06-.94 2.06-2.06.94zm-11 1L8.5 8.5l.94-2.06 2.06-.94-2.06-.94L8.5 2.5l-.94 2.06-2.06.94zm10 10l.94 2.06.94-2.06 2.06-.94-2.06-.94-.94-2.06-.94 2.06-2.06.94z\"/><path d=\"M17.41 7.96l-1.37-1.37c-.4-.4-.92-.59-1.43-.59-.52 0-1.04.2-1.43.59L10.3 9.45l-7.72 7.72c-.78.78-.78 2.05 0 2.83L4 21.41c.39.39.9.59 1.41.59.51 0 1.02-.2 1.41-.59l7.78-7.78 2.81-2.81c.8-.78.8-2.07 0-2.86zM5.41 20L4 18.59l7.72-7.72 1.47 1.35L5.41 20z\"/>\n",
              "  </svg>\n",
              "      </button>\n",
              "      \n",
              "  <style>\n",
              "    .colab-df-container {\n",
              "      display:flex;\n",
              "      flex-wrap:wrap;\n",
              "      gap: 12px;\n",
              "    }\n",
              "\n",
              "    .colab-df-convert {\n",
              "      background-color: #E8F0FE;\n",
              "      border: none;\n",
              "      border-radius: 50%;\n",
              "      cursor: pointer;\n",
              "      display: none;\n",
              "      fill: #1967D2;\n",
              "      height: 32px;\n",
              "      padding: 0 0 0 0;\n",
              "      width: 32px;\n",
              "    }\n",
              "\n",
              "    .colab-df-convert:hover {\n",
              "      background-color: #E2EBFA;\n",
              "      box-shadow: 0px 1px 2px rgba(60, 64, 67, 0.3), 0px 1px 3px 1px rgba(60, 64, 67, 0.15);\n",
              "      fill: #174EA6;\n",
              "    }\n",
              "\n",
              "    [theme=dark] .colab-df-convert {\n",
              "      background-color: #3B4455;\n",
              "      fill: #D2E3FC;\n",
              "    }\n",
              "\n",
              "    [theme=dark] .colab-df-convert:hover {\n",
              "      background-color: #434B5C;\n",
              "      box-shadow: 0px 1px 3px 1px rgba(0, 0, 0, 0.15);\n",
              "      filter: drop-shadow(0px 1px 2px rgba(0, 0, 0, 0.3));\n",
              "      fill: #FFFFFF;\n",
              "    }\n",
              "  </style>\n",
              "\n",
              "      <script>\n",
              "        const buttonEl =\n",
              "          document.querySelector('#df-3226e372-270a-41aa-b5bd-2e91f33c9a78 button.colab-df-convert');\n",
              "        buttonEl.style.display =\n",
              "          google.colab.kernel.accessAllowed ? 'block' : 'none';\n",
              "\n",
              "        async function convertToInteractive(key) {\n",
              "          const element = document.querySelector('#df-3226e372-270a-41aa-b5bd-2e91f33c9a78');\n",
              "          const dataTable =\n",
              "            await google.colab.kernel.invokeFunction('convertToInteractive',\n",
              "                                                     [key], {});\n",
              "          if (!dataTable) return;\n",
              "\n",
              "          const docLinkHtml = 'Like what you see? Visit the ' +\n",
              "            '<a target=\"_blank\" href=https://colab.research.google.com/notebooks/data_table.ipynb>data table notebook</a>'\n",
              "            + ' to learn more about interactive tables.';\n",
              "          element.innerHTML = '';\n",
              "          dataTable['output_type'] = 'display_data';\n",
              "          await google.colab.output.renderOutput(dataTable, element);\n",
              "          const docLink = document.createElement('div');\n",
              "          docLink.innerHTML = docLinkHtml;\n",
              "          element.appendChild(docLink);\n",
              "        }\n",
              "      </script>\n",
              "    </div>\n",
              "  </div>\n",
              "  "
            ],
            "text/plain": [
              "                                                   tweets  labels\n",
              "0       ChatGPT: Optimizing Language Models for Dialog...       0\n",
              "1       Try talking with ChatGPT, our new AI system wh...       1\n",
              "2       ChatGPT: Optimizing Language Models for Dialog...       0\n",
              "3       THRILLED to share that ChatGPT, our new model ...       1\n",
              "4       As of 2 minutes ago, @OpenAI released their ne...       2\n",
              "...                                                   ...     ...\n",
              "219289  Other Software Projects Are Now Trying to Repl...       2\n",
              "219290  I asked #ChatGPT to write a #NYE Joke for SEOs...       1\n",
              "219291  chatgpt is being disassembled until it can onl...       2\n",
              "219292  2023 predictions by #chatGPT. Nothing really s...       2\n",
              "219293   From ChatGPT, neat stuff https://t.co/qjjUF2Z2m0       0\n",
              "\n",
              "[217623 rows x 2 columns]"
            ]
          },
          "execution_count": 10,
          "metadata": {},
          "output_type": "execute_result"
        }
      ],
      "source": [
        "GPT"
      ]
    },
    {
      "cell_type": "markdown",
      "metadata": {
        "id": "xwqW3wjnoOJK"
      },
      "source": [
        "3-2 Text (tweets) cleaning"
      ]
    },
    {
      "cell_type": "markdown",
      "metadata": {
        "id": "Sls8r4s3oSjO"
      },
      "source": [
        "In this part, we cleaned the text of each review by defining a function with the help of Re library (lower case, removing punctuation, removing URLs, removing next line character, transforming some informal words to the formal ones, removng stopwords and lemmitization)"
      ]
    },
    {
      "cell_type": "code",
      "execution_count": 11,
      "metadata": {
        "id": "JCCHoTe22np2"
      },
      "outputs": [],
      "source": [
        "stop_words = stopwords.words('english')\n",
        "lemmetizer = WordNetLemmatizer()\n",
        "\n",
        "def textpreprocess(s):\n",
        "    \"\"\"This function cleans the text\n",
        "    Input: string to be cleaned\n",
        "    Return: string after cleaning\n",
        "    \"\"\"\n",
        "    words = [] # empty list\n",
        "    \n",
        "    s = s.strip().lower() # lower the string\n",
        "    s = re.sub(r\"won't\", \"will not\", s)\n",
        "    s = re.sub(r\"can\\'t\", \"can not\", s)    \n",
        "    s = re.sub(r\"n\\'t\", \" not\", s)\n",
        "    s = re.sub(r\"\\'re\", \" are\", s)\n",
        "    s = re.sub(r\"\\'s\", \" is\", s)\n",
        "    s = re.sub(r\"\\'d\", \" would\", s)\n",
        "    s = re.sub(r\"\\'ll\", \" will\", s)\n",
        "    s = re.sub(r\"\\'t\", \" not\", s)\n",
        "    s = re.sub(r\"\\'ve\", \" have\", s)\n",
        "    s = re.sub(r\"\\'m\", \" am\", s)\n",
        "    s = re.sub('\\[.*?\\]', '', s) # removes symbols (.*?\\)\n",
        "    s = re.sub('https?://\\S+|www\\.\\S+', '', s) # remove URLS\n",
        "    s = re.sub('<.*?>+', '', s)\n",
        "    s = re.sub('[%s]' % re.escape(string.punctuation), '', s) # remove punctuations\n",
        "    s = re.sub('\\n', '', s) # remove next line character\n",
        "    s = re.sub('\\w*\\d\\w*', '', s)\n",
        "   \n",
        "    words = s.split() # split the string into list of words\n",
        "    words = [lemmetizer.lemmatize(word) for word in words if word not in stop_words] # removing stop words\n",
        "    s = ' '.join(words) # converting list to string\n",
        "    return s"
      ]
    },
    {
      "cell_type": "code",
      "execution_count": 12,
      "metadata": {
        "id": "YsI2dOEz2p11"
      },
      "outputs": [],
      "source": [
        "Cleaned_Tweets = []\n",
        "sentences = list(GPT['tweets'])\n",
        "for i in sentences:\n",
        "    Cleaned_Tweets.append(textpreprocess(i))"
      ]
    },
    {
      "cell_type": "code",
      "execution_count": 13,
      "metadata": {
        "colab": {
          "base_uri": "https://localhost:8080/",
          "height": 528
        },
        "id": "estLgVy32ruJ",
        "outputId": "367d4ab3-4076-4a93-ff89-7e8ea5956fbe"
      },
      "outputs": [
        {
          "name": "stderr",
          "output_type": "stream",
          "text": [
            "<ipython-input-13-39047c73219c>:1: SettingWithCopyWarning: \n",
            "A value is trying to be set on a copy of a slice from a DataFrame.\n",
            "Try using .loc[row_indexer,col_indexer] = value instead\n",
            "\n",
            "See the caveats in the documentation: https://pandas.pydata.org/pandas-docs/stable/user_guide/indexing.html#returning-a-view-versus-a-copy\n",
            "  GPT['Cleaned_Tweets'] = Cleaned_Tweets\n"
          ]
        },
        {
          "data": {
            "text/html": [
              "\n",
              "  <div id=\"df-f7b541f6-2394-49bd-ac6c-f886d90c14e6\">\n",
              "    <div class=\"colab-df-container\">\n",
              "      <div>\n",
              "<style scoped>\n",
              "    .dataframe tbody tr th:only-of-type {\n",
              "        vertical-align: middle;\n",
              "    }\n",
              "\n",
              "    .dataframe tbody tr th {\n",
              "        vertical-align: top;\n",
              "    }\n",
              "\n",
              "    .dataframe thead th {\n",
              "        text-align: right;\n",
              "    }\n",
              "</style>\n",
              "<table border=\"1\" class=\"dataframe\">\n",
              "  <thead>\n",
              "    <tr style=\"text-align: right;\">\n",
              "      <th></th>\n",
              "      <th>tweets</th>\n",
              "      <th>labels</th>\n",
              "      <th>Cleaned_Tweets</th>\n",
              "    </tr>\n",
              "  </thead>\n",
              "  <tbody>\n",
              "    <tr>\n",
              "      <th>0</th>\n",
              "      <td>ChatGPT: Optimizing Language Models for Dialog...</td>\n",
              "      <td>0</td>\n",
              "      <td>chatgpt optimizing language model dialogue openai</td>\n",
              "    </tr>\n",
              "    <tr>\n",
              "      <th>1</th>\n",
              "      <td>Try talking with ChatGPT, our new AI system wh...</td>\n",
              "      <td>1</td>\n",
              "      <td>try talking chatgpt new ai system optimized di...</td>\n",
              "    </tr>\n",
              "    <tr>\n",
              "      <th>2</th>\n",
              "      <td>ChatGPT: Optimizing Language Models for Dialog...</td>\n",
              "      <td>0</td>\n",
              "      <td>chatgpt optimizing language model dialogue ai ...</td>\n",
              "    </tr>\n",
              "    <tr>\n",
              "      <th>3</th>\n",
              "      <td>THRILLED to share that ChatGPT, our new model ...</td>\n",
              "      <td>1</td>\n",
              "      <td>thrilled share chatgpt new model optimized dia...</td>\n",
              "    </tr>\n",
              "    <tr>\n",
              "      <th>4</th>\n",
              "      <td>As of 2 minutes ago, @OpenAI released their ne...</td>\n",
              "      <td>2</td>\n",
              "      <td>minute ago openai released new chatgpt nnand u...</td>\n",
              "    </tr>\n",
              "    <tr>\n",
              "      <th>...</th>\n",
              "      <td>...</td>\n",
              "      <td>...</td>\n",
              "      <td>...</td>\n",
              "    </tr>\n",
              "    <tr>\n",
              "      <th>219289</th>\n",
              "      <td>Other Software Projects Are Now Trying to Repl...</td>\n",
              "      <td>2</td>\n",
              "      <td>software project trying replicate chatgpt</td>\n",
              "    </tr>\n",
              "    <tr>\n",
              "      <th>219290</th>\n",
              "      <td>I asked #ChatGPT to write a #NYE Joke for SEOs...</td>\n",
              "      <td>1</td>\n",
              "      <td>asked chatgpt write nye joke seos delivered nn...</td>\n",
              "    </tr>\n",
              "    <tr>\n",
              "      <th>219291</th>\n",
              "      <td>chatgpt is being disassembled until it can onl...</td>\n",
              "      <td>2</td>\n",
              "      <td>chatgpt disassembled dissemble</td>\n",
              "    </tr>\n",
              "    <tr>\n",
              "      <th>219292</th>\n",
              "      <td>2023 predictions by #chatGPT. Nothing really s...</td>\n",
              "      <td>2</td>\n",
              "      <td>prediction chatgpt nothing really specific tre...</td>\n",
              "    </tr>\n",
              "    <tr>\n",
              "      <th>219293</th>\n",
              "      <td>From ChatGPT, neat stuff https://t.co/qjjUF2Z2m0</td>\n",
              "      <td>0</td>\n",
              "      <td>chatgpt neat stuff</td>\n",
              "    </tr>\n",
              "  </tbody>\n",
              "</table>\n",
              "<p>217623 rows × 3 columns</p>\n",
              "</div>\n",
              "      <button class=\"colab-df-convert\" onclick=\"convertToInteractive('df-f7b541f6-2394-49bd-ac6c-f886d90c14e6')\"\n",
              "              title=\"Convert this dataframe to an interactive table.\"\n",
              "              style=\"display:none;\">\n",
              "        \n",
              "  <svg xmlns=\"http://www.w3.org/2000/svg\" height=\"24px\"viewBox=\"0 0 24 24\"\n",
              "       width=\"24px\">\n",
              "    <path d=\"M0 0h24v24H0V0z\" fill=\"none\"/>\n",
              "    <path d=\"M18.56 5.44l.94 2.06.94-2.06 2.06-.94-2.06-.94-.94-2.06-.94 2.06-2.06.94zm-11 1L8.5 8.5l.94-2.06 2.06-.94-2.06-.94L8.5 2.5l-.94 2.06-2.06.94zm10 10l.94 2.06.94-2.06 2.06-.94-2.06-.94-.94-2.06-.94 2.06-2.06.94z\"/><path d=\"M17.41 7.96l-1.37-1.37c-.4-.4-.92-.59-1.43-.59-.52 0-1.04.2-1.43.59L10.3 9.45l-7.72 7.72c-.78.78-.78 2.05 0 2.83L4 21.41c.39.39.9.59 1.41.59.51 0 1.02-.2 1.41-.59l7.78-7.78 2.81-2.81c.8-.78.8-2.07 0-2.86zM5.41 20L4 18.59l7.72-7.72 1.47 1.35L5.41 20z\"/>\n",
              "  </svg>\n",
              "      </button>\n",
              "      \n",
              "  <style>\n",
              "    .colab-df-container {\n",
              "      display:flex;\n",
              "      flex-wrap:wrap;\n",
              "      gap: 12px;\n",
              "    }\n",
              "\n",
              "    .colab-df-convert {\n",
              "      background-color: #E8F0FE;\n",
              "      border: none;\n",
              "      border-radius: 50%;\n",
              "      cursor: pointer;\n",
              "      display: none;\n",
              "      fill: #1967D2;\n",
              "      height: 32px;\n",
              "      padding: 0 0 0 0;\n",
              "      width: 32px;\n",
              "    }\n",
              "\n",
              "    .colab-df-convert:hover {\n",
              "      background-color: #E2EBFA;\n",
              "      box-shadow: 0px 1px 2px rgba(60, 64, 67, 0.3), 0px 1px 3px 1px rgba(60, 64, 67, 0.15);\n",
              "      fill: #174EA6;\n",
              "    }\n",
              "\n",
              "    [theme=dark] .colab-df-convert {\n",
              "      background-color: #3B4455;\n",
              "      fill: #D2E3FC;\n",
              "    }\n",
              "\n",
              "    [theme=dark] .colab-df-convert:hover {\n",
              "      background-color: #434B5C;\n",
              "      box-shadow: 0px 1px 3px 1px rgba(0, 0, 0, 0.15);\n",
              "      filter: drop-shadow(0px 1px 2px rgba(0, 0, 0, 0.3));\n",
              "      fill: #FFFFFF;\n",
              "    }\n",
              "  </style>\n",
              "\n",
              "      <script>\n",
              "        const buttonEl =\n",
              "          document.querySelector('#df-f7b541f6-2394-49bd-ac6c-f886d90c14e6 button.colab-df-convert');\n",
              "        buttonEl.style.display =\n",
              "          google.colab.kernel.accessAllowed ? 'block' : 'none';\n",
              "\n",
              "        async function convertToInteractive(key) {\n",
              "          const element = document.querySelector('#df-f7b541f6-2394-49bd-ac6c-f886d90c14e6');\n",
              "          const dataTable =\n",
              "            await google.colab.kernel.invokeFunction('convertToInteractive',\n",
              "                                                     [key], {});\n",
              "          if (!dataTable) return;\n",
              "\n",
              "          const docLinkHtml = 'Like what you see? Visit the ' +\n",
              "            '<a target=\"_blank\" href=https://colab.research.google.com/notebooks/data_table.ipynb>data table notebook</a>'\n",
              "            + ' to learn more about interactive tables.';\n",
              "          element.innerHTML = '';\n",
              "          dataTable['output_type'] = 'display_data';\n",
              "          await google.colab.output.renderOutput(dataTable, element);\n",
              "          const docLink = document.createElement('div');\n",
              "          docLink.innerHTML = docLinkHtml;\n",
              "          element.appendChild(docLink);\n",
              "        }\n",
              "      </script>\n",
              "    </div>\n",
              "  </div>\n",
              "  "
            ],
            "text/plain": [
              "                                                   tweets  labels  \\\n",
              "0       ChatGPT: Optimizing Language Models for Dialog...       0   \n",
              "1       Try talking with ChatGPT, our new AI system wh...       1   \n",
              "2       ChatGPT: Optimizing Language Models for Dialog...       0   \n",
              "3       THRILLED to share that ChatGPT, our new model ...       1   \n",
              "4       As of 2 minutes ago, @OpenAI released their ne...       2   \n",
              "...                                                   ...     ...   \n",
              "219289  Other Software Projects Are Now Trying to Repl...       2   \n",
              "219290  I asked #ChatGPT to write a #NYE Joke for SEOs...       1   \n",
              "219291  chatgpt is being disassembled until it can onl...       2   \n",
              "219292  2023 predictions by #chatGPT. Nothing really s...       2   \n",
              "219293   From ChatGPT, neat stuff https://t.co/qjjUF2Z2m0       0   \n",
              "\n",
              "                                           Cleaned_Tweets  \n",
              "0       chatgpt optimizing language model dialogue openai  \n",
              "1       try talking chatgpt new ai system optimized di...  \n",
              "2       chatgpt optimizing language model dialogue ai ...  \n",
              "3       thrilled share chatgpt new model optimized dia...  \n",
              "4       minute ago openai released new chatgpt nnand u...  \n",
              "...                                                   ...  \n",
              "219289          software project trying replicate chatgpt  \n",
              "219290  asked chatgpt write nye joke seos delivered nn...  \n",
              "219291                     chatgpt disassembled dissemble  \n",
              "219292  prediction chatgpt nothing really specific tre...  \n",
              "219293                                 chatgpt neat stuff  \n",
              "\n",
              "[217623 rows x 3 columns]"
            ]
          },
          "execution_count": 13,
          "metadata": {},
          "output_type": "execute_result"
        }
      ],
      "source": [
        "GPT['Cleaned_Tweets'] = Cleaned_Tweets\n",
        "GPT"
      ]
    },
    {
      "cell_type": "code",
      "execution_count": null,
      "metadata": {
        "colab": {
          "base_uri": "https://localhost:8080/",
          "height": 35
        },
        "id": "4eS7WPo93Gqm",
        "outputId": "87c22b4e-25f5-4814-e257-c3f72d81840b"
      },
      "outputs": [
        {
          "data": {
            "application/vnd.google.colaboratory.intrinsic+json": {
              "type": "string"
            },
            "text/plain": [
              "'chatgpt neat stuff'"
            ]
          },
          "execution_count": 19,
          "metadata": {},
          "output_type": "execute_result"
        }
      ],
      "source": [
        "GPT['Cleaned_Tweets'][219293]"
      ]
    },
    {
      "cell_type": "code",
      "execution_count": null,
      "metadata": {
        "colab": {
          "base_uri": "https://localhost:8080/",
          "height": 547
        },
        "id": "k-zFhsEF3JGK",
        "outputId": "5f633cf8-e640-4a66-85e4-80b9609bb3db"
      },
      "outputs": [
        {
          "name": "stderr",
          "output_type": "stream",
          "text": [
            "<ipython-input-20-5fb1382bb31a>:1: SettingWithCopyWarning: \n",
            "A value is trying to be set on a copy of a slice from a DataFrame.\n",
            "Try using .loc[row_indexer,col_indexer] = value instead\n",
            "\n",
            "See the caveats in the documentation: https://pandas.pydata.org/pandas-docs/stable/user_guide/indexing.html#returning-a-view-versus-a-copy\n",
            "  GPT['Length'] = GPT.Cleaned_Tweets.apply(lambda x:len(x))\n"
          ]
        },
        {
          "data": {
            "text/html": [
              "\n",
              "  <div id=\"df-947a84dd-d69a-4cee-8119-2a52f99306c9\">\n",
              "    <div class=\"colab-df-container\">\n",
              "      <div>\n",
              "<style scoped>\n",
              "    .dataframe tbody tr th:only-of-type {\n",
              "        vertical-align: middle;\n",
              "    }\n",
              "\n",
              "    .dataframe tbody tr th {\n",
              "        vertical-align: top;\n",
              "    }\n",
              "\n",
              "    .dataframe thead th {\n",
              "        text-align: right;\n",
              "    }\n",
              "</style>\n",
              "<table border=\"1\" class=\"dataframe\">\n",
              "  <thead>\n",
              "    <tr style=\"text-align: right;\">\n",
              "      <th></th>\n",
              "      <th>tweets</th>\n",
              "      <th>labels</th>\n",
              "      <th>Cleaned_Tweets</th>\n",
              "      <th>Length</th>\n",
              "    </tr>\n",
              "  </thead>\n",
              "  <tbody>\n",
              "    <tr>\n",
              "      <th>0</th>\n",
              "      <td>ChatGPT: Optimizing Language Models for Dialog...</td>\n",
              "      <td>0</td>\n",
              "      <td>chatgpt optimizing language model dialogue openai</td>\n",
              "      <td>49</td>\n",
              "    </tr>\n",
              "    <tr>\n",
              "      <th>1</th>\n",
              "      <td>Try talking with ChatGPT, our new AI system wh...</td>\n",
              "      <td>1</td>\n",
              "      <td>try talking chatgpt new ai system optimized di...</td>\n",
              "      <td>76</td>\n",
              "    </tr>\n",
              "    <tr>\n",
              "      <th>2</th>\n",
              "      <td>ChatGPT: Optimizing Language Models for Dialog...</td>\n",
              "      <td>0</td>\n",
              "      <td>chatgpt optimizing language model dialogue ai ...</td>\n",
              "      <td>192</td>\n",
              "    </tr>\n",
              "    <tr>\n",
              "      <th>3</th>\n",
              "      <td>THRILLED to share that ChatGPT, our new model ...</td>\n",
              "      <td>1</td>\n",
              "      <td>thrilled share chatgpt new model optimized dia...</td>\n",
              "      <td>81</td>\n",
              "    </tr>\n",
              "    <tr>\n",
              "      <th>4</th>\n",
              "      <td>As of 2 minutes ago, @OpenAI released their ne...</td>\n",
              "      <td>2</td>\n",
              "      <td>minute ago openai released new chatgpt nnand u...</td>\n",
              "      <td>56</td>\n",
              "    </tr>\n",
              "    <tr>\n",
              "      <th>...</th>\n",
              "      <td>...</td>\n",
              "      <td>...</td>\n",
              "      <td>...</td>\n",
              "      <td>...</td>\n",
              "    </tr>\n",
              "    <tr>\n",
              "      <th>219289</th>\n",
              "      <td>Other Software Projects Are Now Trying to Repl...</td>\n",
              "      <td>2</td>\n",
              "      <td>software project trying replicate chatgpt</td>\n",
              "      <td>41</td>\n",
              "    </tr>\n",
              "    <tr>\n",
              "      <th>219290</th>\n",
              "      <td>I asked #ChatGPT to write a #NYE Joke for SEOs...</td>\n",
              "      <td>1</td>\n",
              "      <td>asked chatgpt write nye joke seos delivered nn...</td>\n",
              "      <td>168</td>\n",
              "    </tr>\n",
              "    <tr>\n",
              "      <th>219291</th>\n",
              "      <td>chatgpt is being disassembled until it can onl...</td>\n",
              "      <td>2</td>\n",
              "      <td>chatgpt disassembled dissemble</td>\n",
              "      <td>30</td>\n",
              "    </tr>\n",
              "    <tr>\n",
              "      <th>219292</th>\n",
              "      <td>2023 predictions by #chatGPT. Nothing really s...</td>\n",
              "      <td>2</td>\n",
              "      <td>prediction chatgpt nothing really specific tre...</td>\n",
              "      <td>89</td>\n",
              "    </tr>\n",
              "    <tr>\n",
              "      <th>219293</th>\n",
              "      <td>From ChatGPT, neat stuff https://t.co/qjjUF2Z2m0</td>\n",
              "      <td>0</td>\n",
              "      <td>chatgpt neat stuff</td>\n",
              "      <td>18</td>\n",
              "    </tr>\n",
              "  </tbody>\n",
              "</table>\n",
              "<p>217623 rows × 4 columns</p>\n",
              "</div>\n",
              "      <button class=\"colab-df-convert\" onclick=\"convertToInteractive('df-947a84dd-d69a-4cee-8119-2a52f99306c9')\"\n",
              "              title=\"Convert this dataframe to an interactive table.\"\n",
              "              style=\"display:none;\">\n",
              "        \n",
              "  <svg xmlns=\"http://www.w3.org/2000/svg\" height=\"24px\"viewBox=\"0 0 24 24\"\n",
              "       width=\"24px\">\n",
              "    <path d=\"M0 0h24v24H0V0z\" fill=\"none\"/>\n",
              "    <path d=\"M18.56 5.44l.94 2.06.94-2.06 2.06-.94-2.06-.94-.94-2.06-.94 2.06-2.06.94zm-11 1L8.5 8.5l.94-2.06 2.06-.94-2.06-.94L8.5 2.5l-.94 2.06-2.06.94zm10 10l.94 2.06.94-2.06 2.06-.94-2.06-.94-.94-2.06-.94 2.06-2.06.94z\"/><path d=\"M17.41 7.96l-1.37-1.37c-.4-.4-.92-.59-1.43-.59-.52 0-1.04.2-1.43.59L10.3 9.45l-7.72 7.72c-.78.78-.78 2.05 0 2.83L4 21.41c.39.39.9.59 1.41.59.51 0 1.02-.2 1.41-.59l7.78-7.78 2.81-2.81c.8-.78.8-2.07 0-2.86zM5.41 20L4 18.59l7.72-7.72 1.47 1.35L5.41 20z\"/>\n",
              "  </svg>\n",
              "      </button>\n",
              "      \n",
              "  <style>\n",
              "    .colab-df-container {\n",
              "      display:flex;\n",
              "      flex-wrap:wrap;\n",
              "      gap: 12px;\n",
              "    }\n",
              "\n",
              "    .colab-df-convert {\n",
              "      background-color: #E8F0FE;\n",
              "      border: none;\n",
              "      border-radius: 50%;\n",
              "      cursor: pointer;\n",
              "      display: none;\n",
              "      fill: #1967D2;\n",
              "      height: 32px;\n",
              "      padding: 0 0 0 0;\n",
              "      width: 32px;\n",
              "    }\n",
              "\n",
              "    .colab-df-convert:hover {\n",
              "      background-color: #E2EBFA;\n",
              "      box-shadow: 0px 1px 2px rgba(60, 64, 67, 0.3), 0px 1px 3px 1px rgba(60, 64, 67, 0.15);\n",
              "      fill: #174EA6;\n",
              "    }\n",
              "\n",
              "    [theme=dark] .colab-df-convert {\n",
              "      background-color: #3B4455;\n",
              "      fill: #D2E3FC;\n",
              "    }\n",
              "\n",
              "    [theme=dark] .colab-df-convert:hover {\n",
              "      background-color: #434B5C;\n",
              "      box-shadow: 0px 1px 3px 1px rgba(0, 0, 0, 0.15);\n",
              "      filter: drop-shadow(0px 1px 2px rgba(0, 0, 0, 0.3));\n",
              "      fill: #FFFFFF;\n",
              "    }\n",
              "  </style>\n",
              "\n",
              "      <script>\n",
              "        const buttonEl =\n",
              "          document.querySelector('#df-947a84dd-d69a-4cee-8119-2a52f99306c9 button.colab-df-convert');\n",
              "        buttonEl.style.display =\n",
              "          google.colab.kernel.accessAllowed ? 'block' : 'none';\n",
              "\n",
              "        async function convertToInteractive(key) {\n",
              "          const element = document.querySelector('#df-947a84dd-d69a-4cee-8119-2a52f99306c9');\n",
              "          const dataTable =\n",
              "            await google.colab.kernel.invokeFunction('convertToInteractive',\n",
              "                                                     [key], {});\n",
              "          if (!dataTable) return;\n",
              "\n",
              "          const docLinkHtml = 'Like what you see? Visit the ' +\n",
              "            '<a target=\"_blank\" href=https://colab.research.google.com/notebooks/data_table.ipynb>data table notebook</a>'\n",
              "            + ' to learn more about interactive tables.';\n",
              "          element.innerHTML = '';\n",
              "          dataTable['output_type'] = 'display_data';\n",
              "          await google.colab.output.renderOutput(dataTable, element);\n",
              "          const docLink = document.createElement('div');\n",
              "          docLink.innerHTML = docLinkHtml;\n",
              "          element.appendChild(docLink);\n",
              "        }\n",
              "      </script>\n",
              "    </div>\n",
              "  </div>\n",
              "  "
            ],
            "text/plain": [
              "                                                   tweets  labels  \\\n",
              "0       ChatGPT: Optimizing Language Models for Dialog...       0   \n",
              "1       Try talking with ChatGPT, our new AI system wh...       1   \n",
              "2       ChatGPT: Optimizing Language Models for Dialog...       0   \n",
              "3       THRILLED to share that ChatGPT, our new model ...       1   \n",
              "4       As of 2 minutes ago, @OpenAI released their ne...       2   \n",
              "...                                                   ...     ...   \n",
              "219289  Other Software Projects Are Now Trying to Repl...       2   \n",
              "219290  I asked #ChatGPT to write a #NYE Joke for SEOs...       1   \n",
              "219291  chatgpt is being disassembled until it can onl...       2   \n",
              "219292  2023 predictions by #chatGPT. Nothing really s...       2   \n",
              "219293   From ChatGPT, neat stuff https://t.co/qjjUF2Z2m0       0   \n",
              "\n",
              "                                           Cleaned_Tweets  Length  \n",
              "0       chatgpt optimizing language model dialogue openai      49  \n",
              "1       try talking chatgpt new ai system optimized di...      76  \n",
              "2       chatgpt optimizing language model dialogue ai ...     192  \n",
              "3       thrilled share chatgpt new model optimized dia...      81  \n",
              "4       minute ago openai released new chatgpt nnand u...      56  \n",
              "...                                                   ...     ...  \n",
              "219289          software project trying replicate chatgpt      41  \n",
              "219290  asked chatgpt write nye joke seos delivered nn...     168  \n",
              "219291                     chatgpt disassembled dissemble      30  \n",
              "219292  prediction chatgpt nothing really specific tre...      89  \n",
              "219293                                 chatgpt neat stuff      18  \n",
              "\n",
              "[217623 rows x 4 columns]"
            ]
          },
          "execution_count": 20,
          "metadata": {},
          "output_type": "execute_result"
        }
      ],
      "source": [
        "GPT['Length'] = GPT.Cleaned_Tweets.apply(lambda x:len(x))\n",
        "GPT"
      ]
    },
    {
      "cell_type": "markdown",
      "metadata": {
        "id": "BPVEDtFtoXri"
      },
      "source": [
        "3-3 Calculating the length of each tweet and the total number of words in the vocabulary"
      ]
    },
    {
      "cell_type": "code",
      "execution_count": null,
      "metadata": {
        "colab": {
          "base_uri": "https://localhost:8080/"
        },
        "id": "y2IgIIBL3Ktv",
        "outputId": "b1c2e032-86a4-4a08-c35f-c89ce24f1a9e"
      },
      "outputs": [
        {
          "data": {
            "text/plain": [
              "274"
            ]
          },
          "execution_count": 21,
          "metadata": {},
          "output_type": "execute_result"
        }
      ],
      "source": [
        "GPT.Length.max()"
      ]
    },
    {
      "cell_type": "code",
      "execution_count": null,
      "metadata": {
        "colab": {
          "base_uri": "https://localhost:8080/"
        },
        "id": "gpiEb0Cm3NF8",
        "outputId": "e9aef9bf-7b37-4a6a-d453-358b1b6c5ae1"
      },
      "outputs": [
        {
          "data": {
            "text/plain": [
              "72.0"
            ]
          },
          "execution_count": 22,
          "metadata": {},
          "output_type": "execute_result"
        }
      ],
      "source": [
        "GPT.Length.median()"
      ]
    },
    {
      "cell_type": "code",
      "execution_count": null,
      "metadata": {
        "colab": {
          "base_uri": "https://localhost:8080/"
        },
        "id": "YjjCB-ia3Osh",
        "outputId": "830c8301-29c9-4347-b963-a29db260d9eb"
      },
      "outputs": [
        {
          "data": {
            "text/plain": [
              "87.1122124040198"
            ]
          },
          "execution_count": 23,
          "metadata": {},
          "output_type": "execute_result"
        }
      ],
      "source": [
        "GPT.Length.mean()"
      ]
    },
    {
      "cell_type": "code",
      "execution_count": 19,
      "metadata": {
        "id": "2w9KyTPLgoLY"
      },
      "outputs": [],
      "source": [
        "words_list = GPT['Cleaned_Tweets'].str.split().tolist()"
      ]
    },
    {
      "cell_type": "code",
      "execution_count": 21,
      "metadata": {
        "colab": {
          "base_uri": "https://localhost:8080/"
        },
        "id": "rmjYkrdkg5T2",
        "outputId": "64637ea3-c801-45e8-ac94-1783999aa818"
      },
      "outputs": [
        {
          "name": "stdout",
          "output_type": "stream",
          "text": [
            "The number of unique words in the \"Cleaned_Tweets\" column is: 171159\n"
          ]
        }
      ],
      "source": [
        "words_flat = [word for sublist in words_list for word in sublist]\n",
        "num_unique_words = len(set(words_flat))\n",
        "\n",
        "print(f'The number of unique words in the \"Cleaned_Tweets\" column is: {num_unique_words}')"
      ]
    },
    {
      "cell_type": "markdown",
      "metadata": {
        "id": "KPyb_4qlpEPg"
      },
      "source": [
        "3-4 Splitting the dataset for train and test"
      ]
    },
    {
      "cell_type": "code",
      "execution_count": 14,
      "metadata": {
        "id": "uLz1jY8e3P5G"
      },
      "outputs": [],
      "source": [
        "X = list(GPT['Cleaned_Tweets'])\n",
        "y = GPT['labels']"
      ]
    },
    {
      "cell_type": "code",
      "execution_count": 15,
      "metadata": {
        "id": "fPr6o5pb3RmE"
      },
      "outputs": [],
      "source": [
        "X_train_full, X_test, y_train_full, y_test = train_test_split(X, y, test_size=0.20, random_state=42)\n",
        "X_train, X_valid, y_train, y_valid = train_test_split(X_train_full, y_train_full, test_size=0.2, random_state=42)"
      ]
    },
    {
      "cell_type": "code",
      "execution_count": null,
      "metadata": {
        "colab": {
          "base_uri": "https://localhost:8080/"
        },
        "id": "tvHbdfjV3T4i",
        "outputId": "97715ed9-ffc1-45e5-bb39-042859a4f658"
      },
      "outputs": [
        {
          "data": {
            "text/plain": [
              "139278"
            ]
          },
          "execution_count": 26,
          "metadata": {},
          "output_type": "execute_result"
        }
      ],
      "source": [
        "len(X_train)"
      ]
    },
    {
      "cell_type": "code",
      "execution_count": null,
      "metadata": {
        "colab": {
          "base_uri": "https://localhost:8080/",
          "height": 53
        },
        "id": "GfrmuvpK3Vu5",
        "outputId": "c03f8e56-8807-4be6-d49d-1429802fcf88"
      },
      "outputs": [
        {
          "data": {
            "application/vnd.google.colaboratory.intrinsic+json": {
              "type": "string"
            },
            "text/plain": [
              "'recent conversation chatgpt apart science artnni asked would called studied unified amp singular subject amp answer put complete awe synthesisnnthis make much sense synthesis actually'"
            ]
          },
          "execution_count": 27,
          "metadata": {},
          "output_type": "execute_result"
        }
      ],
      "source": [
        "X_train[0]"
      ]
    },
    {
      "cell_type": "markdown",
      "metadata": {
        "id": "EdYExF_torhi"
      },
      "source": [
        "3-5 Tokenizatoin of tweets"
      ]
    },
    {
      "cell_type": "code",
      "execution_count": 22,
      "metadata": {
        "id": "pPvzNo9y3bDB"
      },
      "outputs": [],
      "source": [
        "num_words = 20000\n",
        "\n",
        "tokenizer = Tokenizer(num_words=num_words)\n",
        "tokenizer.fit_on_texts(X_train)\n",
        "X_train = tokenizer.texts_to_sequences(X_train)\n",
        "X_test = tokenizer.texts_to_sequences(X_test)\n",
        "X_valid = tokenizer.texts_to_sequences(X_valid)"
      ]
    },
    {
      "cell_type": "markdown",
      "metadata": {
        "id": "1OtkU2cCpSKT"
      },
      "source": [
        "3-6 Applying pad sequence for equal length of all tweets"
      ]
    },
    {
      "cell_type": "code",
      "execution_count": 23,
      "metadata": {
        "colab": {
          "base_uri": "https://localhost:8080/"
        },
        "id": "EvFTvS-X3iIG",
        "outputId": "1262ecf2-8ed6-4992-c909-e01ebfe5cb58"
      },
      "outputs": [
        {
          "name": "stdout",
          "output_type": "stream",
          "text": [
            "139278 Training sequences\n",
            "34820 Validation sequences\n",
            "34820 Test sequences\n"
          ]
        }
      ],
      "source": [
        "from tensorflow import keras\n",
        "vocab_size = 20000  # Only consider the top 20k words\n",
        "maxlen = 200  # Only consider the first 200 words of each movie review\n",
        "print(len(X_train), \"Training sequences\")\n",
        "print(len(X_valid), \"Validation sequences\")\n",
        "print(len(X_valid), \"Test sequences\")\n",
        "X_train = keras.preprocessing.sequence.pad_sequences(X_train, maxlen=maxlen)\n",
        "X_valid = keras.preprocessing.sequence.pad_sequences(X_valid, maxlen=maxlen)\n",
        "X_test =  keras.preprocessing.sequence.pad_sequences(X_test, maxlen=maxlen)"
      ]
    },
    {
      "cell_type": "markdown",
      "metadata": {
        "id": "-eK_0DlDok0p"
      },
      "source": [
        "# 4- Data Modelling and Optimization"
      ]
    },
    {
      "cell_type": "markdown",
      "metadata": {
        "id": "fAGfQXIGpecL"
      },
      "source": [
        " * Firstly, we define a base model for our dataset which consist of 2 parts: \n",
        "*   Transformer Block Layer: : contains Multi Head Attention layer (self attention), follwed by feedforward network layer, Layer Normalization and Dropout layers\n",
        "*   Head Layer : Fully connected (dense) layer\n",
        "*   Here, for the model metric, we are using the accuracy score since this is a \n",
        "multi-classification problem\n",
        " * Next, we manually tweak the Transformer Block Layer by changing the number of blocks, embedding size, number of attention heads and hidden layer size in feed forward network to improve the model accuracy.\n",
        " * After that, we apply keras random search tuner as another hyperparameter tunner for benchmarking with the manual practice.\n",
        " * Once the fine tunning for Transformer Block layer is done, we also perform experiment with the Head layer by changing the number of layers and nodes in the Dense layer.\n",
        " * Finally we revise the base model with Causal attention instead for another benchmarking of performance"
      ]
    },
    {
      "cell_type": "markdown",
      "metadata": {
        "id": "8n2zE-WmwjLq"
      },
      "source": [
        "4-1 Define TokenAndPositionEmbedding class"
      ]
    },
    {
      "cell_type": "markdown",
      "metadata": {
        "id": "5IpLSal8wrCO"
      },
      "source": [
        "Here is the first layer of the Transformer Block which processes the input data with both Token embedding and Positional embedding "
      ]
    },
    {
      "cell_type": "code",
      "execution_count": 17,
      "metadata": {
        "id": "6sCqXeQL3ZHR"
      },
      "outputs": [],
      "source": [
        "class TokenAndPositionEmbedding(layers.Layer):\n",
        "    def __init__(self, maxlen, vocab_size, embed_dim,**kwargs):\n",
        "        super(TokenAndPositionEmbedding, self).__init__(**kwargs)\n",
        "        self.token_emb = layers.Embedding(input_dim=vocab_size, output_dim=embed_dim)\n",
        "        self.pos_emb = layers.Embedding(input_dim=maxlen, output_dim=embed_dim)\n",
        "\n",
        "    def call(self, x):\n",
        "        maxlen = tf.shape(x)[-1]\n",
        "        positions = tf.range(start=0, limit=maxlen, delta=1)\n",
        "        positions = self.pos_emb(positions)\n",
        "        x = self.token_emb(x)\n",
        "        return x + positions"
      ]
    },
    {
      "cell_type": "markdown",
      "metadata": {
        "id": "T1x9l45rwKeb"
      },
      "source": [
        "4-2 Define TransformerBlock class"
      ]
    },
    {
      "cell_type": "markdown",
      "metadata": {
        "id": "BxWX6MzTxTg_"
      },
      "source": [
        "Here is the building block of the Transformer architecture. Hyper parameters which we defined, includes:\n",
        "\n",
        "\n",
        "*   **embed_dim**: embedding size for each token\n",
        "*   **num_heads**: number of attention head\n",
        "*   **ff_dim**: hidden layer size in feed forward network\n",
        "\n"
      ]
    },
    {
      "cell_type": "code",
      "execution_count": 16,
      "metadata": {
        "id": "8ZbPDrMx3XKR"
      },
      "outputs": [],
      "source": [
        "from tensorflow.keras import layers\n",
        "class TransformerBlock(layers.Layer):\n",
        "    def __init__(self, embed_dim, num_heads, ff_dim, rate=0.1,**kwargs):\n",
        "        super(TransformerBlock, self).__init__(**kwargs)\n",
        "        self.att = layers.MultiHeadAttention(num_heads=num_heads, key_dim=embed_dim)\n",
        "        self.ffn = keras.Sequential(\n",
        "            [layers.Dense(ff_dim, activation=\"relu\"), layers.Dense(embed_dim),]\n",
        "        )\n",
        "        self.layernorm1 = layers.LayerNormalization(epsilon=1e-6)\n",
        "        self.layernorm2 = layers.LayerNormalization(epsilon=1e-6)\n",
        "        self.dropout1 = layers.Dropout(rate)\n",
        "        self.dropout2 = layers.Dropout(rate)\n",
        "\n",
        "    def call(self, inputs, training):\n",
        "        attn_output = self.att(inputs, inputs)\n",
        "        attn_output = self.dropout1(attn_output, training=training)\n",
        "        out1 = self.layernorm1(inputs + attn_output)\n",
        "        ffn_output = self.ffn(out1)\n",
        "        ffn_output = self.dropout2(ffn_output, training=training)\n",
        "        return self.layernorm2(out1 + ffn_output)"
      ]
    },
    {
      "cell_type": "markdown",
      "metadata": {
        "id": "LaHGOcgDyVdB"
      },
      "source": [
        "4-3 Base model"
      ]
    },
    {
      "cell_type": "code",
      "execution_count": null,
      "metadata": {
        "id": "S9yx_CeL56nh"
      },
      "outputs": [],
      "source": [
        "embed_dim = 32  # Embedding size for each token\n",
        "num_heads = 2  # Number of attention heads\n",
        "ff_dim = 32  # Hidden layer size in feed forward network inside transformer\n",
        "\n",
        "inputs = layers.Input(shape=(maxlen,))\n",
        "embedding_layer = TokenAndPositionEmbedding(maxlen, vocab_size, embed_dim)\n",
        "x = embedding_layer(inputs)\n",
        "transformer_block = TransformerBlock(embed_dim, num_heads, ff_dim)\n",
        "x = transformer_block(x)\n",
        "x = layers.GlobalAveragePooling1D()(x)\n",
        "x = layers.Dropout(0.1)(x)\n",
        "x = layers.Dense(20, activation=\"relu\")(x)\n",
        "x = layers.Dropout(0.1)(x)\n",
        "outputs = layers.Dense(3, activation=\"softmax\")(x)\n",
        "\n",
        "Base_model = keras.Model(inputs=inputs, outputs=outputs)"
      ]
    },
    {
      "cell_type": "code",
      "execution_count": null,
      "metadata": {
        "colab": {
          "base_uri": "https://localhost:8080/"
        },
        "id": "hm0qGVGC5_RY",
        "outputId": "78416200-252f-4dda-fd1a-abc94db4e881"
      },
      "outputs": [
        {
          "name": "stdout",
          "output_type": "stream",
          "text": [
            "Epoch 1/10\n",
            "4353/4353 [==============================] - 86s 18ms/step - loss: 0.5197 - accuracy: 0.8002 - val_loss: 0.3721 - val_accuracy: 0.8688\n",
            "Epoch 2/10\n",
            "4353/4353 [==============================] - 44s 10ms/step - loss: 0.3285 - accuracy: 0.8884 - val_loss: 0.3354 - val_accuracy: 0.8830\n",
            "Epoch 3/10\n",
            "4353/4353 [==============================] - 44s 10ms/step - loss: 0.2896 - accuracy: 0.9030 - val_loss: 0.3503 - val_accuracy: 0.8803\n",
            "Epoch 4/10\n",
            "4353/4353 [==============================] - 43s 10ms/step - loss: 0.2632 - accuracy: 0.9128 - val_loss: 0.3493 - val_accuracy: 0.8869\n",
            "Epoch 5/10\n",
            "4353/4353 [==============================] - 42s 10ms/step - loss: 0.2399 - accuracy: 0.9207 - val_loss: 0.3588 - val_accuracy: 0.8838\n",
            "Epoch 6/10\n",
            "4353/4353 [==============================] - 42s 10ms/step - loss: 0.2191 - accuracy: 0.9274 - val_loss: 0.4002 - val_accuracy: 0.8834\n",
            "Epoch 7/10\n",
            "4353/4353 [==============================] - 43s 10ms/step - loss: 0.2004 - accuracy: 0.9333 - val_loss: 0.4426 - val_accuracy: 0.8781\n",
            "Epoch 7: early stopping\n"
          ]
        }
      ],
      "source": [
        "# Define the early stopping and checkpoint callbacks\n",
        "early_stop = EarlyStopping(monitor='val_accuracy', patience=3, verbose=1)\n",
        "checkpoint = ModelCheckpoint('/content/drive/MyDrive/Colab Notebooks/MathDL2/Project1_model/Base_model_checkpoint.h5', save_best_only=True, monitor='val_loss', mode='min')\n",
        "\n",
        "# Compile the model with the optimizer, loss function, and metrics\n",
        "Base_model.compile(optimizer=\"adam\", loss=\"sparse_categorical_crossentropy\", metrics=[\"accuracy\"])\n",
        "\n",
        "# Define the CSV logger callback\n",
        "csv_logger = keras.callbacks.CSVLogger('/content/drive/MyDrive/Colab Notebooks/MathDL2/Project1_model/training_history_base.csv')\n",
        "\n",
        "# Fit the model with early stopping and checkpoint callbacks\n",
        "history = Base_model.fit(X_train, y_train, batch_size=32, epochs=10, \n",
        "                      validation_data=(X_valid, y_valid),\n",
        "                      callbacks=[csv_logger, early_stop, checkpoint])"
      ]
    },
    {
      "cell_type": "code",
      "execution_count": null,
      "metadata": {
        "colab": {
          "base_uri": "https://localhost:8080/",
          "height": 295
        },
        "id": "QhgPkg_l7se_",
        "outputId": "793f1605-1ced-4582-8a9b-625dddcb9dba"
      },
      "outputs": [
        {
          "data": {
            "image/png": "[encoded data removed]",
            "text/plain": [
              "<Figure size 432x288 with 1 Axes>"
            ]
          },
          "metadata": {
            "needs_background": "light"
          },
          "output_type": "display_data"
        }
      ],
      "source": [
        "plt.plot(history.history['accuracy'])\n",
        "plt.plot(history.history['val_accuracy'])\n",
        "\n",
        "plt.title('Base_model accuracy')\n",
        "plt.ylabel('Accuracy')\n",
        "plt.xlabel('epoch')\n",
        "plt.legend(['train','valid'], loc='upper left')\n",
        "plt.show()"
      ]
    },
    {
      "cell_type": "code",
      "execution_count": null,
      "metadata": {
        "colab": {
          "base_uri": "https://localhost:8080/"
        },
        "id": "NvcC_psn7otY",
        "outputId": "a907fb03-7d26-4e92-96a0-5b0efdbd9b30"
      },
      "outputs": [
        {
          "name": "stdout",
          "output_type": "stream",
          "text": [
            "1361/1361 [==============================] - 6s 5ms/step - loss: 0.4377 - accuracy: 0.8815\n"
          ]
        }
      ],
      "source": [
        "test_loss, test_acc = Base_model.evaluate(X_test, y_test)"
      ]
    },
    {
      "cell_type": "markdown",
      "metadata": {
        "id": "uElJZLvG1b6s"
      },
      "source": [
        "Train accuracy increased substaintially after the first epoch and widenned the gap between train and validation accuracy. The model eventually (early) stop to avoid overfitting as val_accuracy did not improved. In the next trial, we will stack another transformer block to see if there any improvement in the score"
      ]
    },
    {
      "cell_type": "markdown",
      "metadata": {
        "id": "vJ1q34Km3TJF"
      },
      "source": [
        "4-4 Model 1 ( 2 Transformer Blocks)"
      ]
    },
    {
      "cell_type": "code",
      "execution_count": null,
      "metadata": {
        "id": "1NRHZ44i630o"
      },
      "outputs": [],
      "source": [
        "# adding a transformer block "
      ]
    },
    {
      "cell_type": "code",
      "execution_count": null,
      "metadata": {
        "id": "tsm5XQ0E3lxZ"
      },
      "outputs": [],
      "source": [
        "embed_dim = 32  # Embedding size for each token\n",
        "num_heads = 2  # Number of attention heads\n",
        "ff_dim = 32  # Hidden layer size in feed forward network inside transformer\n",
        "\n",
        "inputs = layers.Input(shape=(maxlen,))\n",
        "embedding_layer = TokenAndPositionEmbedding(maxlen, vocab_size, embed_dim)\n",
        "x = embedding_layer(inputs)\n",
        "\n",
        "transformer_block1 = TransformerBlock(embed_dim, num_heads, ff_dim)\n",
        "x = transformer_block1(x)\n",
        "\n",
        "# Add another TransformerBlock\n",
        "transformer_block2 = TransformerBlock(embed_dim, num_heads, ff_dim)\n",
        "x = transformer_block2(x)\n",
        "\n",
        "x = layers.GlobalAveragePooling1D()(x)\n",
        "x = layers.Dropout(0.1)(x)\n",
        "x = layers.Dense(20, activation=\"relu\")(x)\n",
        "x = layers.Dropout(0.1)(x)\n",
        "outputs = layers.Dense(3, activation=\"softmax\")(x)\n",
        "\n",
        "model_1 = keras.Model(inputs=inputs, outputs=outputs)"
      ]
    },
    {
      "cell_type": "code",
      "execution_count": null,
      "metadata": {
        "colab": {
          "base_uri": "https://localhost:8080/"
        },
        "id": "1OVzw_kE30GM",
        "outputId": "bba6bc96-5aa4-4b03-b2d5-6780f8421c64"
      },
      "outputs": [
        {
          "name": "stdout",
          "output_type": "stream",
          "text": [
            "Epoch 1/10\n",
            "4353/4353 [==============================] - 97s 21ms/step - loss: 0.5037 - accuracy: 0.8112 - val_loss: 0.3624 - val_accuracy: 0.8769\n",
            "Epoch 2/10\n",
            "4353/4353 [==============================] - 67s 15ms/step - loss: 0.3278 - accuracy: 0.8914 - val_loss: 0.3716 - val_accuracy: 0.8750\n",
            "Epoch 3/10\n",
            "4353/4353 [==============================] - 60s 14ms/step - loss: 0.2863 - accuracy: 0.9062 - val_loss: 0.4331 - val_accuracy: 0.8267\n",
            "Epoch 4/10\n",
            "4353/4353 [==============================] - 62s 14ms/step - loss: 0.2602 - accuracy: 0.9160 - val_loss: 0.3479 - val_accuracy: 0.8901\n",
            "Epoch 5/10\n",
            "4353/4353 [==============================] - 60s 14ms/step - loss: 0.2375 - accuracy: 0.9229 - val_loss: 0.3514 - val_accuracy: 0.8874\n",
            "Epoch 6/10\n",
            "4353/4353 [==============================] - 60s 14ms/step - loss: 0.2181 - accuracy: 0.9294 - val_loss: 0.3605 - val_accuracy: 0.8873\n",
            "Epoch 7/10\n",
            "4353/4353 [==============================] - 60s 14ms/step - loss: 0.1975 - accuracy: 0.9357 - val_loss: 0.3933 - val_accuracy: 0.8791\n",
            "Epoch 7: early stopping\n"
          ]
        }
      ],
      "source": [
        "from tensorflow.keras.callbacks import EarlyStopping, ModelCheckpoint\n",
        "\n",
        "# Define the early stopping and checkpoint callbacks\n",
        "early_stop = EarlyStopping(monitor='val_accuracy', patience=3, verbose=1)\n",
        "checkpoint = ModelCheckpoint('/content/drive/MyDrive/Colab Notebooks/MathDL2/Project1_model/model1_checkpoint.h5', save_best_only=True, monitor='val_loss', mode='min')\n",
        "\n",
        "# Compile the model with the optimizer, loss function, and metrics\n",
        "model_1.compile(optimizer=\"adam\", loss=\"sparse_categorical_crossentropy\", metrics=[\"accuracy\"])\n",
        "\n",
        "# Define the CSV logger callback\n",
        "csv_logger = keras.callbacks.CSVLogger('/content/drive/MyDrive/Colab Notebooks/MathDL2/Project1_model/training_history1.csv')\n",
        "\n",
        "# Fit the model with early stopping and checkpoint callbacks\n",
        "history = model_1.fit(X_train, y_train, batch_size=32, epochs=10, \n",
        "                      validation_data=(X_valid, y_valid),\n",
        "                      callbacks=[csv_logger, early_stop, checkpoint])"
      ]
    },
    {
      "cell_type": "code",
      "execution_count": null,
      "metadata": {
        "colab": {
          "base_uri": "https://localhost:8080/",
          "height": 295
        },
        "id": "y1bXTqum38B_",
        "outputId": "2871835e-d572-4b41-a28d-65c53fe9d41c"
      },
      "outputs": [
        {
          "data": {
            "image/png": "[encoded data removed]",
            "text/plain": [
              "<Figure size 432x288 with 1 Axes>"
            ]
          },
          "metadata": {},
          "output_type": "display_data"
        }
      ],
      "source": [
        "plt.plot(history.history['accuracy'])\n",
        "plt.plot(history.history['val_accuracy'])\n",
        "\n",
        "plt.title('model_1 accuracy')\n",
        "plt.ylabel('Accuracy')\n",
        "plt.xlabel('epoch')\n",
        "plt.legend(['train','valid'], loc='upper left')\n",
        "plt.show()"
      ]
    },
    {
      "cell_type": "code",
      "execution_count": null,
      "metadata": {
        "colab": {
          "base_uri": "https://localhost:8080/"
        },
        "id": "Sg4qmxYb7iQY",
        "outputId": "fca460ff-0760-42ff-9dee-d6d0cace0ae4"
      },
      "outputs": [
        {
          "name": "stdout",
          "output_type": "stream",
          "text": [
            "1361/1361 [==============================] - 9s 7ms/step - loss: 0.3544 - accuracy: 0.8878\n"
          ]
        }
      ],
      "source": [
        "test_loss, test_acc = model_1.evaluate(X_test, y_test)"
      ]
    },
    {
      "cell_type": "markdown",
      "metadata": {
        "id": "b6KQB4a93cLD"
      },
      "source": [
        "With multiple Transforme Block, the model increase its capability to capture more complex sequence. The val_accuracy slightly better and also reached a peak of (0.89).  The model again stopped before the 10th epochs. We will continue the process by stacking another Transformer block"
      ]
    },
    {
      "cell_type": "markdown",
      "metadata": {
        "id": "yRsAvHO55ohy"
      },
      "source": [
        "4-5 Model 2- (3 Transformer Blocks)"
      ]
    },
    {
      "cell_type": "code",
      "execution_count": 24,
      "metadata": {
        "id": "tHVm7zTI5201"
      },
      "outputs": [],
      "source": [
        "embed_dim = 32  # Embedding size for each token\n",
        "num_heads = 2  # Number of attention heads\n",
        "ff_dim = 32  # Hidden layer size in feed forward network inside transformer\n",
        "\n",
        "inputs = layers.Input(shape=(maxlen,))\n",
        "embedding_layer = TokenAndPositionEmbedding(maxlen, vocab_size, embed_dim)\n",
        "x = embedding_layer(inputs)\n",
        "\n",
        "transformer_block1 = TransformerBlock(embed_dim, num_heads, ff_dim)\n",
        "x = transformer_block1(x)\n",
        "\n",
        "# Add another TransformerBlock\n",
        "transformer_block2 = TransformerBlock(embed_dim, num_heads, ff_dim)\n",
        "x = transformer_block2(x)\n",
        "\n",
        "# Add another TransformerBlock\n",
        "transformer_block3 = TransformerBlock(embed_dim, num_heads, ff_dim)\n",
        "x = transformer_block3(x)\n",
        "\n",
        "x = layers.GlobalAveragePooling1D()(x)\n",
        "x = layers.Dropout(0.1)(x)\n",
        "x = layers.Dense(20, activation=\"relu\")(x)\n",
        "x = layers.Dropout(0.1)(x)\n",
        "outputs = layers.Dense(3, activation=\"softmax\")(x)\n",
        "\n",
        "model_2 = keras.Model(inputs=inputs, outputs=outputs)"
      ]
    },
    {
      "cell_type": "code",
      "execution_count": 25,
      "metadata": {
        "colab": {
          "base_uri": "https://localhost:8080/"
        },
        "id": "Hot8Qmd077CB",
        "outputId": "aea64991-5902-4840-b043-231c4168de8a"
      },
      "outputs": [
        {
          "name": "stdout",
          "output_type": "stream",
          "text": [
            "Epoch 1/10\n",
            "4353/4353 [==============================] - 148s 31ms/step - loss: 0.5015 - accuracy: 0.8120 - val_loss: 0.4594 - val_accuracy: 0.8194\n",
            "Epoch 2/10\n",
            "4353/4353 [==============================] - 110s 25ms/step - loss: 0.3354 - accuracy: 0.8910 - val_loss: 0.3463 - val_accuracy: 0.8920\n",
            "Epoch 3/10\n",
            "4353/4353 [==============================] - 109s 25ms/step - loss: 0.2974 - accuracy: 0.9040 - val_loss: 0.3333 - val_accuracy: 0.8936\n",
            "Epoch 4/10\n",
            "4353/4353 [==============================] - 93s 21ms/step - loss: 0.2730 - accuracy: 0.9136 - val_loss: 0.3203 - val_accuracy: 0.8967\n",
            "Epoch 5/10\n",
            "4353/4353 [==============================] - 100s 23ms/step - loss: 0.2547 - accuracy: 0.9189 - val_loss: 0.3652 - val_accuracy: 0.8877\n",
            "Epoch 6/10\n",
            "4353/4353 [==============================] - 119s 27ms/step - loss: 0.2374 - accuracy: 0.9241 - val_loss: 0.3552 - val_accuracy: 0.8910\n",
            "Epoch 7/10\n",
            "4353/4353 [==============================] - 97s 22ms/step - loss: 0.2156 - accuracy: 0.9311 - val_loss: 0.3874 - val_accuracy: 0.8860\n",
            "Epoch 7: early stopping\n"
          ]
        }
      ],
      "source": [
        "from tensorflow.keras.callbacks import EarlyStopping, ModelCheckpoint\n",
        "\n",
        "# Define the early stopping and checkpoint callbacks\n",
        "early_stop = EarlyStopping(monitor='val_accuracy', patience=3, verbose=1)\n",
        "checkpoint = ModelCheckpoint('/content/drive/MyDrive/Colab Notebooks/MathDL2/Project1_model/model2_checkpoint.h5', save_best_only=True, monitor='val_loss', mode='min')\n",
        "\n",
        "# Compile the model with the optimizer, loss function, and metrics\n",
        "model_2.compile(optimizer=\"adam\", loss=\"sparse_categorical_crossentropy\", metrics=[\"accuracy\"])\n",
        "\n",
        "# Define the CSV logger callback\n",
        "csv_logger = keras.callbacks.CSVLogger('/content/drive/MyDrive/Colab Notebooks/MathDL2/Project1_model/training_history2.csv')\n",
        "\n",
        "# Fit the model with early stopping and checkpoint callbacks\n",
        "history = model_2.fit(X_train, y_train, batch_size=32, epochs=10, \n",
        "                      validation_data=(X_valid, y_valid),\n",
        "                      callbacks=[csv_logger, early_stop, checkpoint])"
      ]
    },
    {
      "cell_type": "code",
      "execution_count": 26,
      "metadata": {
        "colab": {
          "base_uri": "https://localhost:8080/",
          "height": 295
        },
        "id": "78Qp0XkN8Cy1",
        "outputId": "ace88d7e-5014-4779-b886-1ba81f5dacac"
      },
      "outputs": [
        {
          "data": {
            "image/png": "[encoded data removed]",
            "text/plain": [
              "<Figure size 432x288 with 1 Axes>"
            ]
          },
          "metadata": {
            "needs_background": "light"
          },
          "output_type": "display_data"
        }
      ],
      "source": [
        "plt.plot(history.history['accuracy'])\n",
        "plt.plot(history.history['val_accuracy'])\n",
        "\n",
        "plt.title('model_2 accuracy')\n",
        "plt.ylabel('Accuracy')\n",
        "plt.xlabel('epoch')\n",
        "plt.legend(['train','valid'], loc='upper left')\n",
        "plt.show()"
      ]
    },
    {
      "cell_type": "code",
      "execution_count": null,
      "metadata": {
        "colab": {
          "base_uri": "https://localhost:8080/"
        },
        "id": "bdT_TPJm9Qvb",
        "outputId": "caeb2c39-0885-4841-df93-b9ab9ebc2e67"
      },
      "outputs": [
        {
          "name": "stdout",
          "output_type": "stream",
          "text": [
            "1361/1361 [==============================] - 10s 7ms/step - loss: 0.4740 - accuracy: 0.8766\n"
          ]
        }
      ],
      "source": [
        "test_loss, test_acc = model_2.evaluate(X_test, y_test)"
      ]
    },
    {
      "cell_type": "markdown",
      "metadata": {
        "id": "PI6lfkMc_Lzo"
      },
      "source": [
        "No significant improvement in val_accuracy in the model 2 with 3 Transformer blocks, however the test_accuracy slightly decreased. To avoid over complicating our model, we decided to moved forward with 2 Tranformer blocks and perform randomsearch tuner in the next step"
      ]
    },
    {
      "cell_type": "markdown",
      "metadata": {
        "id": "qfVkP0Bn_85K"
      },
      "source": [
        "4-6 Keras Randomsearch Tunner"
      ]
    },
    {
      "cell_type": "markdown",
      "metadata": {
        "id": "QjKbNAtNAI6M"
      },
      "source": [
        "In this section, after defining train,test and valid dataset, we import keras_tuner and write a function that builds, compiles and returns a keras model.The function must take a kt.HyperParameters object as an argument,in which hyperparameters are defined with their range of possible values. The hyperparameter values are randomply pick to build and compile the model. The combination of hyperparameter values, that provide the highest accurarcy score for model, is then selected to create the best model.\n",
        " For our project, the following hyperparameters are selected for fine tunning:\n",
        " * **embed_dim**: embedding size for each token\n",
        " * **num_heads**: number of attention head\n",
        " * **ff_dim**: hidden layer size in feed forward network\n",
        " \n",
        "We will run 'build model' function with 5 trial for our dataset. For each trial, this function pick a random value of the predefined range for each hyperparameter and after running 5 different architecture with different set of hyperparameters, the best model is selected based on val_accuracy score."
      ]
    },
    {
      "cell_type": "code",
      "execution_count": 33,
      "metadata": {
        "id": "-p1GYlFTFcd1"
      },
      "outputs": [],
      "source": [
        "from keras.utils import to_categorical\n",
        "\n",
        "# One-hot encode the target data\n",
        "y_train_encoded = to_categorical(y_train, num_classes=3)\n",
        "y_valid_encoded = to_categorical(y_valid, num_classes=3)"
      ]
    },
    {
      "cell_type": "code",
      "execution_count": null,
      "metadata": {
        "colab": {
          "base_uri": "https://localhost:8080/"
        },
        "id": "wc--bdhOn2NR",
        "outputId": "df30bb9e-863f-4fd3-c6d7-803391319127"
      },
      "outputs": [
        {
          "name": "stdout",
          "output_type": "stream",
          "text": [
            "Looking in indexes: https://pypi.org/simple, https://us-python.pkg.dev/colab-wheels/public/simple/\n",
            "Collecting keras-tuner\n",
            "  Downloading keras_tuner-1.3.0-py3-none-any.whl (167 kB)\n",
            "\u001b[2K     \u001b[90m━━━━━━━━━━━━━━━━━━━━━━━━━━━━━━━━━━━━━━━\u001b[0m \u001b[32m167.3/167.3 KB\u001b[0m \u001b[31m5.0 MB/s\u001b[0m eta \u001b[36m0:00:00\u001b[0m\n",
            "\u001b[?25hRequirement already satisfied: requests in /usr/local/lib/python3.9/dist-packages (from keras-tuner) (2.27.1)\n",
            "Requirement already satisfied: ipython in /usr/local/lib/python3.9/dist-packages (from keras-tuner) (7.9.0)\n",
            "Requirement already satisfied: packaging in /usr/local/lib/python3.9/dist-packages (from keras-tuner) (23.0)\n",
            "Collecting kt-legacy\n",
            "  Downloading kt_legacy-1.0.4-py3-none-any.whl (9.6 kB)\n",
            "Requirement already satisfied: tensorflow>=2.0 in /usr/local/lib/python3.9/dist-packages (from keras-tuner) (2.11.0)\n",
            "Requirement already satisfied: setuptools in /usr/local/lib/python3.9/dist-packages (from tensorflow>=2.0->keras-tuner) (67.6.0)\n",
            "Requirement already satisfied: six>=1.12.0 in /usr/local/lib/python3.9/dist-packages (from tensorflow>=2.0->keras-tuner) (1.16.0)\n",
            "Requirement already satisfied: tensorboard<2.12,>=2.11 in /usr/local/lib/python3.9/dist-packages (from tensorflow>=2.0->keras-tuner) (2.11.2)\n",
            "Requirement already satisfied: libclang>=13.0.0 in /usr/local/lib/python3.9/dist-packages (from tensorflow>=2.0->keras-tuner) (15.0.6.1)\n",
            "Requirement already satisfied: numpy>=1.20 in /usr/local/lib/python3.9/dist-packages (from tensorflow>=2.0->keras-tuner) (1.22.4)\n",
            "Requirement already satisfied: tensorflow-io-gcs-filesystem>=0.23.1 in /usr/local/lib/python3.9/dist-packages (from tensorflow>=2.0->keras-tuner) (0.31.0)\n",
            "Requirement already satisfied: opt-einsum>=2.3.2 in /usr/local/lib/python3.9/dist-packages (from tensorflow>=2.0->keras-tuner) (3.3.0)\n",
            "Requirement already satisfied: wrapt>=1.11.0 in /usr/local/lib/python3.9/dist-packages (from tensorflow>=2.0->keras-tuner) (1.15.0)\n",
            "Requirement already satisfied: gast<=0.4.0,>=0.2.1 in /usr/local/lib/python3.9/dist-packages (from tensorflow>=2.0->keras-tuner) (0.4.0)\n",
            "Requirement already satisfied: keras<2.12,>=2.11.0 in /usr/local/lib/python3.9/dist-packages (from tensorflow>=2.0->keras-tuner) (2.11.0)\n",
            "Requirement already satisfied: google-pasta>=0.1.1 in /usr/local/lib/python3.9/dist-packages (from tensorflow>=2.0->keras-tuner) (0.2.0)\n",
            "Requirement already satisfied: tensorflow-estimator<2.12,>=2.11.0 in /usr/local/lib/python3.9/dist-packages (from tensorflow>=2.0->keras-tuner) (2.11.0)\n",
            "Requirement already satisfied: astunparse>=1.6.0 in /usr/local/lib/python3.9/dist-packages (from tensorflow>=2.0->keras-tuner) (1.6.3)\n",
            "Requirement already satisfied: h5py>=2.9.0 in /usr/local/lib/python3.9/dist-packages (from tensorflow>=2.0->keras-tuner) (3.8.0)\n",
            "Requirement already satisfied: flatbuffers>=2.0 in /usr/local/lib/python3.9/dist-packages (from tensorflow>=2.0->keras-tuner) (23.3.3)\n",
            "Requirement already satisfied: grpcio<2.0,>=1.24.3 in /usr/local/lib/python3.9/dist-packages (from tensorflow>=2.0->keras-tuner) (1.51.3)\n",
            "Requirement already satisfied: protobuf<3.20,>=3.9.2 in /usr/local/lib/python3.9/dist-packages (from tensorflow>=2.0->keras-tuner) (3.19.6)\n",
            "Requirement already satisfied: typing-extensions>=3.6.6 in /usr/local/lib/python3.9/dist-packages (from tensorflow>=2.0->keras-tuner) (4.5.0)\n",
            "Requirement already satisfied: absl-py>=1.0.0 in /usr/local/lib/python3.9/dist-packages (from tensorflow>=2.0->keras-tuner) (1.4.0)\n",
            "Requirement already satisfied: termcolor>=1.1.0 in /usr/local/lib/python3.9/dist-packages (from tensorflow>=2.0->keras-tuner) (2.2.0)\n",
            "Requirement already satisfied: backcall in /usr/local/lib/python3.9/dist-packages (from ipython->keras-tuner) (0.2.0)\n",
            "Requirement already satisfied: prompt-toolkit<2.1.0,>=2.0.0 in /usr/local/lib/python3.9/dist-packages (from ipython->keras-tuner) (2.0.10)\n",
            "Requirement already satisfied: traitlets>=4.2 in /usr/local/lib/python3.9/dist-packages (from ipython->keras-tuner) (5.7.1)\n",
            "Requirement already satisfied: decorator in /usr/local/lib/python3.9/dist-packages (from ipython->keras-tuner) (4.4.2)\n",
            "Requirement already satisfied: pexpect in /usr/local/lib/python3.9/dist-packages (from ipython->keras-tuner) (4.8.0)\n",
            "Requirement already satisfied: pygments in /usr/local/lib/python3.9/dist-packages (from ipython->keras-tuner) (2.6.1)\n",
            "Collecting jedi>=0.10\n",
            "  Downloading jedi-0.18.2-py2.py3-none-any.whl (1.6 MB)\n",
            "\u001b[2K     \u001b[90m━━━━━━━━━━━━━━━━━━━━━━━━━━━━━━━━━━━━━━━━\u001b[0m \u001b[32m1.6/1.6 MB\u001b[0m \u001b[31m32.5 MB/s\u001b[0m eta \u001b[36m0:00:00\u001b[0m\n",
            "\u001b[?25hRequirement already satisfied: pickleshare in /usr/local/lib/python3.9/dist-packages (from ipython->keras-tuner) (0.7.5)\n",
            "Requirement already satisfied: idna<4,>=2.5 in /usr/local/lib/python3.9/dist-packages (from requests->keras-tuner) (3.4)\n",
            "Requirement already satisfied: certifi>=2017.4.17 in /usr/local/lib/python3.9/dist-packages (from requests->keras-tuner) (2022.12.7)\n",
            "Requirement already satisfied: urllib3<1.27,>=1.21.1 in /usr/local/lib/python3.9/dist-packages (from requests->keras-tuner) (1.26.15)\n",
            "Requirement already satisfied: charset-normalizer~=2.0.0 in /usr/local/lib/python3.9/dist-packages (from requests->keras-tuner) (2.0.12)\n",
            "Requirement already satisfied: wheel<1.0,>=0.23.0 in /usr/local/lib/python3.9/dist-packages (from astunparse>=1.6.0->tensorflow>=2.0->keras-tuner) (0.40.0)\n",
            "Requirement already satisfied: parso<0.9.0,>=0.8.0 in /usr/local/lib/python3.9/dist-packages (from jedi>=0.10->ipython->keras-tuner) (0.8.3)\n",
            "Requirement already satisfied: wcwidth in /usr/local/lib/python3.9/dist-packages (from prompt-toolkit<2.1.0,>=2.0.0->ipython->keras-tuner) (0.2.6)\n",
            "Requirement already satisfied: markdown>=2.6.8 in /usr/local/lib/python3.9/dist-packages (from tensorboard<2.12,>=2.11->tensorflow>=2.0->keras-tuner) (3.4.1)\n",
            "Requirement already satisfied: tensorboard-data-server<0.7.0,>=0.6.0 in /usr/local/lib/python3.9/dist-packages (from tensorboard<2.12,>=2.11->tensorflow>=2.0->keras-tuner) (0.6.1)\n",
            "Requirement already satisfied: google-auth<3,>=1.6.3 in /usr/local/lib/python3.9/dist-packages (from tensorboard<2.12,>=2.11->tensorflow>=2.0->keras-tuner) (2.16.2)\n",
            "Requirement already satisfied: werkzeug>=1.0.1 in /usr/local/lib/python3.9/dist-packages (from tensorboard<2.12,>=2.11->tensorflow>=2.0->keras-tuner) (2.2.3)\n",
            "Requirement already satisfied: tensorboard-plugin-wit>=1.6.0 in /usr/local/lib/python3.9/dist-packages (from tensorboard<2.12,>=2.11->tensorflow>=2.0->keras-tuner) (1.8.1)\n",
            "Requirement already satisfied: google-auth-oauthlib<0.5,>=0.4.1 in /usr/local/lib/python3.9/dist-packages (from tensorboard<2.12,>=2.11->tensorflow>=2.0->keras-tuner) (0.4.6)\n",
            "Requirement already satisfied: ptyprocess>=0.5 in /usr/local/lib/python3.9/dist-packages (from pexpect->ipython->keras-tuner) (0.7.0)\n",
            "Requirement already satisfied: pyasn1-modules>=0.2.1 in /usr/local/lib/python3.9/dist-packages (from google-auth<3,>=1.6.3->tensorboard<2.12,>=2.11->tensorflow>=2.0->keras-tuner) (0.2.8)\n",
            "Requirement already satisfied: cachetools<6.0,>=2.0.0 in /usr/local/lib/python3.9/dist-packages (from google-auth<3,>=1.6.3->tensorboard<2.12,>=2.11->tensorflow>=2.0->keras-tuner) (5.3.0)\n",
            "Requirement already satisfied: rsa<5,>=3.1.4 in /usr/local/lib/python3.9/dist-packages (from google-auth<3,>=1.6.3->tensorboard<2.12,>=2.11->tensorflow>=2.0->keras-tuner) (4.9)\n",
            "Requirement already satisfied: requests-oauthlib>=0.7.0 in /usr/local/lib/python3.9/dist-packages (from google-auth-oauthlib<0.5,>=0.4.1->tensorboard<2.12,>=2.11->tensorflow>=2.0->keras-tuner) (1.3.1)\n",
            "Requirement already satisfied: importlib-metadata>=4.4 in /usr/local/lib/python3.9/dist-packages (from markdown>=2.6.8->tensorboard<2.12,>=2.11->tensorflow>=2.0->keras-tuner) (6.1.0)\n",
            "Requirement already satisfied: MarkupSafe>=2.1.1 in /usr/local/lib/python3.9/dist-packages (from werkzeug>=1.0.1->tensorboard<2.12,>=2.11->tensorflow>=2.0->keras-tuner) (2.1.2)\n",
            "Requirement already satisfied: zipp>=0.5 in /usr/local/lib/python3.9/dist-packages (from importlib-metadata>=4.4->markdown>=2.6.8->tensorboard<2.12,>=2.11->tensorflow>=2.0->keras-tuner) (3.15.0)\n",
            "Requirement already satisfied: pyasn1<0.5.0,>=0.4.6 in /usr/local/lib/python3.9/dist-packages (from pyasn1-modules>=0.2.1->google-auth<3,>=1.6.3->tensorboard<2.12,>=2.11->tensorflow>=2.0->keras-tuner) (0.4.8)\n",
            "Requirement already satisfied: oauthlib>=3.0.0 in /usr/local/lib/python3.9/dist-packages (from requests-oauthlib>=0.7.0->google-auth-oauthlib<0.5,>=0.4.1->tensorboard<2.12,>=2.11->tensorflow>=2.0->keras-tuner) (3.2.2)\n",
            "Installing collected packages: kt-legacy, jedi, keras-tuner\n",
            "Successfully installed jedi-0.18.2 keras-tuner-1.3.0 kt-legacy-1.0.4\n"
          ]
        }
      ],
      "source": [
        "!pip install keras-tuner\n"
      ]
    },
    {
      "cell_type": "code",
      "execution_count": null,
      "metadata": {
        "colab": {
          "base_uri": "https://localhost:8080/"
        },
        "id": "DRbaLY7c9tWF",
        "outputId": "40415d5d-79d4-433f-84a5-4a1d8502313c"
      },
      "outputs": [
        {
          "name": "stdout",
          "output_type": "stream",
          "text": [
            "Trial 5 Complete [00h 08m 27s]\n",
            "val_accuracy: 0.8867892026901245\n",
            "\n",
            "Best val_accuracy So Far: 0.8919586539268494\n",
            "Total elapsed time: 00h 36m 34s\n"
          ]
        }
      ],
      "source": [
        "from tensorflow.keras import layers\n",
        "from kerastuner.tuners import RandomSearch\n",
        "from kerastuner.engine.hyperparameters import HyperParameters\n",
        "\n",
        "# Define the model architecture\n",
        "def build_model(hp):\n",
        "    embed_dim = hp.Int('embed_dim', min_value=16, max_value=64, step=16)\n",
        "    num_heads = hp.Int('num_heads', min_value=2, max_value=4, step=1)\n",
        "    ff_dim = hp.Int('ff_dim', min_value=16, max_value=64, step=16)\n",
        "    inputs = layers.Input(shape=(maxlen,))\n",
        "    embedding_layer = TokenAndPositionEmbedding(maxlen, vocab_size, embed_dim)\n",
        "    x = embedding_layer(inputs)\n",
        "    transformer_block = TransformerBlock(embed_dim, num_heads, ff_dim)\n",
        "    x = transformer_block(x)\n",
        "    transformer_block2 = TransformerBlock(embed_dim, num_heads, ff_dim)\n",
        "    x = transformer_block2(x)\n",
        "    x = layers.GlobalAveragePooling1D()(x)\n",
        "    x = layers.Dropout(0.1)(x)\n",
        "    x = layers.Dense(20, activation=\"relu\")(x)\n",
        "    x = layers.Dropout(0.1)(x)\n",
        "    outputs = layers.Dense(3, activation=\"softmax\")(x)\n",
        "    model_Random = keras.Model(inputs=inputs, outputs=outputs)\n",
        "    model_Random.compile(optimizer=keras.optimizers.Adam(\n",
        "        hp.Choice('learning_rate', values=[1e-3, 1e-4])),\n",
        "        loss='categorical_crossentropy',\n",
        "        metrics=['accuracy'])\n",
        "    return model_Random\n",
        "\n",
        "# Instantiate the tuner and perform the random search\n",
        "random_search_tuner = RandomSearch(build_model, objective=\"val_accuracy\", max_trials=5, overwrite=True,\n",
        "directory=\"GPT\", project_name=\"my_rnd_search\", seed=42)\n",
        "random_search_tuner.search(X_train, y_train_encoded, epochs=5, validation_data=(X_valid, y_valid_encoded),callbacks=[keras.callbacks.EarlyStopping(patience=3)])"
      ]
    },
    {
      "cell_type": "code",
      "execution_count": null,
      "metadata": {
        "id": "L5NwPb_FD5O4"
      },
      "outputs": [],
      "source": [
        "top3_models = random_search_tuner.get_best_models(num_models=3)\n",
        "best_model = top3_models[0]"
      ]
    },
    {
      "cell_type": "code",
      "execution_count": null,
      "metadata": {
        "colab": {
          "base_uri": "https://localhost:8080/"
        },
        "id": "TvQS_eXxx4Kw",
        "outputId": "3c80daf7-cb3b-42a3-e718-89ac8f1ec7f0"
      },
      "outputs": [
        {
          "name": "stdout",
          "output_type": "stream",
          "text": [
            "Trial summary\n",
            "Hyperparameters:\n",
            "embed_dim: 48\n",
            "num_heads: 2\n",
            "ff_dim: 32\n",
            "learning_rate: 0.001\n",
            "Score: 0.8919586539268494\n"
          ]
        }
      ],
      "source": [
        "best_trial = random_search_tuner.oracle.get_best_trials(num_trials=1)[0]\n",
        "best_trial.summary()"
      ]
    },
    {
      "cell_type": "markdown",
      "metadata": {
        "id": "G-78TcVQBEJJ"
      },
      "source": [
        "Here we have all the best hyper parameters value after the tunning, we will save the best model and continue to run for more epochs"
      ]
    },
    {
      "cell_type": "code",
      "execution_count": null,
      "metadata": {
        "id": "DgwLUzstmWNC"
      },
      "outputs": [],
      "source": [
        "best_model.save('/content/drive/MyDrive/Colab Notebooks/MathDL2/Project1_model/best_tuner_model.h5')"
      ]
    },
    {
      "cell_type": "code",
      "execution_count": 28,
      "metadata": {
        "id": "WGjX0TSwyMLk"
      },
      "outputs": [],
      "source": [
        "from keras.models import load_model\n",
        "from keras.utils import custom_object_scope"
      ]
    },
    {
      "cell_type": "code",
      "execution_count": 29,
      "metadata": {
        "id": "gQ4qsvGDxtZk"
      },
      "outputs": [],
      "source": [
        "with custom_object_scope({'TokenAndPositionEmbedding': TokenAndPositionEmbedding,'TransformerBlock':TransformerBlock}):\n",
        "    loaded_model = load_model('/content/drive/MyDrive/Colab Notebooks/MathDL2/Project1_model/best_tuner_model.h5')"
      ]
    },
    {
      "cell_type": "code",
      "execution_count": 30,
      "metadata": {
        "colab": {
          "base_uri": "https://localhost:8080/"
        },
        "id": "rSj6vk1JnbXi",
        "outputId": "520886a7-7547-4d22-af5e-c58bdb0c5e12"
      },
      "outputs": [
        {
          "name": "stdout",
          "output_type": "stream",
          "text": [
            "Epoch 1/20\n",
            "4353/4353 [==============================] - 119s 25ms/step - loss: 0.2928 - accuracy: 0.9041 - val_loss: 0.3393 - val_accuracy: 0.8884\n",
            "Epoch 2/20\n",
            "4353/4353 [==============================] - 89s 20ms/step - loss: 0.2643 - accuracy: 0.9146 - val_loss: 0.3602 - val_accuracy: 0.8826\n",
            "Epoch 3/20\n",
            "4353/4353 [==============================] - 82s 19ms/step - loss: 0.2403 - accuracy: 0.9218 - val_loss: 0.3655 - val_accuracy: 0.8861\n",
            "Epoch 4/20\n",
            "4353/4353 [==============================] - 81s 19ms/step - loss: 0.2150 - accuracy: 0.9303 - val_loss: 0.3691 - val_accuracy: 0.8851\n",
            "Epoch 4: early stopping\n"
          ]
        }
      ],
      "source": [
        "# Define the early stopping and checkpoint callbacks\n",
        "early_stop = EarlyStopping(monitor='val_accuracy', patience=3, verbose=1)\n",
        "checkpoint = ModelCheckpoint('/content/drive/MyDrive/Colab Notebooks/MathDL2/Project1_model/best_tuner_01.h5', save_best_only=True, monitor='val_loss', mode='min')\n",
        "\n",
        "# Compile the model with the optimizer, loss function, and metrics\n",
        "loaded_model.compile(optimizer=\"adam\", loss=\"sparse_categorical_crossentropy\", metrics=[\"accuracy\"])\n",
        "\n",
        "# Define the CSV logger callback\n",
        "csv_logger = keras.callbacks.CSVLogger('/content/drive/MyDrive/Colab Notebooks/MathDL2/Project1_model/training_history_best_tuner.csv')\n",
        "\n",
        "# Fit the model with early stopping and checkpoint callbacks\n",
        "history = loaded_model.fit(X_train, y_train, batch_size=32, epochs=20, \n",
        "                      validation_data=(X_valid, y_valid),\n",
        "                      callbacks=[csv_logger, early_stop, checkpoint])"
      ]
    },
    {
      "cell_type": "code",
      "execution_count": 31,
      "metadata": {
        "colab": {
          "base_uri": "https://localhost:8080/",
          "height": 295
        },
        "id": "hvJJyc4ynxEa",
        "outputId": "fe1d2caf-22fc-4eab-bd32-acc3e5ad9b2e"
      },
      "outputs": [
        {
          "data": {
            "image/png": "[encoded data removed]",
            "text/plain": [
              "<Figure size 432x288 with 1 Axes>"
            ]
          },
          "metadata": {
            "needs_background": "light"
          },
          "output_type": "display_data"
        }
      ],
      "source": [
        "plt.plot(history.history['accuracy'])\n",
        "plt.plot(history.history['val_accuracy'])\n",
        "\n",
        "plt.title('best_tuner_model accuracy')\n",
        "plt.ylabel('Accuracy')\n",
        "plt.xlabel('epoch')\n",
        "plt.legend(['train','valid'], loc='upper left')\n",
        "plt.show()"
      ]
    },
    {
      "cell_type": "markdown",
      "metadata": {
        "id": "wK2VJ8ZnBTyo"
      },
      "source": [
        "The model quickly stopped after only 4 epochs as the val_accuracy did not improve. A similar accuracy score is obtained in comparision with the manual fine tunning result. After different trials on the Block Transfer layer with no significant improvement, we moved to fine tuning the Head layer."
      ]
    },
    {
      "cell_type": "code",
      "execution_count": 35,
      "metadata": {
        "id": "Hg-o51cHynzy"
      },
      "outputs": [],
      "source": [
        "# y_test_encoded = to_categorical(y_test, num_classes=3)\n"
      ]
    },
    {
      "cell_type": "code",
      "execution_count": 39,
      "metadata": {
        "id": "GqWZiqVNyLHl"
      },
      "outputs": [],
      "source": [
        "# test_loss, test_acc = loaded_model.evaluate(X_test, y_test_encoded)"
      ]
    },
    {
      "cell_type": "markdown",
      "metadata": {
        "id": "WljkNTXfDa2F"
      },
      "source": [
        "4-7 Fine-tunning Head layer"
      ]
    },
    {
      "cell_type": "markdown",
      "metadata": {
        "id": "LNqqzCKsDBn-"
      },
      "source": [
        "Dropping number of nodes in the Dense layer for less complexity"
      ]
    },
    {
      "cell_type": "code",
      "execution_count": null,
      "metadata": {
        "id": "3vADxT8awr9x"
      },
      "outputs": [],
      "source": [
        "#dropping the nodes from 20 to 10"
      ]
    },
    {
      "cell_type": "code",
      "execution_count": 44,
      "metadata": {
        "id": "BnpDaXzNyVTn"
      },
      "outputs": [],
      "source": [
        "embed_dim = 48  # Embedding size for each token\n",
        "num_heads = 2  # Number of attention heads\n",
        "ff_dim = 32  # Hidden layer size in feed forward network inside transformer\n",
        "\n",
        "inputs = layers.Input(shape=(maxlen,))\n",
        "embedding_layer = TokenAndPositionEmbedding(maxlen, vocab_size, embed_dim)\n",
        "x = embedding_layer(inputs)\n",
        "\n",
        "transformer_block1 = TransformerBlock(embed_dim, num_heads, ff_dim)\n",
        "x = transformer_block1(x)\n",
        "\n",
        "# Add another TransformerBlock\n",
        "transformer_block2 = TransformerBlock(embed_dim, num_heads, ff_dim)\n",
        "x = transformer_block2(x)\n",
        "\n",
        "x = layers.GlobalAveragePooling1D()(x)\n",
        "x = layers.Dropout(0.1)(x)\n",
        "x = layers.Dense(10, activation=\"relu\")(x)\n",
        "x = layers.Dropout(0.1)(x)\n",
        "outputs = layers.Dense(3, activation=\"softmax\")(x)\n",
        "\n",
        "model_3 = keras.Model(inputs=inputs, outputs=outputs)"
      ]
    },
    {
      "cell_type": "code",
      "execution_count": 45,
      "metadata": {
        "colab": {
          "base_uri": "https://localhost:8080/"
        },
        "id": "x-sccU2FwYpU",
        "outputId": "e522206f-845e-415a-870f-82e6c2c59ed4"
      },
      "outputs": [
        {
          "name": "stdout",
          "output_type": "stream",
          "text": [
            "Epoch 1/10\n",
            "4353/4353 [==============================] - 111s 24ms/step - loss: 0.5770 - accuracy: 0.7718 - val_loss: 0.3960 - val_accuracy: 0.8599\n",
            "Epoch 2/10\n",
            "4353/4353 [==============================] - 76s 18ms/step - loss: 0.3721 - accuracy: 0.8707 - val_loss: 0.3624 - val_accuracy: 0.8704\n",
            "Epoch 3/10\n",
            "4353/4353 [==============================] - 78s 18ms/step - loss: 0.3191 - accuracy: 0.8917 - val_loss: 0.3382 - val_accuracy: 0.8848\n",
            "Epoch 4/10\n",
            "4353/4353 [==============================] - 82s 19ms/step - loss: 0.2848 - accuracy: 0.9043 - val_loss: 0.3442 - val_accuracy: 0.8862\n",
            "Epoch 5/10\n",
            "4353/4353 [==============================] - 83s 19ms/step - loss: 0.2544 - accuracy: 0.9150 - val_loss: 0.3740 - val_accuracy: 0.8791\n",
            "Epoch 6/10\n",
            "4353/4353 [==============================] - 74s 17ms/step - loss: 0.2321 - accuracy: 0.9218 - val_loss: 0.3819 - val_accuracy: 0.8775\n",
            "Epoch 7/10\n",
            "4353/4353 [==============================] - 80s 18ms/step - loss: 0.2095 - accuracy: 0.9295 - val_loss: 0.3964 - val_accuracy: 0.8830\n",
            "Epoch 7: early stopping\n"
          ]
        }
      ],
      "source": [
        "from tensorflow.keras.callbacks import EarlyStopping, ModelCheckpoint\n",
        "\n",
        "# Define the early stopping and checkpoint callbacks\n",
        "early_stop = EarlyStopping(monitor='val_accuracy', patience=3, verbose=1)\n",
        "checkpoint = ModelCheckpoint('/content/drive/MyDrive/Colab Notebooks/MathDL2/Project1_model/model3_head_layer_checkpoint.h5', save_best_only=True, monitor='val_loss', mode='min')\n",
        "\n",
        "# Compile the model with the optimizer, loss function, and metrics\n",
        "optimizer = Adam(learning_rate=0.001)\n",
        "model_3.compile(optimizer=optimizer, loss=\"sparse_categorical_crossentropy\", metrics=[\"accuracy\"])\n",
        "\n",
        "# Define the CSV logger callback\n",
        "csv_logger = keras.callbacks.CSVLogger('/content/drive/MyDrive/Colab Notebooks/MathDL2/Project1_model/training_history3.csv')\n",
        "\n",
        "# Fit the model with early stopping and checkpoint callbacks\n",
        "history = model_3.fit(X_train, y_train, batch_size=32, epochs=10, \n",
        "                      validation_data=(X_valid, y_valid),\n",
        "                      callbacks=[csv_logger, early_stop, checkpoint])"
      ]
    },
    {
      "cell_type": "code",
      "execution_count": 46,
      "metadata": {
        "colab": {
          "base_uri": "https://localhost:8080/",
          "height": 295
        },
        "id": "ulif01ZxwldM",
        "outputId": "79ce8d5c-a553-4f7d-aac9-0355f522236b"
      },
      "outputs": [
        {
          "data": {
            "image/png": "[encoded data removed]",
            "text/plain": [
              "<Figure size 432x288 with 1 Axes>"
            ]
          },
          "metadata": {
            "needs_background": "light"
          },
          "output_type": "display_data"
        }
      ],
      "source": [
        "plt.plot(history.history['accuracy'])\n",
        "plt.plot(history.history['val_accuracy'])\n",
        "\n",
        "plt.title('model_3 accuracy')\n",
        "plt.ylabel('Accuracy')\n",
        "plt.xlabel('epoch')\n",
        "plt.legend(['train','valid'], loc='upper left')\n",
        "plt.show()"
      ]
    },
    {
      "cell_type": "code",
      "execution_count": null,
      "metadata": {
        "colab": {
          "base_uri": "https://localhost:8080/"
        },
        "id": "MFvTdmhqzoh4",
        "outputId": "9362a0bb-7da4-4b7c-fe6c-dd61a45111b8"
      },
      "outputs": [
        {
          "name": "stdout",
          "output_type": "stream",
          "text": [
            "1361/1361 [==============================] - 9s 7ms/step - loss: 0.3923 - accuracy: 0.8850\n"
          ]
        }
      ],
      "source": [
        "test_loss, test_acc = model_3.evaluate(X_test, y_test)"
      ]
    },
    {
      "cell_type": "markdown",
      "metadata": {
        "id": "P1LteDaBDmdB"
      },
      "source": [
        "Adding another layer for more complexity"
      ]
    },
    {
      "cell_type": "code",
      "execution_count": 47,
      "metadata": {
        "id": "bZOkLO0N0ND9"
      },
      "outputs": [],
      "source": [
        "embed_dim = 48  # Embedding size for each token\n",
        "num_heads = 2  # Number of attention heads\n",
        "ff_dim = 32  # Hidden layer size in feed forward network inside transformer\n",
        "\n",
        "inputs = layers.Input(shape=(maxlen,))\n",
        "embedding_layer = TokenAndPositionEmbedding(maxlen, vocab_size, embed_dim)\n",
        "x = embedding_layer(inputs)\n",
        "\n",
        "transformer_block1 = TransformerBlock(embed_dim, num_heads, ff_dim)\n",
        "x = transformer_block1(x)\n",
        "\n",
        "# Add another TransformerBlock\n",
        "transformer_block2 = TransformerBlock(embed_dim, num_heads, ff_dim)\n",
        "x = transformer_block2(x)\n",
        "\n",
        "x = layers.GlobalAveragePooling1D()(x)\n",
        "x = layers.Dropout(0.1)(x)\n",
        "x = layers.Dense(20, activation=\"relu\")(x)\n",
        "x = layers.Dropout(0.1)(x)\n",
        "x = layers.Dense(10, activation=\"relu\")(x)\n",
        "x = layers.Dropout(0.1)(x)\n",
        "outputs = layers.Dense(3, activation=\"softmax\")(x)\n",
        "\n",
        "model_4 = keras.Model(inputs=inputs, outputs=outputs)"
      ]
    },
    {
      "cell_type": "code",
      "execution_count": 48,
      "metadata": {
        "colab": {
          "base_uri": "https://localhost:8080/"
        },
        "id": "5iuYy6pC0cjv",
        "outputId": "dbd5467a-29cd-4d60-aad0-844791f8617c"
      },
      "outputs": [
        {
          "name": "stdout",
          "output_type": "stream",
          "text": [
            "Epoch 1/10\n",
            "4353/4353 [==============================] - 110s 23ms/step - loss: 0.6050 - accuracy: 0.7656 - val_loss: 0.4132 - val_accuracy: 0.8551\n",
            "Epoch 2/10\n",
            "4353/4353 [==============================] - 86s 20ms/step - loss: 0.3862 - accuracy: 0.8692 - val_loss: 0.3566 - val_accuracy: 0.8807\n",
            "Epoch 3/10\n",
            "4353/4353 [==============================] - 78s 18ms/step - loss: 0.3257 - accuracy: 0.8933 - val_loss: 0.3615 - val_accuracy: 0.8800\n",
            "Epoch 4/10\n",
            "4353/4353 [==============================] - 74s 17ms/step - loss: 0.2939 - accuracy: 0.9054 - val_loss: 0.3631 - val_accuracy: 0.8868\n",
            "Epoch 5/10\n",
            "4353/4353 [==============================] - 79s 18ms/step - loss: 0.2677 - accuracy: 0.9139 - val_loss: 0.3708 - val_accuracy: 0.8742\n",
            "Epoch 6/10\n",
            "4353/4353 [==============================] - 83s 19ms/step - loss: 0.2441 - accuracy: 0.9210 - val_loss: 0.3999 - val_accuracy: 0.8846\n",
            "Epoch 7/10\n",
            "4353/4353 [==============================] - 73s 17ms/step - loss: 0.2256 - accuracy: 0.9264 - val_loss: 0.3992 - val_accuracy: 0.8792\n",
            "Epoch 7: early stopping\n"
          ]
        }
      ],
      "source": [
        "from tensorflow.keras.callbacks import EarlyStopping, ModelCheckpoint\n",
        "\n",
        "# Define the early stopping and checkpoint callbacks\n",
        "early_stop = EarlyStopping(monitor='val_accuracy', patience=3, verbose=1)\n",
        "checkpoint = ModelCheckpoint('/content/drive/MyDrive/Colab Notebooks/MathDL2/Project1_model/model4_head_layer_checkpoint.h5', save_best_only=True, monitor='val_loss', mode='min')\n",
        "\n",
        "# Compile the model with the optimizer, loss function, and metrics\n",
        "optimizer = Adam(learning_rate=0.001)\n",
        "model_4.compile(optimizer=optimizer, loss=\"sparse_categorical_crossentropy\", metrics=[\"accuracy\"])\n",
        "\n",
        "# Define the CSV logger callback\n",
        "csv_logger = keras.callbacks.CSVLogger('/content/drive/MyDrive/Colab Notebooks/MathDL2/Project1_model/training_history4.csv')\n",
        "\n",
        "# Fit the model with early stopping and checkpoint callbacks\n",
        "history = model_4.fit(X_train, y_train, batch_size=32, epochs=10, \n",
        "                      validation_data=(X_valid, y_valid),\n",
        "                      callbacks=[csv_logger, early_stop, checkpoint])"
      ]
    },
    {
      "cell_type": "code",
      "execution_count": 49,
      "metadata": {
        "colab": {
          "base_uri": "https://localhost:8080/",
          "height": 295
        },
        "id": "uYYAqp6L3z6f",
        "outputId": "f15a4d36-0b2d-4d91-ef4d-1090396af9ba"
      },
      "outputs": [
        {
          "data": {
            "image/png": "[encoded data removed]",
            "text/plain": [
              "<Figure size 432x288 with 1 Axes>"
            ]
          },
          "metadata": {
            "needs_background": "light"
          },
          "output_type": "display_data"
        }
      ],
      "source": [
        "plt.plot(history.history['accuracy'])\n",
        "plt.plot(history.history['val_accuracy'])\n",
        "\n",
        "plt.title('model_4 accuracy')\n",
        "plt.ylabel('Accuracy')\n",
        "plt.xlabel('epoch')\n",
        "plt.legend(['train','valid'], loc='upper left')\n",
        "plt.show()"
      ]
    },
    {
      "cell_type": "code",
      "execution_count": null,
      "metadata": {
        "colab": {
          "base_uri": "https://localhost:8080/"
        },
        "id": "6qFmuaV831hg",
        "outputId": "8c012d55-4251-4253-cdbc-9f8561cea92b"
      },
      "outputs": [
        {
          "name": "stdout",
          "output_type": "stream",
          "text": [
            "1361/1361 [==============================] - 9s 7ms/step - loss: 0.3953 - accuracy: 0.8785\n"
          ]
        }
      ],
      "source": [
        "test_loss, test_acc = model_4.evaluate(X_test, y_test)"
      ]
    },
    {
      "cell_type": "markdown",
      "metadata": {
        "id": "FfOhZUiBD5oY"
      },
      "source": [
        "After both trial with either increase or decrease the complexity of the Head layer, similar results are obtained in both cases with no further improvement. We will move to different architecture by changing the Transformer Block from self-attention to causal attention"
      ]
    },
    {
      "cell_type": "markdown",
      "metadata": {
        "id": "UYHqlsGQEh2f"
      },
      "source": [
        "4-8 Causal Attention"
      ]
    },
    {
      "cell_type": "code",
      "execution_count": 37,
      "metadata": {
        "id": "GwC5DKoW35XY"
      },
      "outputs": [],
      "source": [
        "class CasualTransformerBlockCausal(layers.Layer):\n",
        "    def __init__(self, embed_dim, num_heads, ff_dim, rate=0.1,**kwargs):\n",
        "        super(TransformerBlock, self).__init__(**kwargs)\n",
        "        self.att = layers.MultiHeadAttention(\n",
        "            num_heads=num_heads, key_dim=embed_dim, attention_axes=(1,)\n",
        "        )  # set attention_axes to (1,) to apply causal mask\n",
        "        self.ffn = keras.Sequential(\n",
        "            [layers.Dense(ff_dim, activation=\"relu\"), layers.Dense(embed_dim),]\n",
        "        )\n",
        "        self.layernorm1 = layers.LayerNormalization(epsilon=1e-6)\n",
        "        self.layernorm2 = layers.LayerNormalization(epsilon=1e-6)\n",
        "        self.dropout1 = layers.Dropout(rate)\n",
        "        self.dropout2 = layers.Dropout(rate)\n",
        "\n",
        "    def call(self, inputs, training):\n",
        "        causal_mask = self.create_causal_mask(inputs)  # create causal mask\n",
        "        attn_output = self.att(inputs, inputs, attention_mask=causal_mask)\n",
        "        attn_output = self.dropout1(attn_output, training=training)\n",
        "        out1 = self.layernorm1(inputs + attn_output)\n",
        "        ffn_output = self.ffn(out1)\n",
        "        ffn_output = self.dropout2(ffn_output, training=training)\n",
        "        return self.layernorm2(out1 + ffn_output)\n",
        "\n",
        "    def create_causal_mask(self, inputs):\n",
        "        seq_len = tf.shape(inputs)[1]\n",
        "        mask = tf.linalg.band_part(tf.ones((seq_len, seq_len)), -1, 0)\n",
        "        return mask  # causal mask with shape (seq_len, seq_len)"
      ]
    },
    {
      "cell_type": "code",
      "execution_count": 38,
      "metadata": {
        "id": "3Ue6-wfR4u-K"
      },
      "outputs": [],
      "source": [
        "class TokenAndPositionEmbedding(layers.Layer):\n",
        "    def __init__(self, maxlen, vocab_size, embed_dim,**kwargs):\n",
        "        super(TokenAndPositionEmbedding, self).__init__(**kwargs)\n",
        "        self.token_emb = layers.Embedding(input_dim=vocab_size, output_dim=embed_dim)\n",
        "        self.pos_emb = layers.Embedding(input_dim=maxlen, output_dim=embed_dim)\n",
        "\n",
        "    def call(self, x):\n",
        "        maxlen = tf.shape(x)[-1]\n",
        "        positions = tf.range(start=0, limit=maxlen, delta=1)\n",
        "        positions = self.pos_emb(positions)\n",
        "        x = self.token_emb(x)\n",
        "        return x + positions"
      ]
    },
    {
      "cell_type": "code",
      "execution_count": 40,
      "metadata": {
        "id": "XbCckOo05U0l"
      },
      "outputs": [],
      "source": [
        "embed_dim = 48  # Embedding size for each token\n",
        "num_heads = 2  # Number of attention heads\n",
        "ff_dim = 32  # Hidden layer size in feed forward network inside transformer\n",
        "\n",
        "inputs = layers.Input(shape=(maxlen,))\n",
        "embedding_layer = TokenAndPositionEmbedding(maxlen, vocab_size, embed_dim)\n",
        "x = embedding_layer(inputs)\n",
        "\n",
        "transformer_block1 = TransformerBlock(embed_dim, num_heads, ff_dim)\n",
        "x = transformer_block1(x)\n",
        "\n",
        "# Add another TransformerBlock\n",
        "transformer_block2 = TransformerBlock(embed_dim, num_heads, ff_dim)\n",
        "x = transformer_block2(x)\n",
        "\n",
        "x = layers.GlobalAveragePooling1D()(x)\n",
        "x = layers.Dropout(0.1)(x)\n",
        "x = layers.Dense(20, activation=\"relu\")(x)\n",
        "x = layers.Dropout(0.1)(x)\n",
        "outputs = layers.Dense(3, activation=\"softmax\")(x)\n",
        "\n",
        "model_causal = keras.Model(inputs=inputs, outputs=outputs)"
      ]
    },
    {
      "cell_type": "code",
      "execution_count": 41,
      "metadata": {
        "colab": {
          "base_uri": "https://localhost:8080/"
        },
        "id": "H3jbNeuN6ABU",
        "outputId": "8b324cc4-621f-48c2-8193-9c7a555c5674"
      },
      "outputs": [
        {
          "name": "stdout",
          "output_type": "stream",
          "text": [
            "Epoch 1/10\n",
            "4353/4353 [==============================] - 106s 23ms/step - loss: 0.5673 - accuracy: 0.7797 - val_loss: 0.3931 - val_accuracy: 0.8590\n",
            "Epoch 2/10\n",
            "4353/4353 [==============================] - 84s 19ms/step - loss: 0.3544 - accuracy: 0.8777 - val_loss: 0.3431 - val_accuracy: 0.8835\n",
            "Epoch 3/10\n",
            "4353/4353 [==============================] - 71s 16ms/step - loss: 0.2990 - accuracy: 0.9002 - val_loss: 0.3584 - val_accuracy: 0.8769\n",
            "Epoch 4/10\n",
            "4353/4353 [==============================] - 90s 21ms/step - loss: 0.2637 - accuracy: 0.9127 - val_loss: 0.3696 - val_accuracy: 0.8829\n",
            "Epoch 5/10\n",
            "4353/4353 [==============================] - 75s 17ms/step - loss: 0.2365 - accuracy: 0.9217 - val_loss: 0.3553 - val_accuracy: 0.8848\n",
            "Epoch 6/10\n",
            "4353/4353 [==============================] - 77s 18ms/step - loss: 0.2156 - accuracy: 0.9290 - val_loss: 0.4048 - val_accuracy: 0.8830\n",
            "Epoch 7/10\n",
            "4353/4353 [==============================] - 69s 16ms/step - loss: 0.1975 - accuracy: 0.9336 - val_loss: 0.4396 - val_accuracy: 0.8776\n",
            "Epoch 8/10\n",
            "4353/4353 [==============================] - 87s 20ms/step - loss: 0.1798 - accuracy: 0.9396 - val_loss: 0.4573 - val_accuracy: 0.8793\n",
            "Epoch 8: early stopping\n"
          ]
        }
      ],
      "source": [
        "from tensorflow.keras.callbacks import EarlyStopping, ModelCheckpoint\n",
        "\n",
        "# Define the early stopping and checkpoint callbacks\n",
        "early_stop = EarlyStopping(monitor='val_accuracy', patience=3, verbose=1)\n",
        "checkpoint = ModelCheckpoint('/content/drive/MyDrive/Colab Notebooks/MathDL2/Project1_model/model_causal_checkpoint.h5', save_best_only=True, monitor='val_loss', mode='min')\n",
        "\n",
        "# Compile the model with the optimizer, loss function, and metrics\n",
        "optimizer = Adam(learning_rate=0.001)\n",
        "model_causal.compile(optimizer=optimizer, loss=\"sparse_categorical_crossentropy\", metrics=[\"accuracy\"])\n",
        "\n",
        "# Define the CSV logger callback\n",
        "csv_logger = keras.callbacks.CSVLogger('/content/drive/MyDrive/Colab Notebooks/MathDL2/Project1_model/training_history_causal.csv')\n",
        "\n",
        "# Fit the model with early stopping and checkpoint callbacks\n",
        "history = model_causal.fit(X_train, y_train, batch_size=32, epochs=10, \n",
        "                      validation_data=(X_valid, y_valid),\n",
        "                      callbacks=[csv_logger, early_stop, checkpoint])"
      ]
    },
    {
      "cell_type": "code",
      "execution_count": 42,
      "metadata": {
        "colab": {
          "base_uri": "https://localhost:8080/",
          "height": 295
        },
        "id": "vcpR-0V36P4y",
        "outputId": "fefb8997-fe00-4133-b7eb-f39346ce7050"
      },
      "outputs": [
        {
          "data": {
            "image/png": "[encoded data removed]",
            "text/plain": [
              "<Figure size 432x288 with 1 Axes>"
            ]
          },
          "metadata": {
            "needs_background": "light"
          },
          "output_type": "display_data"
        }
      ],
      "source": [
        "plt.plot(history.history['accuracy'])\n",
        "plt.plot(history.history['val_accuracy'])\n",
        "\n",
        "plt.title('model_causal accuracy')\n",
        "plt.ylabel('Accuracy')\n",
        "plt.xlabel('epoch')\n",
        "plt.legend(['train','valid'], loc='upper left')\n",
        "plt.show()"
      ]
    },
    {
      "cell_type": "code",
      "execution_count": 43,
      "metadata": {
        "colab": {
          "base_uri": "https://localhost:8080/"
        },
        "id": "e9gygjH08gnX",
        "outputId": "65144664-8a87-4455-d213-fe9fe4524f9d"
      },
      "outputs": [
        {
          "name": "stdout",
          "output_type": "stream",
          "text": [
            "1361/1361 [==============================] - 11s 8ms/step - loss: 0.4484 - accuracy: 0.8807\n"
          ]
        }
      ],
      "source": [
        "test_loss, test_acc = model_causal.evaluate(X_test, y_test)"
      ]
    },
    {
      "cell_type": "markdown",
      "metadata": {
        "id": "AIrF8c-bPmBx"
      },
      "source": [
        "Causal attention only attend to prior positions in the sequence instead of all different positions like the case self-attention, which is more suitable for the problems like text or speech generation. However, here in the result, both of causal and self attention produced the similar result over the text classification problem."
      ]
    },
    {
      "cell_type": "markdown",
      "metadata": {
        "id": "HSueYx-tHoC-"
      },
      "source": [
        "After multiple trials with different approachs, we received the similar results with val_accuracy in the range of [0.87, 0.89]. To validate our thought on where the using Transformer as a good approach for the problem, we decided to also run it with a deep learning model with only fully connected layers"
      ]
    },
    {
      "cell_type": "markdown",
      "metadata": {
        "id": "h72BJPBTM2ky"
      },
      "source": [
        "4-9 Deep Learning -Fully connected model "
      ]
    },
    {
      "cell_type": "code",
      "execution_count": 65,
      "metadata": {
        "id": "nJZu96a_5ptE"
      },
      "outputs": [],
      "source": [
        "from numpy import array\n",
        "from numpy import asarray\n",
        "from numpy import zeros\n",
        "\n",
        "embeddings_dictionary = dict()\n",
        "glove_file = open('/content/drive/MyDrive/Colab Notebooks/glove.6B.50d.txt', encoding=\"utf8\")\n",
        "\n",
        "for line in glove_file:\n",
        "    records = line.split()\n",
        "    word = records[0]\n",
        "    vector_dimensions = asarray(records[1:], dtype='float32')\n",
        "    embeddings_dictionary [word] = vector_dimensions\n",
        "glove_file.close()"
      ]
    },
    {
      "cell_type": "code",
      "execution_count": 66,
      "metadata": {
        "id": "o3WzTOwb5qZM"
      },
      "outputs": [],
      "source": [
        "embedding_matrix = zeros((20000, 50))\n",
        "for word, index in tokenizer.word_index.items():\n",
        "    if index < 20000:\n",
        "        embedding_vector = embeddings_dictionary.get(word)\n",
        "        if embedding_vector is not None:\n",
        "            embedding_matrix[index] = embedding_vector\n",
        "      "
      ]
    },
    {
      "cell_type": "code",
      "execution_count": 67,
      "metadata": {
        "id": "RxO8sN2a6Nt2"
      },
      "outputs": [],
      "source": [
        "model_D = Sequential()\n",
        "embedding_layer = Embedding(20000, 50, weights=[embedding_matrix], input_length=maxlen , trainable=False)\n",
        "\n",
        "model_D.add(embedding_layer)\n",
        "model_D.add(Dense(128, activation='relu', kernel_initializer=\"he_normal\" ))\n",
        "model_D.add(Dense(64, activation='relu', kernel_initializer=\"he_normal\" ))\n",
        "model_D.add(Dense(32, activation='relu', kernel_initializer=\"he_normal\" ))\n",
        "model_D.add(Dense(16, activation='relu', kernel_initializer=\"he_normal\" ))\n",
        "model_D.add(Dense(8, activation='relu', kernel_initializer=\"he_normal\" ))\n",
        "model_D.add(Flatten())\n",
        "model_D.add(Dense(3, activation='softmax'))\n",
        "\n",
        "optimizer = tf.keras.optimizers.SGD(learning_rate=0.001)\n",
        "model_D.compile(optimizer = optimizer, loss = 'sparse_categorical_crossentropy', metrics = ['accuracy'])"
      ]
    },
    {
      "cell_type": "code",
      "execution_count": 68,
      "metadata": {
        "id": "k254WrWIGdfm"
      },
      "outputs": [],
      "source": [
        "# Define the early stopping and checkpoint callbacks\n",
        "early_stop = EarlyStopping(monitor='val_accuracy', patience=3, verbose=1)\n",
        "checkpoint = ModelCheckpoint('/content/drive/MyDrive/Colab Notebooks/MathDL2/Project1_model/model_deeplearning_checkpoint.h5', save_best_only=True, monitor='val_loss', mode='min')"
      ]
    },
    {
      "cell_type": "code",
      "execution_count": 69,
      "metadata": {
        "id": "gR31HSfeGfoI"
      },
      "outputs": [],
      "source": [
        "# Define the CSV logger callback\n",
        "csv_logger = keras.callbacks.CSVLogger('/content/drive/MyDrive/Colab Notebooks/MathDL2/Project1_model/training_history_deepleanring.csv')"
      ]
    },
    {
      "cell_type": "code",
      "execution_count": 70,
      "metadata": {
        "colab": {
          "base_uri": "https://localhost:8080/"
        },
        "id": "kiFhQcu068ow",
        "outputId": "5f2cec73-780e-4b7c-a3c6-b037fde56a5b"
      },
      "outputs": [
        {
          "name": "stdout",
          "output_type": "stream",
          "text": [
            "Epoch 1/50\n",
            "3482/3482 [==============================] - 26s 7ms/step - loss: 1.0055 - accuracy: 0.5138 - val_loss: 0.9671 - val_accuracy: 0.5430\n",
            "Epoch 2/50\n",
            "3482/3482 [==============================] - 24s 7ms/step - loss: 0.9540 - accuracy: 0.5489 - val_loss: 0.9425 - val_accuracy: 0.5555\n",
            "Epoch 3/50\n",
            "3482/3482 [==============================] - 24s 7ms/step - loss: 0.9259 - accuracy: 0.5639 - val_loss: 0.9073 - val_accuracy: 0.5743\n",
            "Epoch 4/50\n",
            "3482/3482 [==============================] - 26s 7ms/step - loss: 0.8873 - accuracy: 0.5851 - val_loss: 0.8658 - val_accuracy: 0.5969\n",
            "Epoch 5/50\n",
            "3482/3482 [==============================] - 26s 8ms/step - loss: 0.8470 - accuracy: 0.6103 - val_loss: 0.8252 - val_accuracy: 0.6231\n",
            "Epoch 6/50\n",
            "3482/3482 [==============================] - 25s 7ms/step - loss: 0.8114 - accuracy: 0.6322 - val_loss: 0.7947 - val_accuracy: 0.6460\n",
            "Epoch 7/50\n",
            "3482/3482 [==============================] - 25s 7ms/step - loss: 0.7842 - accuracy: 0.6510 - val_loss: 0.7735 - val_accuracy: 0.6505\n",
            "Epoch 8/50\n",
            "3482/3482 [==============================] - 26s 8ms/step - loss: 0.7631 - accuracy: 0.6656 - val_loss: 0.7489 - val_accuracy: 0.6754\n",
            "Epoch 9/50\n",
            "3482/3482 [==============================] - 30s 9ms/step - loss: 0.7454 - accuracy: 0.6778 - val_loss: 0.7336 - val_accuracy: 0.6814\n",
            "Epoch 10/50\n",
            "3482/3482 [==============================] - 25s 7ms/step - loss: 0.7312 - accuracy: 0.6871 - val_loss: 0.7197 - val_accuracy: 0.7007\n",
            "Epoch 11/50\n",
            "3482/3482 [==============================] - 28s 8ms/step - loss: 0.7185 - accuracy: 0.6955 - val_loss: 0.7075 - val_accuracy: 0.7034\n",
            "Epoch 12/50\n",
            "3482/3482 [==============================] - 23s 7ms/step - loss: 0.7072 - accuracy: 0.7030 - val_loss: 0.6971 - val_accuracy: 0.7149\n",
            "Epoch 13/50\n",
            "3482/3482 [==============================] - 38s 11ms/step - loss: 0.6976 - accuracy: 0.7092 - val_loss: 0.6852 - val_accuracy: 0.7226\n",
            "Epoch 14/50\n",
            "3482/3482 [==============================] - 34s 10ms/step - loss: 0.6884 - accuracy: 0.7153 - val_loss: 0.6761 - val_accuracy: 0.7262\n",
            "Epoch 15/50\n",
            "3482/3482 [==============================] - 29s 8ms/step - loss: 0.6808 - accuracy: 0.7219 - val_loss: 0.6740 - val_accuracy: 0.7205\n",
            "Epoch 16/50\n",
            "3482/3482 [==============================] - 34s 10ms/step - loss: 0.6729 - accuracy: 0.7277 - val_loss: 0.6612 - val_accuracy: 0.7311\n",
            "Epoch 17/50\n",
            "3482/3482 [==============================] - 34s 10ms/step - loss: 0.6642 - accuracy: 0.7337 - val_loss: 0.6516 - val_accuracy: 0.7417\n",
            "Epoch 18/50\n",
            "3482/3482 [==============================] - 28s 8ms/step - loss: 0.6568 - accuracy: 0.7406 - val_loss: 0.6474 - val_accuracy: 0.7523\n",
            "Epoch 19/50\n",
            "3482/3482 [==============================] - 32s 9ms/step - loss: 0.6492 - accuracy: 0.7463 - val_loss: 0.6364 - val_accuracy: 0.7548\n",
            "Epoch 20/50\n",
            "3482/3482 [==============================] - 33s 9ms/step - loss: 0.6416 - accuracy: 0.7529 - val_loss: 0.6289 - val_accuracy: 0.7601\n",
            "Epoch 21/50\n",
            "3482/3482 [==============================] - 33s 10ms/step - loss: 0.6342 - accuracy: 0.7582 - val_loss: 0.6234 - val_accuracy: 0.7645\n",
            "Epoch 22/50\n",
            "3482/3482 [==============================] - 33s 10ms/step - loss: 0.6280 - accuracy: 0.7634 - val_loss: 0.6165 - val_accuracy: 0.7698\n",
            "Epoch 23/50\n",
            "3482/3482 [==============================] - 30s 9ms/step - loss: 0.6221 - accuracy: 0.7676 - val_loss: 0.6128 - val_accuracy: 0.7726\n",
            "Epoch 24/50\n",
            "3482/3482 [==============================] - 29s 8ms/step - loss: 0.6172 - accuracy: 0.7713 - val_loss: 0.6077 - val_accuracy: 0.7803\n",
            "Epoch 25/50\n",
            "3482/3482 [==============================] - 24s 7ms/step - loss: 0.6120 - accuracy: 0.7746 - val_loss: 0.6056 - val_accuracy: 0.7783\n",
            "Epoch 26/50\n",
            "3482/3482 [==============================] - 31s 9ms/step - loss: 0.6075 - accuracy: 0.7782 - val_loss: 0.6012 - val_accuracy: 0.7834\n",
            "Epoch 27/50\n",
            "3482/3482 [==============================] - 29s 8ms/step - loss: 0.6035 - accuracy: 0.7808 - val_loss: 0.5964 - val_accuracy: 0.7838\n",
            "Epoch 28/50\n",
            "3482/3482 [==============================] - 24s 7ms/step - loss: 0.5997 - accuracy: 0.7835 - val_loss: 0.5981 - val_accuracy: 0.7905\n",
            "Epoch 29/50\n",
            "3482/3482 [==============================] - 31s 9ms/step - loss: 0.5958 - accuracy: 0.7860 - val_loss: 0.5974 - val_accuracy: 0.7821\n",
            "Epoch 30/50\n",
            "3482/3482 [==============================] - 31s 9ms/step - loss: 0.5932 - accuracy: 0.7876 - val_loss: 0.5897 - val_accuracy: 0.7910\n",
            "Epoch 31/50\n",
            "3482/3482 [==============================] - 28s 8ms/step - loss: 0.5897 - accuracy: 0.7898 - val_loss: 0.5834 - val_accuracy: 0.7958\n",
            "Epoch 32/50\n",
            "3482/3482 [==============================] - 35s 10ms/step - loss: 0.5870 - accuracy: 0.7930 - val_loss: 0.5873 - val_accuracy: 0.7924\n",
            "Epoch 33/50\n",
            "3482/3482 [==============================] - 28s 8ms/step - loss: 0.5843 - accuracy: 0.7940 - val_loss: 0.5796 - val_accuracy: 0.7991\n",
            "Epoch 34/50\n",
            "3482/3482 [==============================] - 26s 7ms/step - loss: 0.5810 - accuracy: 0.7958 - val_loss: 0.5759 - val_accuracy: 0.8007\n",
            "Epoch 35/50\n",
            "3482/3482 [==============================] - 32s 9ms/step - loss: 0.5784 - accuracy: 0.7979 - val_loss: 0.5743 - val_accuracy: 0.8013\n",
            "Epoch 36/50\n",
            "3482/3482 [==============================] - 30s 9ms/step - loss: 0.5755 - accuracy: 0.7994 - val_loss: 0.5788 - val_accuracy: 0.7952\n",
            "Epoch 37/50\n",
            "3482/3482 [==============================] - 33s 9ms/step - loss: 0.5728 - accuracy: 0.8015 - val_loss: 0.5714 - val_accuracy: 0.8040\n",
            "Epoch 38/50\n",
            "3482/3482 [==============================] - 29s 8ms/step - loss: 0.5706 - accuracy: 0.8027 - val_loss: 0.5672 - val_accuracy: 0.8062\n",
            "Epoch 39/50\n",
            "3482/3482 [==============================] - 33s 9ms/step - loss: 0.5680 - accuracy: 0.8048 - val_loss: 0.5647 - val_accuracy: 0.8089\n",
            "Epoch 40/50\n",
            "3482/3482 [==============================] - 30s 9ms/step - loss: 0.5656 - accuracy: 0.8059 - val_loss: 0.5730 - val_accuracy: 0.8034\n",
            "Epoch 41/50\n",
            "3482/3482 [==============================] - 32s 9ms/step - loss: 0.5631 - accuracy: 0.8073 - val_loss: 0.5617 - val_accuracy: 0.8096\n",
            "Epoch 42/50\n",
            "3482/3482 [==============================] - 34s 10ms/step - loss: 0.5612 - accuracy: 0.8086 - val_loss: 0.5603 - val_accuracy: 0.8116\n",
            "Epoch 43/50\n",
            "3482/3482 [==============================] - 32s 9ms/step - loss: 0.5594 - accuracy: 0.8100 - val_loss: 0.5582 - val_accuracy: 0.8131\n",
            "Epoch 44/50\n",
            "3482/3482 [==============================] - 32s 9ms/step - loss: 0.5577 - accuracy: 0.8105 - val_loss: 0.5559 - val_accuracy: 0.8134\n",
            "Epoch 45/50\n",
            "3482/3482 [==============================] - 33s 9ms/step - loss: 0.5562 - accuracy: 0.8119 - val_loss: 0.5635 - val_accuracy: 0.8073\n",
            "Epoch 46/50\n",
            "3482/3482 [==============================] - 31s 9ms/step - loss: 0.5547 - accuracy: 0.8128 - val_loss: 0.5565 - val_accuracy: 0.8141\n",
            "Epoch 47/50\n",
            "3482/3482 [==============================] - 29s 8ms/step - loss: 0.5528 - accuracy: 0.8134 - val_loss: 0.5530 - val_accuracy: 0.8158\n",
            "Epoch 48/50\n",
            "3482/3482 [==============================] - 27s 8ms/step - loss: 0.5513 - accuracy: 0.8144 - val_loss: 0.5509 - val_accuracy: 0.8149\n",
            "Epoch 49/50\n",
            "3482/3482 [==============================] - 26s 8ms/step - loss: 0.5499 - accuracy: 0.8154 - val_loss: 0.5527 - val_accuracy: 0.8147\n",
            "Epoch 50/50\n",
            "3482/3482 [==============================] - 27s 8ms/step - loss: 0.5485 - accuracy: 0.8161 - val_loss: 0.5504 - val_accuracy: 0.8160\n"
          ]
        }
      ],
      "source": [
        "history = model_D.fit(X_train, y_train, validation_split=0.2, batch_size = 32, epochs = 50)"
      ]
    },
    {
      "cell_type": "code",
      "execution_count": 71,
      "metadata": {
        "colab": {
          "base_uri": "https://localhost:8080/"
        },
        "id": "4zM7ynjN82nz",
        "outputId": "2afd10b8-b5fa-429f-9451-3c7b42cf54ca"
      },
      "outputs": [
        {
          "name": "stdout",
          "output_type": "stream",
          "text": [
            "1361/1361 [==============================] - 8s 6ms/step - loss: 0.5532 - accuracy: 0.8129\n"
          ]
        }
      ],
      "source": [
        "test_loss, test_acc = model_D.evaluate(X_test, y_test)"
      ]
    },
    {
      "cell_type": "code",
      "execution_count": 72,
      "metadata": {
        "colab": {
          "base_uri": "https://localhost:8080/",
          "height": 295
        },
        "id": "8n0L0NVU8qyC",
        "outputId": "5136baa2-d795-4d76-f27f-5d23c1d906c4"
      },
      "outputs": [
        {
          "data": {
            "image/png": "[encoded data removed]",
            "text/plain": [
              "<Figure size 432x288 with 1 Axes>"
            ]
          },
          "metadata": {
            "needs_background": "light"
          },
          "output_type": "display_data"
        }
      ],
      "source": [
        "plt.plot(history.history['accuracy'])\n",
        "plt.plot(history.history['val_accuracy'])\n",
        "\n",
        "plt.title('model_D accuracy')\n",
        "plt.ylabel('Accuracy')\n",
        "plt.xlabel('epoch')\n",
        "plt.legend(['train','valid'], loc='upper left')\n",
        "plt.show()"
      ]
    },
    {
      "cell_type": "markdown",
      "metadata": {
        "id": "Phs8_z36IyKi"
      },
      "source": [
        "Apparently, the accuracy score in the \"Full connected\" model is lower than the Transformer model, which reflects the better capability of Transformer model in capturing the complex pattern and produce high quality output. "
      ]
    },
    {
      "cell_type": "markdown",
      "metadata": {
        "id": "XCYWR4i6HiUr"
      },
      "source": [
        "# 5- Evaluation"
      ]
    },
    {
      "cell_type": "code",
      "execution_count": 74,
      "metadata": {
        "id": "3Khgt1SZPz9S"
      },
      "outputs": [],
      "source": [
        "df= pd.read_csv('/content/drive/MyDrive/Colab Notebooks/MathDL2/Project1_model/combined_result.csv')\n",
        "summary = df.groupby('Model')[['accuracy','val_accuracy']].mean()"
      ]
    },
    {
      "cell_type": "code",
      "execution_count": 79,
      "metadata": {
        "colab": {
          "base_uri": "https://localhost:8080/"
        },
        "id": "kdGX2QWrRks-",
        "outputId": "5297994b-f1f8-4ecf-bac1-99656263a82a"
      },
      "outputs": [
        {
          "name": "stdout",
          "output_type": "stream",
          "text": [
            "            accuracy  val_accuracy\n",
            "Model                             \n",
            "Best_tuner  0.917701      0.885540\n",
            "Model 2     0.899248      0.880898\n",
            "Base        0.897984      0.880615\n",
            "Causual     0.899277      0.878367\n",
            "Model 3     0.886403      0.877271\n",
            "Model 4     0.884965      0.877234\n",
            "Model 1     0.901839      0.874662\n",
            "Model 5     0.898134      0.872813\n"
          ]
        }
      ],
      "source": [
        "print(summary.sort_values('val_accuracy', ascending =False))"
      ]
    },
    {
      "cell_type": "markdown",
      "metadata": {
        "id": "Xz7IqaUvJt9F"
      },
      "source": [
        "In conclusion, we have built and examined our Transformer model by increasing level of complexity, changing alogrithm, performing fine-tuning with random search. Even though after multiple trials, we were unable to increase the accuracy score. The project has provided a great understanding of Transformer model in solving NLP task and practice our coding skill in building model from the scratch.  \n",
        "\n",
        "One of the problems we observed is that the validation accuracy quickly dropped after only a few epochs. It also shown that the model poorly performed on unseen data. This can link back to the limitation of our data input.In our Project 2, we will continue with this problem but making use of pre-trained models (i.e BERT, GPTs...) for further improvement."
      ]
    }
  ],
  "metadata": {
    "accelerator": "GPU",
    "colab": {
      "provenance": []
    },
    "gpuClass": "standard",
    "kernelspec": {
      "display_name": "Python 3",
      "name": "python3"
    },
    "language_info": {
      "name": "python"
    },
    "widgets": {
      "application/vnd.jupyter.widget-state+json": {
        "0342d102c1ea43c895062a51a5eeeced": {
          "model_module": "@jupyter-widgets/controls",
          "model_module_version": "1.5.0",
          "model_name": "HTMLModel",
          "state": {
            "_dom_classes": [],
            "_model_module": "@jupyter-widgets/controls",
            "_model_module_version": "1.5.0",
            "_model_name": "HTMLModel",
            "_view_count": null,
            "_view_module": "@jupyter-widgets/controls",
            "_view_module_version": "1.5.0",
            "_view_name": "HTMLView",
            "description": "",
            "description_tooltip": null,
            "layout": "IPY_MODEL_1e5c230fa78b4b278e5e79221a8120ba",
            "placeholder": "​",
            "style": "IPY_MODEL_96ed0d59e1b74d79bfa3545f0da2b1e9",
            "value": "Downloading (…)solve/main/vocab.txt: 100%"
          }
        },
        "062a1437a6a546f9b840380e08fad2e7": {
          "model_module": "@jupyter-widgets/controls",
          "model_module_version": "1.5.0",
          "model_name": "FloatProgressModel",
          "state": {
            "_dom_classes": [],
            "_model_module": "@jupyter-widgets/controls",
            "_model_module_version": "1.5.0",
            "_model_name": "FloatProgressModel",
            "_view_count": null,
            "_view_module": "@jupyter-widgets/controls",
            "_view_module_version": "1.5.0",
            "_view_name": "ProgressView",
            "bar_style": "",
            "description": "",
            "description_tooltip": null,
            "layout": "IPY_MODEL_10f882e33edc468d8073384a4235b0a0",
            "max": 43525,
            "min": 0,
            "orientation": "horizontal",
            "style": "IPY_MODEL_c9fd615a91a841828485d78d82a081f8",
            "value": 43525
          }
        },
        "08e34b26ee834f49bf5118f05c70c6de": {
          "model_module": "@jupyter-widgets/controls",
          "model_module_version": "1.5.0",
          "model_name": "DescriptionStyleModel",
          "state": {
            "_model_module": "@jupyter-widgets/controls",
            "_model_module_version": "1.5.0",
            "_model_name": "DescriptionStyleModel",
            "_view_count": null,
            "_view_module": "@jupyter-widgets/base",
            "_view_module_version": "1.2.0",
            "_view_name": "StyleView",
            "description_width": ""
          }
        },
        "095a62d7f1ea4b31881955748a8a7c7e": {
          "model_module": "@jupyter-widgets/controls",
          "model_module_version": "1.5.0",
          "model_name": "DescriptionStyleModel",
          "state": {
            "_model_module": "@jupyter-widgets/controls",
            "_model_module_version": "1.5.0",
            "_model_name": "DescriptionStyleModel",
            "_view_count": null,
            "_view_module": "@jupyter-widgets/base",
            "_view_module_version": "1.2.0",
            "_view_name": "StyleView",
            "description_width": ""
          }
        },
        "10f882e33edc468d8073384a4235b0a0": {
          "model_module": "@jupyter-widgets/base",
          "model_module_version": "1.2.0",
          "model_name": "LayoutModel",
          "state": {
            "_model_module": "@jupyter-widgets/base",
            "_model_module_version": "1.2.0",
            "_model_name": "LayoutModel",
            "_view_count": null,
            "_view_module": "@jupyter-widgets/base",
            "_view_module_version": "1.2.0",
            "_view_name": "LayoutView",
            "align_content": null,
            "align_items": null,
            "align_self": null,
            "border": null,
            "bottom": null,
            "display": null,
            "flex": null,
            "flex_flow": null,
            "grid_area": null,
            "grid_auto_columns": null,
            "grid_auto_flow": null,
            "grid_auto_rows": null,
            "grid_column": null,
            "grid_gap": null,
            "grid_row": null,
            "grid_template_areas": null,
            "grid_template_columns": null,
            "grid_template_rows": null,
            "height": null,
            "justify_content": null,
            "justify_items": null,
            "left": null,
            "margin": null,
            "max_height": null,
            "max_width": null,
            "min_height": null,
            "min_width": null,
            "object_fit": null,
            "object_position": null,
            "order": null,
            "overflow": null,
            "overflow_x": null,
            "overflow_y": null,
            "padding": null,
            "right": null,
            "top": null,
            "visibility": null,
            "width": null
          }
        },
        "16a5146f63ba46ac8972268cac528df6": {
          "model_module": "@jupyter-widgets/controls",
          "model_module_version": "1.5.0",
          "model_name": "DescriptionStyleModel",
          "state": {
            "_model_module": "@jupyter-widgets/controls",
            "_model_module_version": "1.5.0",
            "_model_name": "DescriptionStyleModel",
            "_view_count": null,
            "_view_module": "@jupyter-widgets/base",
            "_view_module_version": "1.2.0",
            "_view_name": "StyleView",
            "description_width": ""
          }
        },
        "16fd471bcc6845e4b3f30b8335489bfb": {
          "model_module": "@jupyter-widgets/base",
          "model_module_version": "1.2.0",
          "model_name": "LayoutModel",
          "state": {
            "_model_module": "@jupyter-widgets/base",
            "_model_module_version": "1.2.0",
            "_model_name": "LayoutModel",
            "_view_count": null,
            "_view_module": "@jupyter-widgets/base",
            "_view_module_version": "1.2.0",
            "_view_name": "LayoutView",
            "align_content": null,
            "align_items": null,
            "align_self": null,
            "border": null,
            "bottom": null,
            "display": null,
            "flex": null,
            "flex_flow": null,
            "grid_area": null,
            "grid_auto_columns": null,
            "grid_auto_flow": null,
            "grid_auto_rows": null,
            "grid_column": null,
            "grid_gap": null,
            "grid_row": null,
            "grid_template_areas": null,
            "grid_template_columns": null,
            "grid_template_rows": null,
            "height": null,
            "justify_content": null,
            "justify_items": null,
            "left": null,
            "margin": null,
            "max_height": null,
            "max_width": null,
            "min_height": null,
            "min_width": null,
            "object_fit": null,
            "object_position": null,
            "order": null,
            "overflow": null,
            "overflow_x": null,
            "overflow_y": null,
            "padding": null,
            "right": null,
            "top": null,
            "visibility": null,
            "width": null
          }
        },
        "17c7dbab7648478d91edb64f8f96d897": {
          "model_module": "@jupyter-widgets/controls",
          "model_module_version": "1.5.0",
          "model_name": "DescriptionStyleModel",
          "state": {
            "_model_module": "@jupyter-widgets/controls",
            "_model_module_version": "1.5.0",
            "_model_name": "DescriptionStyleModel",
            "_view_count": null,
            "_view_module": "@jupyter-widgets/base",
            "_view_module_version": "1.2.0",
            "_view_name": "StyleView",
            "description_width": ""
          }
        },
        "1916096996df4da1be3825e5868dfd61": {
          "model_module": "@jupyter-widgets/base",
          "model_module_version": "1.2.0",
          "model_name": "LayoutModel",
          "state": {
            "_model_module": "@jupyter-widgets/base",
            "_model_module_version": "1.2.0",
            "_model_name": "LayoutModel",
            "_view_count": null,
            "_view_module": "@jupyter-widgets/base",
            "_view_module_version": "1.2.0",
            "_view_name": "LayoutView",
            "align_content": null,
            "align_items": null,
            "align_self": null,
            "border": null,
            "bottom": null,
            "display": null,
            "flex": null,
            "flex_flow": null,
            "grid_area": null,
            "grid_auto_columns": null,
            "grid_auto_flow": null,
            "grid_auto_rows": null,
            "grid_column": null,
            "grid_gap": null,
            "grid_row": null,
            "grid_template_areas": null,
            "grid_template_columns": null,
            "grid_template_rows": null,
            "height": null,
            "justify_content": null,
            "justify_items": null,
            "left": null,
            "margin": null,
            "max_height": null,
            "max_width": null,
            "min_height": null,
            "min_width": null,
            "object_fit": null,
            "object_position": null,
            "order": null,
            "overflow": null,
            "overflow_x": null,
            "overflow_y": null,
            "padding": null,
            "right": null,
            "top": null,
            "visibility": null,
            "width": null
          }
        },
        "194a12db0d1247afb468b723c23c740c": {
          "model_module": "@jupyter-widgets/controls",
          "model_module_version": "1.5.0",
          "model_name": "FloatProgressModel",
          "state": {
            "_dom_classes": [],
            "_model_module": "@jupyter-widgets/controls",
            "_model_module_version": "1.5.0",
            "_model_name": "FloatProgressModel",
            "_view_count": null,
            "_view_module": "@jupyter-widgets/controls",
            "_view_module_version": "1.5.0",
            "_view_name": "ProgressView",
            "bar_style": "success",
            "description": "",
            "description_tooltip": null,
            "layout": "IPY_MODEL_20d3e868deb64e529da0a6173c78f35c",
            "max": 28,
            "min": 0,
            "orientation": "horizontal",
            "style": "IPY_MODEL_832b86767dd446a4b016a1440c9b05f2",
            "value": 28
          }
        },
        "1d4c004186524ce8ad5e1474443b4439": {
          "model_module": "@jupyter-widgets/controls",
          "model_module_version": "1.5.0",
          "model_name": "HTMLModel",
          "state": {
            "_dom_classes": [],
            "_model_module": "@jupyter-widgets/controls",
            "_model_module_version": "1.5.0",
            "_model_name": "HTMLModel",
            "_view_count": null,
            "_view_module": "@jupyter-widgets/controls",
            "_view_module_version": "1.5.0",
            "_view_name": "HTMLView",
            "description": "",
            "description_tooltip": null,
            "layout": "IPY_MODEL_ef5dfb7c07f441adb996d6cb091a9965",
            "placeholder": "​",
            "style": "IPY_MODEL_16a5146f63ba46ac8972268cac528df6",
            "value": "Map: 100%"
          }
        },
        "1e5c230fa78b4b278e5e79221a8120ba": {
          "model_module": "@jupyter-widgets/base",
          "model_module_version": "1.2.0",
          "model_name": "LayoutModel",
          "state": {
            "_model_module": "@jupyter-widgets/base",
            "_model_module_version": "1.2.0",
            "_model_name": "LayoutModel",
            "_view_count": null,
            "_view_module": "@jupyter-widgets/base",
            "_view_module_version": "1.2.0",
            "_view_name": "LayoutView",
            "align_content": null,
            "align_items": null,
            "align_self": null,
            "border": null,
            "bottom": null,
            "display": null,
            "flex": null,
            "flex_flow": null,
            "grid_area": null,
            "grid_auto_columns": null,
            "grid_auto_flow": null,
            "grid_auto_rows": null,
            "grid_column": null,
            "grid_gap": null,
            "grid_row": null,
            "grid_template_areas": null,
            "grid_template_columns": null,
            "grid_template_rows": null,
            "height": null,
            "justify_content": null,
            "justify_items": null,
            "left": null,
            "margin": null,
            "max_height": null,
            "max_width": null,
            "min_height": null,
            "min_width": null,
            "object_fit": null,
            "object_position": null,
            "order": null,
            "overflow": null,
            "overflow_x": null,
            "overflow_y": null,
            "padding": null,
            "right": null,
            "top": null,
            "visibility": null,
            "width": null
          }
        },
        "1e7b4f7265784a4ab2bcc98c03be79e9": {
          "model_module": "@jupyter-widgets/base",
          "model_module_version": "1.2.0",
          "model_name": "LayoutModel",
          "state": {
            "_model_module": "@jupyter-widgets/base",
            "_model_module_version": "1.2.0",
            "_model_name": "LayoutModel",
            "_view_count": null,
            "_view_module": "@jupyter-widgets/base",
            "_view_module_version": "1.2.0",
            "_view_name": "LayoutView",
            "align_content": null,
            "align_items": null,
            "align_self": null,
            "border": null,
            "bottom": null,
            "display": null,
            "flex": null,
            "flex_flow": null,
            "grid_area": null,
            "grid_auto_columns": null,
            "grid_auto_flow": null,
            "grid_auto_rows": null,
            "grid_column": null,
            "grid_gap": null,
            "grid_row": null,
            "grid_template_areas": null,
            "grid_template_columns": null,
            "grid_template_rows": null,
            "height": null,
            "justify_content": null,
            "justify_items": null,
            "left": null,
            "margin": null,
            "max_height": null,
            "max_width": null,
            "min_height": null,
            "min_width": null,
            "object_fit": null,
            "object_position": null,
            "order": null,
            "overflow": null,
            "overflow_x": null,
            "overflow_y": null,
            "padding": null,
            "right": null,
            "top": null,
            "visibility": null,
            "width": null
          }
        },
        "1ee669ba1c8747e39cda3653f9d7afe5": {
          "model_module": "@jupyter-widgets/controls",
          "model_module_version": "1.5.0",
          "model_name": "HBoxModel",
          "state": {
            "_dom_classes": [],
            "_model_module": "@jupyter-widgets/controls",
            "_model_module_version": "1.5.0",
            "_model_name": "HBoxModel",
            "_view_count": null,
            "_view_module": "@jupyter-widgets/controls",
            "_view_module_version": "1.5.0",
            "_view_name": "HBoxView",
            "box_style": "",
            "children": [
              "IPY_MODEL_0342d102c1ea43c895062a51a5eeeced",
              "IPY_MODEL_7062f3a68d7c48d48b02a3787088fdf1",
              "IPY_MODEL_2efbc6fd532e43219d5eee5350d6c714"
            ],
            "layout": "IPY_MODEL_f575cfcdf448491c92d4a18123eb4e19"
          }
        },
        "20673a8c3cd846a7aab8634f3e0161cb": {
          "model_module": "@jupyter-widgets/controls",
          "model_module_version": "1.5.0",
          "model_name": "HBoxModel",
          "state": {
            "_dom_classes": [],
            "_model_module": "@jupyter-widgets/controls",
            "_model_module_version": "1.5.0",
            "_model_name": "HBoxModel",
            "_view_count": null,
            "_view_module": "@jupyter-widgets/controls",
            "_view_module_version": "1.5.0",
            "_view_name": "HBoxView",
            "box_style": "",
            "children": [
              "IPY_MODEL_afbfa07669894859a44df4442479dfb8",
              "IPY_MODEL_194a12db0d1247afb468b723c23c740c",
              "IPY_MODEL_c8c2c52094b548d292208fa8a186e1fe"
            ],
            "layout": "IPY_MODEL_bb4d68666df74d9b945112240a02d3ca"
          }
        },
        "20d3e868deb64e529da0a6173c78f35c": {
          "model_module": "@jupyter-widgets/base",
          "model_module_version": "1.2.0",
          "model_name": "LayoutModel",
          "state": {
            "_model_module": "@jupyter-widgets/base",
            "_model_module_version": "1.2.0",
            "_model_name": "LayoutModel",
            "_view_count": null,
            "_view_module": "@jupyter-widgets/base",
            "_view_module_version": "1.2.0",
            "_view_name": "LayoutView",
            "align_content": null,
            "align_items": null,
            "align_self": null,
            "border": null,
            "bottom": null,
            "display": null,
            "flex": null,
            "flex_flow": null,
            "grid_area": null,
            "grid_auto_columns": null,
            "grid_auto_flow": null,
            "grid_auto_rows": null,
            "grid_column": null,
            "grid_gap": null,
            "grid_row": null,
            "grid_template_areas": null,
            "grid_template_columns": null,
            "grid_template_rows": null,
            "height": null,
            "justify_content": null,
            "justify_items": null,
            "left": null,
            "margin": null,
            "max_height": null,
            "max_width": null,
            "min_height": null,
            "min_width": null,
            "object_fit": null,
            "object_position": null,
            "order": null,
            "overflow": null,
            "overflow_x": null,
            "overflow_y": null,
            "padding": null,
            "right": null,
            "top": null,
            "visibility": null,
            "width": null
          }
        },
        "2efbc6fd532e43219d5eee5350d6c714": {
          "model_module": "@jupyter-widgets/controls",
          "model_module_version": "1.5.0",
          "model_name": "HTMLModel",
          "state": {
            "_dom_classes": [],
            "_model_module": "@jupyter-widgets/controls",
            "_model_module_version": "1.5.0",
            "_model_name": "HTMLModel",
            "_view_count": null,
            "_view_module": "@jupyter-widgets/controls",
            "_view_module_version": "1.5.0",
            "_view_name": "HTMLView",
            "description": "",
            "description_tooltip": null,
            "layout": "IPY_MODEL_ce8031cc1f1e406d9d545abdbf399c82",
            "placeholder": "​",
            "style": "IPY_MODEL_08e34b26ee834f49bf5118f05c70c6de",
            "value": " 232k/232k [00:00&lt;00:00, 856kB/s]"
          }
        },
        "346f0e34090f4dc6955005898f768f35": {
          "model_module": "@jupyter-widgets/controls",
          "model_module_version": "1.5.0",
          "model_name": "HTMLModel",
          "state": {
            "_dom_classes": [],
            "_model_module": "@jupyter-widgets/controls",
            "_model_module_version": "1.5.0",
            "_model_name": "HTMLModel",
            "_view_count": null,
            "_view_module": "@jupyter-widgets/controls",
            "_view_module_version": "1.5.0",
            "_view_name": "HTMLView",
            "description": "",
            "description_tooltip": null,
            "layout": "IPY_MODEL_d8722f2416034fd899a00cf1008acdba",
            "placeholder": "​",
            "style": "IPY_MODEL_ee660ff8f6794847b621671e4114674d",
            "value": " 466k/466k [00:00&lt;00:00, 1.36MB/s]"
          }
        },
        "3e0b957134ff4a7d9b1bb625c3951a0b": {
          "model_module": "@jupyter-widgets/base",
          "model_module_version": "1.2.0",
          "model_name": "LayoutModel",
          "state": {
            "_model_module": "@jupyter-widgets/base",
            "_model_module_version": "1.2.0",
            "_model_name": "LayoutModel",
            "_view_count": null,
            "_view_module": "@jupyter-widgets/base",
            "_view_module_version": "1.2.0",
            "_view_name": "LayoutView",
            "align_content": null,
            "align_items": null,
            "align_self": null,
            "border": null,
            "bottom": null,
            "display": null,
            "flex": null,
            "flex_flow": null,
            "grid_area": null,
            "grid_auto_columns": null,
            "grid_auto_flow": null,
            "grid_auto_rows": null,
            "grid_column": null,
            "grid_gap": null,
            "grid_row": null,
            "grid_template_areas": null,
            "grid_template_columns": null,
            "grid_template_rows": null,
            "height": null,
            "justify_content": null,
            "justify_items": null,
            "left": null,
            "margin": null,
            "max_height": null,
            "max_width": null,
            "min_height": null,
            "min_width": null,
            "object_fit": null,
            "object_position": null,
            "order": null,
            "overflow": null,
            "overflow_x": null,
            "overflow_y": null,
            "padding": null,
            "right": null,
            "top": null,
            "visibility": null,
            "width": null
          }
        },
        "4684133d21754f999e5c2b5c1ff0118a": {
          "model_module": "@jupyter-widgets/base",
          "model_module_version": "1.2.0",
          "model_name": "LayoutModel",
          "state": {
            "_model_module": "@jupyter-widgets/base",
            "_model_module_version": "1.2.0",
            "_model_name": "LayoutModel",
            "_view_count": null,
            "_view_module": "@jupyter-widgets/base",
            "_view_module_version": "1.2.0",
            "_view_name": "LayoutView",
            "align_content": null,
            "align_items": null,
            "align_self": null,
            "border": null,
            "bottom": null,
            "display": null,
            "flex": null,
            "flex_flow": null,
            "grid_area": null,
            "grid_auto_columns": null,
            "grid_auto_flow": null,
            "grid_auto_rows": null,
            "grid_column": null,
            "grid_gap": null,
            "grid_row": null,
            "grid_template_areas": null,
            "grid_template_columns": null,
            "grid_template_rows": null,
            "height": null,
            "justify_content": null,
            "justify_items": null,
            "left": null,
            "margin": null,
            "max_height": null,
            "max_width": null,
            "min_height": null,
            "min_width": null,
            "object_fit": null,
            "object_position": null,
            "order": null,
            "overflow": null,
            "overflow_x": null,
            "overflow_y": null,
            "padding": null,
            "right": null,
            "top": null,
            "visibility": null,
            "width": null
          }
        },
        "4989368206d94601bb5970138fdabac3": {
          "model_module": "@jupyter-widgets/base",
          "model_module_version": "1.2.0",
          "model_name": "LayoutModel",
          "state": {
            "_model_module": "@jupyter-widgets/base",
            "_model_module_version": "1.2.0",
            "_model_name": "LayoutModel",
            "_view_count": null,
            "_view_module": "@jupyter-widgets/base",
            "_view_module_version": "1.2.0",
            "_view_name": "LayoutView",
            "align_content": null,
            "align_items": null,
            "align_self": null,
            "border": null,
            "bottom": null,
            "display": null,
            "flex": null,
            "flex_flow": null,
            "grid_area": null,
            "grid_auto_columns": null,
            "grid_auto_flow": null,
            "grid_auto_rows": null,
            "grid_column": null,
            "grid_gap": null,
            "grid_row": null,
            "grid_template_areas": null,
            "grid_template_columns": null,
            "grid_template_rows": null,
            "height": null,
            "justify_content": null,
            "justify_items": null,
            "left": null,
            "margin": null,
            "max_height": null,
            "max_width": null,
            "min_height": null,
            "min_width": null,
            "object_fit": null,
            "object_position": null,
            "order": null,
            "overflow": null,
            "overflow_x": null,
            "overflow_y": null,
            "padding": null,
            "right": null,
            "top": null,
            "visibility": "hidden",
            "width": null
          }
        },
        "4a1220e5d4194b46b7a143239223e900": {
          "model_module": "@jupyter-widgets/controls",
          "model_module_version": "1.5.0",
          "model_name": "HBoxModel",
          "state": {
            "_dom_classes": [],
            "_model_module": "@jupyter-widgets/controls",
            "_model_module_version": "1.5.0",
            "_model_name": "HBoxModel",
            "_view_count": null,
            "_view_module": "@jupyter-widgets/controls",
            "_view_module_version": "1.5.0",
            "_view_name": "HBoxView",
            "box_style": "",
            "children": [
              "IPY_MODEL_b17db1bebc6b4cf1bd92b5ed529e88a4",
              "IPY_MODEL_c308f42d53ba47d585a4458736835101",
              "IPY_MODEL_e3f9e23c2f9f419fa5ff411a2c922ace"
            ],
            "layout": "IPY_MODEL_8998dacd2ccd4ca68531aa813141d1e5"
          }
        },
        "54a3ea9314134f4f8fb61d31399049c7": {
          "model_module": "@jupyter-widgets/base",
          "model_module_version": "1.2.0",
          "model_name": "LayoutModel",
          "state": {
            "_model_module": "@jupyter-widgets/base",
            "_model_module_version": "1.2.0",
            "_model_name": "LayoutModel",
            "_view_count": null,
            "_view_module": "@jupyter-widgets/base",
            "_view_module_version": "1.2.0",
            "_view_name": "LayoutView",
            "align_content": null,
            "align_items": null,
            "align_self": null,
            "border": null,
            "bottom": null,
            "display": null,
            "flex": null,
            "flex_flow": null,
            "grid_area": null,
            "grid_auto_columns": null,
            "grid_auto_flow": null,
            "grid_auto_rows": null,
            "grid_column": null,
            "grid_gap": null,
            "grid_row": null,
            "grid_template_areas": null,
            "grid_template_columns": null,
            "grid_template_rows": null,
            "height": null,
            "justify_content": null,
            "justify_items": null,
            "left": null,
            "margin": null,
            "max_height": null,
            "max_width": null,
            "min_height": null,
            "min_width": null,
            "object_fit": null,
            "object_position": null,
            "order": null,
            "overflow": null,
            "overflow_x": null,
            "overflow_y": null,
            "padding": null,
            "right": null,
            "top": null,
            "visibility": null,
            "width": null
          }
        },
        "5616f44d1c6147d6b7514fb972dfbbb3": {
          "model_module": "@jupyter-widgets/controls",
          "model_module_version": "1.5.0",
          "model_name": "ProgressStyleModel",
          "state": {
            "_model_module": "@jupyter-widgets/controls",
            "_model_module_version": "1.5.0",
            "_model_name": "ProgressStyleModel",
            "_view_count": null,
            "_view_module": "@jupyter-widgets/base",
            "_view_module_version": "1.2.0",
            "_view_name": "StyleView",
            "bar_color": null,
            "description_width": ""
          }
        },
        "5889133691634d12a325616817847dcb": {
          "model_module": "@jupyter-widgets/controls",
          "model_module_version": "1.5.0",
          "model_name": "HTMLModel",
          "state": {
            "_dom_classes": [],
            "_model_module": "@jupyter-widgets/controls",
            "_model_module_version": "1.5.0",
            "_model_name": "HTMLModel",
            "_view_count": null,
            "_view_module": "@jupyter-widgets/controls",
            "_view_module_version": "1.5.0",
            "_view_name": "HTMLView",
            "description": "",
            "description_tooltip": null,
            "layout": "IPY_MODEL_3e0b957134ff4a7d9b1bb625c3951a0b",
            "placeholder": "​",
            "style": "IPY_MODEL_17c7dbab7648478d91edb64f8f96d897",
            "value": " 139000/139278 [00:17&lt;00:00, 14541.44 examples/s]"
          }
        },
        "623570d1592144b7a1b1784705d61ad8": {
          "model_module": "@jupyter-widgets/controls",
          "model_module_version": "1.5.0",
          "model_name": "ProgressStyleModel",
          "state": {
            "_model_module": "@jupyter-widgets/controls",
            "_model_module_version": "1.5.0",
            "_model_name": "ProgressStyleModel",
            "_view_count": null,
            "_view_module": "@jupyter-widgets/base",
            "_view_module_version": "1.2.0",
            "_view_name": "StyleView",
            "bar_color": null,
            "description_width": ""
          }
        },
        "66363eb0404347a892f2573c0a684506": {
          "model_module": "@jupyter-widgets/controls",
          "model_module_version": "1.5.0",
          "model_name": "DescriptionStyleModel",
          "state": {
            "_model_module": "@jupyter-widgets/controls",
            "_model_module_version": "1.5.0",
            "_model_name": "DescriptionStyleModel",
            "_view_count": null,
            "_view_module": "@jupyter-widgets/base",
            "_view_module_version": "1.2.0",
            "_view_name": "StyleView",
            "description_width": ""
          }
        },
        "7062f3a68d7c48d48b02a3787088fdf1": {
          "model_module": "@jupyter-widgets/controls",
          "model_module_version": "1.5.0",
          "model_name": "FloatProgressModel",
          "state": {
            "_dom_classes": [],
            "_model_module": "@jupyter-widgets/controls",
            "_model_module_version": "1.5.0",
            "_model_name": "FloatProgressModel",
            "_view_count": null,
            "_view_module": "@jupyter-widgets/controls",
            "_view_module_version": "1.5.0",
            "_view_name": "ProgressView",
            "bar_style": "success",
            "description": "",
            "description_tooltip": null,
            "layout": "IPY_MODEL_16fd471bcc6845e4b3f30b8335489bfb",
            "max": 231508,
            "min": 0,
            "orientation": "horizontal",
            "style": "IPY_MODEL_5616f44d1c6147d6b7514fb972dfbbb3",
            "value": 231508
          }
        },
        "7a873033235c4925a0ff21f749a0e72d": {
          "model_module": "@jupyter-widgets/controls",
          "model_module_version": "1.5.0",
          "model_name": "HTMLModel",
          "state": {
            "_dom_classes": [],
            "_model_module": "@jupyter-widgets/controls",
            "_model_module_version": "1.5.0",
            "_model_name": "HTMLModel",
            "_view_count": null,
            "_view_module": "@jupyter-widgets/controls",
            "_view_module_version": "1.5.0",
            "_view_name": "HTMLView",
            "description": "",
            "description_tooltip": null,
            "layout": "IPY_MODEL_f180367918b34fd1a2e88e68ab4c5952",
            "placeholder": "​",
            "style": "IPY_MODEL_8dfec93a758d49378d034d408bd99728",
            "value": "Downloading (…)/main/tokenizer.json: 100%"
          }
        },
        "832b86767dd446a4b016a1440c9b05f2": {
          "model_module": "@jupyter-widgets/controls",
          "model_module_version": "1.5.0",
          "model_name": "ProgressStyleModel",
          "state": {
            "_model_module": "@jupyter-widgets/controls",
            "_model_module_version": "1.5.0",
            "_model_name": "ProgressStyleModel",
            "_view_count": null,
            "_view_module": "@jupyter-widgets/base",
            "_view_module_version": "1.2.0",
            "_view_name": "StyleView",
            "bar_color": null,
            "description_width": ""
          }
        },
        "852eefbd544e4b3dbbec048eea3cb92d": {
          "model_module": "@jupyter-widgets/controls",
          "model_module_version": "1.5.0",
          "model_name": "DescriptionStyleModel",
          "state": {
            "_model_module": "@jupyter-widgets/controls",
            "_model_module_version": "1.5.0",
            "_model_name": "DescriptionStyleModel",
            "_view_count": null,
            "_view_module": "@jupyter-widgets/base",
            "_view_module_version": "1.2.0",
            "_view_name": "StyleView",
            "description_width": ""
          }
        },
        "88837465c45947abbcc5aa595194b3f7": {
          "model_module": "@jupyter-widgets/base",
          "model_module_version": "1.2.0",
          "model_name": "LayoutModel",
          "state": {
            "_model_module": "@jupyter-widgets/base",
            "_model_module_version": "1.2.0",
            "_model_name": "LayoutModel",
            "_view_count": null,
            "_view_module": "@jupyter-widgets/base",
            "_view_module_version": "1.2.0",
            "_view_name": "LayoutView",
            "align_content": null,
            "align_items": null,
            "align_self": null,
            "border": null,
            "bottom": null,
            "display": null,
            "flex": null,
            "flex_flow": null,
            "grid_area": null,
            "grid_auto_columns": null,
            "grid_auto_flow": null,
            "grid_auto_rows": null,
            "grid_column": null,
            "grid_gap": null,
            "grid_row": null,
            "grid_template_areas": null,
            "grid_template_columns": null,
            "grid_template_rows": null,
            "height": null,
            "justify_content": null,
            "justify_items": null,
            "left": null,
            "margin": null,
            "max_height": null,
            "max_width": null,
            "min_height": null,
            "min_width": null,
            "object_fit": null,
            "object_position": null,
            "order": null,
            "overflow": null,
            "overflow_x": null,
            "overflow_y": null,
            "padding": null,
            "right": null,
            "top": null,
            "visibility": "hidden",
            "width": null
          }
        },
        "8998dacd2ccd4ca68531aa813141d1e5": {
          "model_module": "@jupyter-widgets/base",
          "model_module_version": "1.2.0",
          "model_name": "LayoutModel",
          "state": {
            "_model_module": "@jupyter-widgets/base",
            "_model_module_version": "1.2.0",
            "_model_name": "LayoutModel",
            "_view_count": null,
            "_view_module": "@jupyter-widgets/base",
            "_view_module_version": "1.2.0",
            "_view_name": "LayoutView",
            "align_content": null,
            "align_items": null,
            "align_self": null,
            "border": null,
            "bottom": null,
            "display": null,
            "flex": null,
            "flex_flow": null,
            "grid_area": null,
            "grid_auto_columns": null,
            "grid_auto_flow": null,
            "grid_auto_rows": null,
            "grid_column": null,
            "grid_gap": null,
            "grid_row": null,
            "grid_template_areas": null,
            "grid_template_columns": null,
            "grid_template_rows": null,
            "height": null,
            "justify_content": null,
            "justify_items": null,
            "left": null,
            "margin": null,
            "max_height": null,
            "max_width": null,
            "min_height": null,
            "min_width": null,
            "object_fit": null,
            "object_position": null,
            "order": null,
            "overflow": null,
            "overflow_x": null,
            "overflow_y": null,
            "padding": null,
            "right": null,
            "top": null,
            "visibility": null,
            "width": null
          }
        },
        "8a8ad712bc9040ca9d2f4c198c52143f": {
          "model_module": "@jupyter-widgets/controls",
          "model_module_version": "1.5.0",
          "model_name": "DescriptionStyleModel",
          "state": {
            "_model_module": "@jupyter-widgets/controls",
            "_model_module_version": "1.5.0",
            "_model_name": "DescriptionStyleModel",
            "_view_count": null,
            "_view_module": "@jupyter-widgets/base",
            "_view_module_version": "1.2.0",
            "_view_name": "StyleView",
            "description_width": ""
          }
        },
        "8b5304d3adae443da1ebbf7c425f258c": {
          "model_module": "@jupyter-widgets/controls",
          "model_module_version": "1.5.0",
          "model_name": "FloatProgressModel",
          "state": {
            "_dom_classes": [],
            "_model_module": "@jupyter-widgets/controls",
            "_model_module_version": "1.5.0",
            "_model_name": "FloatProgressModel",
            "_view_count": null,
            "_view_module": "@jupyter-widgets/controls",
            "_view_module_version": "1.5.0",
            "_view_name": "ProgressView",
            "bar_style": "",
            "description": "",
            "description_tooltip": null,
            "layout": "IPY_MODEL_1916096996df4da1be3825e5868dfd61",
            "max": 139278,
            "min": 0,
            "orientation": "horizontal",
            "style": "IPY_MODEL_623570d1592144b7a1b1784705d61ad8",
            "value": 139278
          }
        },
        "8dfec93a758d49378d034d408bd99728": {
          "model_module": "@jupyter-widgets/controls",
          "model_module_version": "1.5.0",
          "model_name": "DescriptionStyleModel",
          "state": {
            "_model_module": "@jupyter-widgets/controls",
            "_model_module_version": "1.5.0",
            "_model_name": "DescriptionStyleModel",
            "_view_count": null,
            "_view_module": "@jupyter-widgets/base",
            "_view_module_version": "1.2.0",
            "_view_name": "StyleView",
            "description_width": ""
          }
        },
        "95a03329b8574e258bf07c4f6f2865d5": {
          "model_module": "@jupyter-widgets/controls",
          "model_module_version": "1.5.0",
          "model_name": "ProgressStyleModel",
          "state": {
            "_model_module": "@jupyter-widgets/controls",
            "_model_module_version": "1.5.0",
            "_model_name": "ProgressStyleModel",
            "_view_count": null,
            "_view_module": "@jupyter-widgets/base",
            "_view_module_version": "1.2.0",
            "_view_name": "StyleView",
            "bar_color": null,
            "description_width": ""
          }
        },
        "96ed0d59e1b74d79bfa3545f0da2b1e9": {
          "model_module": "@jupyter-widgets/controls",
          "model_module_version": "1.5.0",
          "model_name": "DescriptionStyleModel",
          "state": {
            "_model_module": "@jupyter-widgets/controls",
            "_model_module_version": "1.5.0",
            "_model_name": "DescriptionStyleModel",
            "_view_count": null,
            "_view_module": "@jupyter-widgets/base",
            "_view_module_version": "1.2.0",
            "_view_name": "StyleView",
            "description_width": ""
          }
        },
        "9b3ff9ecedce470fa8b63006017eeb94": {
          "model_module": "@jupyter-widgets/base",
          "model_module_version": "1.2.0",
          "model_name": "LayoutModel",
          "state": {
            "_model_module": "@jupyter-widgets/base",
            "_model_module_version": "1.2.0",
            "_model_name": "LayoutModel",
            "_view_count": null,
            "_view_module": "@jupyter-widgets/base",
            "_view_module_version": "1.2.0",
            "_view_name": "LayoutView",
            "align_content": null,
            "align_items": null,
            "align_self": null,
            "border": null,
            "bottom": null,
            "display": null,
            "flex": null,
            "flex_flow": null,
            "grid_area": null,
            "grid_auto_columns": null,
            "grid_auto_flow": null,
            "grid_auto_rows": null,
            "grid_column": null,
            "grid_gap": null,
            "grid_row": null,
            "grid_template_areas": null,
            "grid_template_columns": null,
            "grid_template_rows": null,
            "height": null,
            "justify_content": null,
            "justify_items": null,
            "left": null,
            "margin": null,
            "max_height": null,
            "max_width": null,
            "min_height": null,
            "min_width": null,
            "object_fit": null,
            "object_position": null,
            "order": null,
            "overflow": null,
            "overflow_x": null,
            "overflow_y": null,
            "padding": null,
            "right": null,
            "top": null,
            "visibility": null,
            "width": null
          }
        },
        "a601d8aab9df46c486e22c81f727d3aa": {
          "model_module": "@jupyter-widgets/controls",
          "model_module_version": "1.5.0",
          "model_name": "DescriptionStyleModel",
          "state": {
            "_model_module": "@jupyter-widgets/controls",
            "_model_module_version": "1.5.0",
            "_model_name": "DescriptionStyleModel",
            "_view_count": null,
            "_view_module": "@jupyter-widgets/base",
            "_view_module_version": "1.2.0",
            "_view_name": "StyleView",
            "description_width": ""
          }
        },
        "a97531139f134c829611416fcfcef8e1": {
          "model_module": "@jupyter-widgets/controls",
          "model_module_version": "1.5.0",
          "model_name": "ProgressStyleModel",
          "state": {
            "_model_module": "@jupyter-widgets/controls",
            "_model_module_version": "1.5.0",
            "_model_name": "ProgressStyleModel",
            "_view_count": null,
            "_view_module": "@jupyter-widgets/base",
            "_view_module_version": "1.2.0",
            "_view_name": "StyleView",
            "bar_color": null,
            "description_width": ""
          }
        },
        "afbfa07669894859a44df4442479dfb8": {
          "model_module": "@jupyter-widgets/controls",
          "model_module_version": "1.5.0",
          "model_name": "HTMLModel",
          "state": {
            "_dom_classes": [],
            "_model_module": "@jupyter-widgets/controls",
            "_model_module_version": "1.5.0",
            "_model_name": "HTMLModel",
            "_view_count": null,
            "_view_module": "@jupyter-widgets/controls",
            "_view_module_version": "1.5.0",
            "_view_name": "HTMLView",
            "description": "",
            "description_tooltip": null,
            "layout": "IPY_MODEL_b5c93194a1974585b071977b0a61294b",
            "placeholder": "​",
            "style": "IPY_MODEL_8a8ad712bc9040ca9d2f4c198c52143f",
            "value": "Downloading (…)okenizer_config.json: 100%"
          }
        },
        "b0c29729cad1454788cd58c884a9c5c1": {
          "model_module": "@jupyter-widgets/base",
          "model_module_version": "1.2.0",
          "model_name": "LayoutModel",
          "state": {
            "_model_module": "@jupyter-widgets/base",
            "_model_module_version": "1.2.0",
            "_model_name": "LayoutModel",
            "_view_count": null,
            "_view_module": "@jupyter-widgets/base",
            "_view_module_version": "1.2.0",
            "_view_name": "LayoutView",
            "align_content": null,
            "align_items": null,
            "align_self": null,
            "border": null,
            "bottom": null,
            "display": null,
            "flex": null,
            "flex_flow": null,
            "grid_area": null,
            "grid_auto_columns": null,
            "grid_auto_flow": null,
            "grid_auto_rows": null,
            "grid_column": null,
            "grid_gap": null,
            "grid_row": null,
            "grid_template_areas": null,
            "grid_template_columns": null,
            "grid_template_rows": null,
            "height": null,
            "justify_content": null,
            "justify_items": null,
            "left": null,
            "margin": null,
            "max_height": null,
            "max_width": null,
            "min_height": null,
            "min_width": null,
            "object_fit": null,
            "object_position": null,
            "order": null,
            "overflow": null,
            "overflow_x": null,
            "overflow_y": null,
            "padding": null,
            "right": null,
            "top": null,
            "visibility": null,
            "width": null
          }
        },
        "b17db1bebc6b4cf1bd92b5ed529e88a4": {
          "model_module": "@jupyter-widgets/controls",
          "model_module_version": "1.5.0",
          "model_name": "HTMLModel",
          "state": {
            "_dom_classes": [],
            "_model_module": "@jupyter-widgets/controls",
            "_model_module_version": "1.5.0",
            "_model_name": "HTMLModel",
            "_view_count": null,
            "_view_module": "@jupyter-widgets/controls",
            "_view_module_version": "1.5.0",
            "_view_name": "HTMLView",
            "description": "",
            "description_tooltip": null,
            "layout": "IPY_MODEL_54a3ea9314134f4f8fb61d31399049c7",
            "placeholder": "​",
            "style": "IPY_MODEL_a601d8aab9df46c486e22c81f727d3aa",
            "value": "Downloading (…)lve/main/config.json: 100%"
          }
        },
        "b5c93194a1974585b071977b0a61294b": {
          "model_module": "@jupyter-widgets/base",
          "model_module_version": "1.2.0",
          "model_name": "LayoutModel",
          "state": {
            "_model_module": "@jupyter-widgets/base",
            "_model_module_version": "1.2.0",
            "_model_name": "LayoutModel",
            "_view_count": null,
            "_view_module": "@jupyter-widgets/base",
            "_view_module_version": "1.2.0",
            "_view_name": "LayoutView",
            "align_content": null,
            "align_items": null,
            "align_self": null,
            "border": null,
            "bottom": null,
            "display": null,
            "flex": null,
            "flex_flow": null,
            "grid_area": null,
            "grid_auto_columns": null,
            "grid_auto_flow": null,
            "grid_auto_rows": null,
            "grid_column": null,
            "grid_gap": null,
            "grid_row": null,
            "grid_template_areas": null,
            "grid_template_columns": null,
            "grid_template_rows": null,
            "height": null,
            "justify_content": null,
            "justify_items": null,
            "left": null,
            "margin": null,
            "max_height": null,
            "max_width": null,
            "min_height": null,
            "min_width": null,
            "object_fit": null,
            "object_position": null,
            "order": null,
            "overflow": null,
            "overflow_x": null,
            "overflow_y": null,
            "padding": null,
            "right": null,
            "top": null,
            "visibility": null,
            "width": null
          }
        },
        "bb4d68666df74d9b945112240a02d3ca": {
          "model_module": "@jupyter-widgets/base",
          "model_module_version": "1.2.0",
          "model_name": "LayoutModel",
          "state": {
            "_model_module": "@jupyter-widgets/base",
            "_model_module_version": "1.2.0",
            "_model_name": "LayoutModel",
            "_view_count": null,
            "_view_module": "@jupyter-widgets/base",
            "_view_module_version": "1.2.0",
            "_view_name": "LayoutView",
            "align_content": null,
            "align_items": null,
            "align_self": null,
            "border": null,
            "bottom": null,
            "display": null,
            "flex": null,
            "flex_flow": null,
            "grid_area": null,
            "grid_auto_columns": null,
            "grid_auto_flow": null,
            "grid_auto_rows": null,
            "grid_column": null,
            "grid_gap": null,
            "grid_row": null,
            "grid_template_areas": null,
            "grid_template_columns": null,
            "grid_template_rows": null,
            "height": null,
            "justify_content": null,
            "justify_items": null,
            "left": null,
            "margin": null,
            "max_height": null,
            "max_width": null,
            "min_height": null,
            "min_width": null,
            "object_fit": null,
            "object_position": null,
            "order": null,
            "overflow": null,
            "overflow_x": null,
            "overflow_y": null,
            "padding": null,
            "right": null,
            "top": null,
            "visibility": null,
            "width": null
          }
        },
        "bc8ffb6e1a374ae7961359bb7ddec6db": {
          "model_module": "@jupyter-widgets/controls",
          "model_module_version": "1.5.0",
          "model_name": "HTMLModel",
          "state": {
            "_dom_classes": [],
            "_model_module": "@jupyter-widgets/controls",
            "_model_module_version": "1.5.0",
            "_model_name": "HTMLModel",
            "_view_count": null,
            "_view_module": "@jupyter-widgets/controls",
            "_view_module_version": "1.5.0",
            "_view_name": "HTMLView",
            "description": "",
            "description_tooltip": null,
            "layout": "IPY_MODEL_f7c7d7ed6a194161a9324a7998172188",
            "placeholder": "​",
            "style": "IPY_MODEL_095a62d7f1ea4b31881955748a8a7c7e",
            "value": "Map:  99%"
          }
        },
        "bce66adc44254f1da36d1c27878170c5": {
          "model_module": "@jupyter-widgets/base",
          "model_module_version": "1.2.0",
          "model_name": "LayoutModel",
          "state": {
            "_model_module": "@jupyter-widgets/base",
            "_model_module_version": "1.2.0",
            "_model_name": "LayoutModel",
            "_view_count": null,
            "_view_module": "@jupyter-widgets/base",
            "_view_module_version": "1.2.0",
            "_view_name": "LayoutView",
            "align_content": null,
            "align_items": null,
            "align_self": null,
            "border": null,
            "bottom": null,
            "display": null,
            "flex": null,
            "flex_flow": null,
            "grid_area": null,
            "grid_auto_columns": null,
            "grid_auto_flow": null,
            "grid_auto_rows": null,
            "grid_column": null,
            "grid_gap": null,
            "grid_row": null,
            "grid_template_areas": null,
            "grid_template_columns": null,
            "grid_template_rows": null,
            "height": null,
            "justify_content": null,
            "justify_items": null,
            "left": null,
            "margin": null,
            "max_height": null,
            "max_width": null,
            "min_height": null,
            "min_width": null,
            "object_fit": null,
            "object_position": null,
            "order": null,
            "overflow": null,
            "overflow_x": null,
            "overflow_y": null,
            "padding": null,
            "right": null,
            "top": null,
            "visibility": null,
            "width": null
          }
        },
        "c308f42d53ba47d585a4458736835101": {
          "model_module": "@jupyter-widgets/controls",
          "model_module_version": "1.5.0",
          "model_name": "FloatProgressModel",
          "state": {
            "_dom_classes": [],
            "_model_module": "@jupyter-widgets/controls",
            "_model_module_version": "1.5.0",
            "_model_name": "FloatProgressModel",
            "_view_count": null,
            "_view_module": "@jupyter-widgets/controls",
            "_view_module_version": "1.5.0",
            "_view_name": "ProgressView",
            "bar_style": "success",
            "description": "",
            "description_tooltip": null,
            "layout": "IPY_MODEL_4684133d21754f999e5c2b5c1ff0118a",
            "max": 483,
            "min": 0,
            "orientation": "horizontal",
            "style": "IPY_MODEL_95a03329b8574e258bf07c4f6f2865d5",
            "value": 483
          }
        },
        "c8c2c52094b548d292208fa8a186e1fe": {
          "model_module": "@jupyter-widgets/controls",
          "model_module_version": "1.5.0",
          "model_name": "HTMLModel",
          "state": {
            "_dom_classes": [],
            "_model_module": "@jupyter-widgets/controls",
            "_model_module_version": "1.5.0",
            "_model_name": "HTMLModel",
            "_view_count": null,
            "_view_module": "@jupyter-widgets/controls",
            "_view_module_version": "1.5.0",
            "_view_name": "HTMLView",
            "description": "",
            "description_tooltip": null,
            "layout": "IPY_MODEL_b0c29729cad1454788cd58c884a9c5c1",
            "placeholder": "​",
            "style": "IPY_MODEL_66363eb0404347a892f2573c0a684506",
            "value": " 28.0/28.0 [00:00&lt;00:00, 298B/s]"
          }
        },
        "c9fd615a91a841828485d78d82a081f8": {
          "model_module": "@jupyter-widgets/controls",
          "model_module_version": "1.5.0",
          "model_name": "ProgressStyleModel",
          "state": {
            "_model_module": "@jupyter-widgets/controls",
            "_model_module_version": "1.5.0",
            "_model_name": "ProgressStyleModel",
            "_view_count": null,
            "_view_module": "@jupyter-widgets/base",
            "_view_module_version": "1.2.0",
            "_view_name": "StyleView",
            "bar_color": null,
            "description_width": ""
          }
        },
        "ce8031cc1f1e406d9d545abdbf399c82": {
          "model_module": "@jupyter-widgets/base",
          "model_module_version": "1.2.0",
          "model_name": "LayoutModel",
          "state": {
            "_model_module": "@jupyter-widgets/base",
            "_model_module_version": "1.2.0",
            "_model_name": "LayoutModel",
            "_view_count": null,
            "_view_module": "@jupyter-widgets/base",
            "_view_module_version": "1.2.0",
            "_view_name": "LayoutView",
            "align_content": null,
            "align_items": null,
            "align_self": null,
            "border": null,
            "bottom": null,
            "display": null,
            "flex": null,
            "flex_flow": null,
            "grid_area": null,
            "grid_auto_columns": null,
            "grid_auto_flow": null,
            "grid_auto_rows": null,
            "grid_column": null,
            "grid_gap": null,
            "grid_row": null,
            "grid_template_areas": null,
            "grid_template_columns": null,
            "grid_template_rows": null,
            "height": null,
            "justify_content": null,
            "justify_items": null,
            "left": null,
            "margin": null,
            "max_height": null,
            "max_width": null,
            "min_height": null,
            "min_width": null,
            "object_fit": null,
            "object_position": null,
            "order": null,
            "overflow": null,
            "overflow_x": null,
            "overflow_y": null,
            "padding": null,
            "right": null,
            "top": null,
            "visibility": null,
            "width": null
          }
        },
        "cf01de633f2c43b4b97b16a34c73375e": {
          "model_module": "@jupyter-widgets/controls",
          "model_module_version": "1.5.0",
          "model_name": "HBoxModel",
          "state": {
            "_dom_classes": [],
            "_model_module": "@jupyter-widgets/controls",
            "_model_module_version": "1.5.0",
            "_model_name": "HBoxModel",
            "_view_count": null,
            "_view_module": "@jupyter-widgets/controls",
            "_view_module_version": "1.5.0",
            "_view_name": "HBoxView",
            "box_style": "",
            "children": [
              "IPY_MODEL_7a873033235c4925a0ff21f749a0e72d",
              "IPY_MODEL_f938864289df4ac2abdeb2f5c43b6fad",
              "IPY_MODEL_346f0e34090f4dc6955005898f768f35"
            ],
            "layout": "IPY_MODEL_e1c3a871696847efb834123194cc40c0"
          }
        },
        "d20353fcd51c45889d919a62b5971d91": {
          "model_module": "@jupyter-widgets/controls",
          "model_module_version": "1.5.0",
          "model_name": "HTMLModel",
          "state": {
            "_dom_classes": [],
            "_model_module": "@jupyter-widgets/controls",
            "_model_module_version": "1.5.0",
            "_model_name": "HTMLModel",
            "_view_count": null,
            "_view_module": "@jupyter-widgets/controls",
            "_view_module_version": "1.5.0",
            "_view_name": "HTMLView",
            "description": "",
            "description_tooltip": null,
            "layout": "IPY_MODEL_1e7b4f7265784a4ab2bcc98c03be79e9",
            "placeholder": "​",
            "style": "IPY_MODEL_f43291bdccb9479b9bcb87536dbc7e1a",
            "value": " 43000/43525 [00:05&lt;00:00, 7905.56 examples/s]"
          }
        },
        "d8722f2416034fd899a00cf1008acdba": {
          "model_module": "@jupyter-widgets/base",
          "model_module_version": "1.2.0",
          "model_name": "LayoutModel",
          "state": {
            "_model_module": "@jupyter-widgets/base",
            "_model_module_version": "1.2.0",
            "_model_name": "LayoutModel",
            "_view_count": null,
            "_view_module": "@jupyter-widgets/base",
            "_view_module_version": "1.2.0",
            "_view_name": "LayoutView",
            "align_content": null,
            "align_items": null,
            "align_self": null,
            "border": null,
            "bottom": null,
            "display": null,
            "flex": null,
            "flex_flow": null,
            "grid_area": null,
            "grid_auto_columns": null,
            "grid_auto_flow": null,
            "grid_auto_rows": null,
            "grid_column": null,
            "grid_gap": null,
            "grid_row": null,
            "grid_template_areas": null,
            "grid_template_columns": null,
            "grid_template_rows": null,
            "height": null,
            "justify_content": null,
            "justify_items": null,
            "left": null,
            "margin": null,
            "max_height": null,
            "max_width": null,
            "min_height": null,
            "min_width": null,
            "object_fit": null,
            "object_position": null,
            "order": null,
            "overflow": null,
            "overflow_x": null,
            "overflow_y": null,
            "padding": null,
            "right": null,
            "top": null,
            "visibility": null,
            "width": null
          }
        },
        "e1c3a871696847efb834123194cc40c0": {
          "model_module": "@jupyter-widgets/base",
          "model_module_version": "1.2.0",
          "model_name": "LayoutModel",
          "state": {
            "_model_module": "@jupyter-widgets/base",
            "_model_module_version": "1.2.0",
            "_model_name": "LayoutModel",
            "_view_count": null,
            "_view_module": "@jupyter-widgets/base",
            "_view_module_version": "1.2.0",
            "_view_name": "LayoutView",
            "align_content": null,
            "align_items": null,
            "align_self": null,
            "border": null,
            "bottom": null,
            "display": null,
            "flex": null,
            "flex_flow": null,
            "grid_area": null,
            "grid_auto_columns": null,
            "grid_auto_flow": null,
            "grid_auto_rows": null,
            "grid_column": null,
            "grid_gap": null,
            "grid_row": null,
            "grid_template_areas": null,
            "grid_template_columns": null,
            "grid_template_rows": null,
            "height": null,
            "justify_content": null,
            "justify_items": null,
            "left": null,
            "margin": null,
            "max_height": null,
            "max_width": null,
            "min_height": null,
            "min_width": null,
            "object_fit": null,
            "object_position": null,
            "order": null,
            "overflow": null,
            "overflow_x": null,
            "overflow_y": null,
            "padding": null,
            "right": null,
            "top": null,
            "visibility": null,
            "width": null
          }
        },
        "e3f9e23c2f9f419fa5ff411a2c922ace": {
          "model_module": "@jupyter-widgets/controls",
          "model_module_version": "1.5.0",
          "model_name": "HTMLModel",
          "state": {
            "_dom_classes": [],
            "_model_module": "@jupyter-widgets/controls",
            "_model_module_version": "1.5.0",
            "_model_name": "HTMLModel",
            "_view_count": null,
            "_view_module": "@jupyter-widgets/controls",
            "_view_module_version": "1.5.0",
            "_view_name": "HTMLView",
            "description": "",
            "description_tooltip": null,
            "layout": "IPY_MODEL_bce66adc44254f1da36d1c27878170c5",
            "placeholder": "​",
            "style": "IPY_MODEL_852eefbd544e4b3dbbec048eea3cb92d",
            "value": " 483/483 [00:00&lt;00:00, 13.6kB/s]"
          }
        },
        "e67256270ec94a7b835ce7230e69657e": {
          "model_module": "@jupyter-widgets/controls",
          "model_module_version": "1.5.0",
          "model_name": "HBoxModel",
          "state": {
            "_dom_classes": [],
            "_model_module": "@jupyter-widgets/controls",
            "_model_module_version": "1.5.0",
            "_model_name": "HBoxModel",
            "_view_count": null,
            "_view_module": "@jupyter-widgets/controls",
            "_view_module_version": "1.5.0",
            "_view_name": "HBoxView",
            "box_style": "",
            "children": [
              "IPY_MODEL_1d4c004186524ce8ad5e1474443b4439",
              "IPY_MODEL_8b5304d3adae443da1ebbf7c425f258c",
              "IPY_MODEL_5889133691634d12a325616817847dcb"
            ],
            "layout": "IPY_MODEL_88837465c45947abbcc5aa595194b3f7"
          }
        },
        "ee660ff8f6794847b621671e4114674d": {
          "model_module": "@jupyter-widgets/controls",
          "model_module_version": "1.5.0",
          "model_name": "DescriptionStyleModel",
          "state": {
            "_model_module": "@jupyter-widgets/controls",
            "_model_module_version": "1.5.0",
            "_model_name": "DescriptionStyleModel",
            "_view_count": null,
            "_view_module": "@jupyter-widgets/base",
            "_view_module_version": "1.2.0",
            "_view_name": "StyleView",
            "description_width": ""
          }
        },
        "ef5dfb7c07f441adb996d6cb091a9965": {
          "model_module": "@jupyter-widgets/base",
          "model_module_version": "1.2.0",
          "model_name": "LayoutModel",
          "state": {
            "_model_module": "@jupyter-widgets/base",
            "_model_module_version": "1.2.0",
            "_model_name": "LayoutModel",
            "_view_count": null,
            "_view_module": "@jupyter-widgets/base",
            "_view_module_version": "1.2.0",
            "_view_name": "LayoutView",
            "align_content": null,
            "align_items": null,
            "align_self": null,
            "border": null,
            "bottom": null,
            "display": null,
            "flex": null,
            "flex_flow": null,
            "grid_area": null,
            "grid_auto_columns": null,
            "grid_auto_flow": null,
            "grid_auto_rows": null,
            "grid_column": null,
            "grid_gap": null,
            "grid_row": null,
            "grid_template_areas": null,
            "grid_template_columns": null,
            "grid_template_rows": null,
            "height": null,
            "justify_content": null,
            "justify_items": null,
            "left": null,
            "margin": null,
            "max_height": null,
            "max_width": null,
            "min_height": null,
            "min_width": null,
            "object_fit": null,
            "object_position": null,
            "order": null,
            "overflow": null,
            "overflow_x": null,
            "overflow_y": null,
            "padding": null,
            "right": null,
            "top": null,
            "visibility": null,
            "width": null
          }
        },
        "f180367918b34fd1a2e88e68ab4c5952": {
          "model_module": "@jupyter-widgets/base",
          "model_module_version": "1.2.0",
          "model_name": "LayoutModel",
          "state": {
            "_model_module": "@jupyter-widgets/base",
            "_model_module_version": "1.2.0",
            "_model_name": "LayoutModel",
            "_view_count": null,
            "_view_module": "@jupyter-widgets/base",
            "_view_module_version": "1.2.0",
            "_view_name": "LayoutView",
            "align_content": null,
            "align_items": null,
            "align_self": null,
            "border": null,
            "bottom": null,
            "display": null,
            "flex": null,
            "flex_flow": null,
            "grid_area": null,
            "grid_auto_columns": null,
            "grid_auto_flow": null,
            "grid_auto_rows": null,
            "grid_column": null,
            "grid_gap": null,
            "grid_row": null,
            "grid_template_areas": null,
            "grid_template_columns": null,
            "grid_template_rows": null,
            "height": null,
            "justify_content": null,
            "justify_items": null,
            "left": null,
            "margin": null,
            "max_height": null,
            "max_width": null,
            "min_height": null,
            "min_width": null,
            "object_fit": null,
            "object_position": null,
            "order": null,
            "overflow": null,
            "overflow_x": null,
            "overflow_y": null,
            "padding": null,
            "right": null,
            "top": null,
            "visibility": null,
            "width": null
          }
        },
        "f43291bdccb9479b9bcb87536dbc7e1a": {
          "model_module": "@jupyter-widgets/controls",
          "model_module_version": "1.5.0",
          "model_name": "DescriptionStyleModel",
          "state": {
            "_model_module": "@jupyter-widgets/controls",
            "_model_module_version": "1.5.0",
            "_model_name": "DescriptionStyleModel",
            "_view_count": null,
            "_view_module": "@jupyter-widgets/base",
            "_view_module_version": "1.2.0",
            "_view_name": "StyleView",
            "description_width": ""
          }
        },
        "f575cfcdf448491c92d4a18123eb4e19": {
          "model_module": "@jupyter-widgets/base",
          "model_module_version": "1.2.0",
          "model_name": "LayoutModel",
          "state": {
            "_model_module": "@jupyter-widgets/base",
            "_model_module_version": "1.2.0",
            "_model_name": "LayoutModel",
            "_view_count": null,
            "_view_module": "@jupyter-widgets/base",
            "_view_module_version": "1.2.0",
            "_view_name": "LayoutView",
            "align_content": null,
            "align_items": null,
            "align_self": null,
            "border": null,
            "bottom": null,
            "display": null,
            "flex": null,
            "flex_flow": null,
            "grid_area": null,
            "grid_auto_columns": null,
            "grid_auto_flow": null,
            "grid_auto_rows": null,
            "grid_column": null,
            "grid_gap": null,
            "grid_row": null,
            "grid_template_areas": null,
            "grid_template_columns": null,
            "grid_template_rows": null,
            "height": null,
            "justify_content": null,
            "justify_items": null,
            "left": null,
            "margin": null,
            "max_height": null,
            "max_width": null,
            "min_height": null,
            "min_width": null,
            "object_fit": null,
            "object_position": null,
            "order": null,
            "overflow": null,
            "overflow_x": null,
            "overflow_y": null,
            "padding": null,
            "right": null,
            "top": null,
            "visibility": null,
            "width": null
          }
        },
        "f7c7d7ed6a194161a9324a7998172188": {
          "model_module": "@jupyter-widgets/base",
          "model_module_version": "1.2.0",
          "model_name": "LayoutModel",
          "state": {
            "_model_module": "@jupyter-widgets/base",
            "_model_module_version": "1.2.0",
            "_model_name": "LayoutModel",
            "_view_count": null,
            "_view_module": "@jupyter-widgets/base",
            "_view_module_version": "1.2.0",
            "_view_name": "LayoutView",
            "align_content": null,
            "align_items": null,
            "align_self": null,
            "border": null,
            "bottom": null,
            "display": null,
            "flex": null,
            "flex_flow": null,
            "grid_area": null,
            "grid_auto_columns": null,
            "grid_auto_flow": null,
            "grid_auto_rows": null,
            "grid_column": null,
            "grid_gap": null,
            "grid_row": null,
            "grid_template_areas": null,
            "grid_template_columns": null,
            "grid_template_rows": null,
            "height": null,
            "justify_content": null,
            "justify_items": null,
            "left": null,
            "margin": null,
            "max_height": null,
            "max_width": null,
            "min_height": null,
            "min_width": null,
            "object_fit": null,
            "object_position": null,
            "order": null,
            "overflow": null,
            "overflow_x": null,
            "overflow_y": null,
            "padding": null,
            "right": null,
            "top": null,
            "visibility": null,
            "width": null
          }
        },
        "f938864289df4ac2abdeb2f5c43b6fad": {
          "model_module": "@jupyter-widgets/controls",
          "model_module_version": "1.5.0",
          "model_name": "FloatProgressModel",
          "state": {
            "_dom_classes": [],
            "_model_module": "@jupyter-widgets/controls",
            "_model_module_version": "1.5.0",
            "_model_name": "FloatProgressModel",
            "_view_count": null,
            "_view_module": "@jupyter-widgets/controls",
            "_view_module_version": "1.5.0",
            "_view_name": "ProgressView",
            "bar_style": "success",
            "description": "",
            "description_tooltip": null,
            "layout": "IPY_MODEL_9b3ff9ecedce470fa8b63006017eeb94",
            "max": 466062,
            "min": 0,
            "orientation": "horizontal",
            "style": "IPY_MODEL_a97531139f134c829611416fcfcef8e1",
            "value": 466062
          }
        },
        "f9dbbc6b570746f99ed9835e6a23967b": {
          "model_module": "@jupyter-widgets/controls",
          "model_module_version": "1.5.0",
          "model_name": "HBoxModel",
          "state": {
            "_dom_classes": [],
            "_model_module": "@jupyter-widgets/controls",
            "_model_module_version": "1.5.0",
            "_model_name": "HBoxModel",
            "_view_count": null,
            "_view_module": "@jupyter-widgets/controls",
            "_view_module_version": "1.5.0",
            "_view_name": "HBoxView",
            "box_style": "",
            "children": [
              "IPY_MODEL_bc8ffb6e1a374ae7961359bb7ddec6db",
              "IPY_MODEL_062a1437a6a546f9b840380e08fad2e7",
              "IPY_MODEL_d20353fcd51c45889d919a62b5971d91"
            ],
            "layout": "IPY_MODEL_4989368206d94601bb5970138fdabac3"
          }
        }
      }
    }
  },
  "nbformat": 4,
  "nbformat_minor": 0
}
